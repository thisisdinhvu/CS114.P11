{
 "cells": [
  {
   "cell_type": "code",
   "execution_count": 7,
   "metadata": {
    "_cell_guid": "b1076dfc-b9ad-4769-8c92-a6c4dae69d19",
    "_uuid": "8f2839f25d086af736a60e9eeb907d3b93b6e0e5",
    "execution": {
     "iopub.execute_input": "2025-01-17T09:42:13.875042Z",
     "iopub.status.busy": "2025-01-17T09:42:13.874691Z",
     "iopub.status.idle": "2025-01-17T09:42:14.561738Z",
     "shell.execute_reply": "2025-01-17T09:42:14.560724Z",
     "shell.execute_reply.started": "2025-01-17T09:42:13.875017Z"
    },
    "trusted": true
   },
   "outputs": [],
   "source": [
    "import os\n",
    "import pandas as pd\n",
    "import cv2\n",
    "from PIL import Image\n",
    "import matplotlib.pyplot as plt\n",
    "from collections import Counter"
   ]
  },
  {
   "cell_type": "code",
   "execution_count": 11,
   "metadata": {
    "execution": {
     "iopub.execute_input": "2025-01-17T09:42:38.786676Z",
     "iopub.status.busy": "2025-01-17T09:42:38.786369Z",
     "iopub.status.idle": "2025-01-17T09:42:38.790933Z",
     "shell.execute_reply": "2025-01-17T09:42:38.789874Z",
     "shell.execute_reply.started": "2025-01-17T09:42:38.786653Z"
    },
    "trusted": true
   },
   "outputs": [],
   "source": [
    "# Đường dẫn tới các file dữ liệu\n",
    "CAR_SPLIT_PATH = '/kaggle/input/cs114-ml/car_split/car_split'\n",
    "DUPLICATE_PATH = '/kaggle/input/cs114-ml/CheckDuplicate'\n",
    "IMAGES_PATH = '/kaggle/input/cs114-ml/dataset'"
   ]
  },
  {
   "cell_type": "code",
   "execution_count": null,
   "metadata": {
    "execution": {
     "iopub.execute_input": "2025-01-17T07:40:16.719364Z",
     "iopub.status.busy": "2025-01-17T07:40:16.718814Z",
     "iopub.status.idle": "2025-01-17T07:40:17.195658Z",
     "shell.execute_reply": "2025-01-17T07:40:17.194559Z",
     "shell.execute_reply.started": "2025-01-17T07:40:16.719326Z"
    },
    "trusted": true
   },
   "outputs": [],
   "source": [
    "import os\n",
    "import pandas as pd\n",
    "import matplotlib.pyplot as plt\n",
    "\n",
    "# Đường dẫn dữ liệu\n",
    "CAR_SPLIT_PATH = '/kaggle/input/cs114-ml/car_split/car_split/'\n",
    "IMAGES_PATH = '/kaggle/input/cs114-ml/dataset/'\n",
    "\n",
    "# Tải file train đầu tiên để kiểm tra\n",
    "train_csv = pd.read_csv(os.path.join(CAR_SPLIT_PATH, 'CarDataset-Splits-1-Train.csv'))\n",
    "\n",
    "# Tổng quan dataset\n",
    "print(f\"Tổng số ảnh trong tập train: {len(train_csv)}\")\n",
    "print(f\"Số nhãn khác nhau: {train_csv['CategoryID'].nunique()}\")\n",
    "print(f\"Phân phối nhãn:\\n{train_csv['CategoryID'].value_counts()}\")\n",
    "\n",
    "# Vẽ biểu đồ phân phối nhãn\n",
    "plt.figure(figsize=(10, 6))\n",
    "train_csv['CategoryID'].value_counts().sort_index().plot(kind='bar', color='skyblue')\n",
    "plt.title(\"Phân phối nhãn trong tập train\", fontsize=16)\n",
    "plt.xlabel(\"CategoryID\", fontsize=12)\n",
    "plt.ylabel(\"Số lượng ảnh\", fontsize=12)\n",
    "plt.grid(axis='y', linestyle='--', alpha=0.7)\n",
    "plt.show()"
   ]
  },
  {
   "cell_type": "code",
   "execution_count": null,
   "metadata": {
    "execution": {
     "iopub.execute_input": "2025-01-17T07:42:29.541612Z",
     "iopub.status.busy": "2025-01-17T07:42:29.541214Z",
     "iopub.status.idle": "2025-01-17T07:42:29.856090Z",
     "shell.execute_reply": "2025-01-17T07:42:29.855083Z",
     "shell.execute_reply.started": "2025-01-17T07:42:29.541585Z"
    },
    "trusted": true
   },
   "outputs": [],
   "source": [
    "import os\n",
    "import pandas as pd\n",
    "import matplotlib.pyplot as plt\n",
    "\n",
    "# Đường dẫn dữ liệu\n",
    "CAR_SPLIT_PATH = '/kaggle/input/cs114-ml/car_split/car_split/'\n",
    "IMAGES_PATH = '/kaggle/input/cs114-ml/dataset/'\n",
    "\n",
    "# Tải file train đầu tiên để kiểm tra\n",
    "train_csv_2 = pd.read_csv(os.path.join(CAR_SPLIT_PATH, 'CarDataset-Splits-2-Train.csv'))\n",
    "\n",
    "# Tổng quan dataset\n",
    "print(f\"Tổng số ảnh trong tập train: {len(train_csv_2)}\")\n",
    "print(f\"Số nhãn khác nhau: {train_csv_2['CategoryID'].nunique()}\")\n",
    "print(f\"Phân phối nhãn:\\n{train_csv_2['CategoryID'].value_counts()}\")\n",
    "\n",
    "# Vẽ biểu đồ phân phối nhãn\n",
    "plt.figure(figsize=(10, 6))\n",
    "train_csv['CategoryID'].value_counts().sort_index().plot(kind='bar', color='skyblue')\n",
    "plt.title(\"Phân phối nhãn trong tập train\", fontsize=16)\n",
    "plt.xlabel(\"CategoryID\", fontsize=12)\n",
    "plt.ylabel(\"Số lượng ảnh\", fontsize=12)\n",
    "plt.grid(axis='y', linestyle='--', alpha=0.7)\n",
    "plt.show()"
   ]
  },
  {
   "cell_type": "code",
   "execution_count": null,
   "metadata": {
    "execution": {
     "iopub.execute_input": "2025-01-17T07:43:11.983766Z",
     "iopub.status.busy": "2025-01-17T07:43:11.983381Z",
     "iopub.status.idle": "2025-01-17T07:43:12.256921Z",
     "shell.execute_reply": "2025-01-17T07:43:12.255676Z",
     "shell.execute_reply.started": "2025-01-17T07:43:11.983735Z"
    },
    "trusted": true
   },
   "outputs": [],
   "source": [
    "import os\n",
    "import pandas as pd\n",
    "import matplotlib.pyplot as plt\n",
    "\n",
    "# Đường dẫn dữ liệu\n",
    "CAR_SPLIT_PATH = '/kaggle/input/cs114-ml/car_split/car_split/'\n",
    "IMAGES_PATH = '/kaggle/input/cs114-ml/dataset/'\n",
    "\n",
    "# Tải file train đầu tiên để kiểm tra\n",
    "train_csv_3 = pd.read_csv(os.path.join(CAR_SPLIT_PATH, 'CarDataset-Splits-3-Train.csv'))\n",
    "\n",
    "# Tổng quan dataset\n",
    "print(f\"Tổng số ảnh trong tập train: {len(train_csv_3)}\")\n",
    "print(f\"Số nhãn khác nhau: {train_csv_3['CategoryID'].nunique()}\")\n",
    "print(f\"Phân phối nhãn:\\n{train_csv_3['CategoryID'].value_counts()}\")\n",
    "\n",
    "# Vẽ biểu đồ phân phối nhãn\n",
    "plt.figure(figsize=(10, 6))\n",
    "train_csv['CategoryID'].value_counts().sort_index().plot(kind='bar', color='skyblue')\n",
    "plt.title(\"Phân phối nhãn trong tập train\", fontsize=16)\n",
    "plt.xlabel(\"CategoryID\", fontsize=12)\n",
    "plt.ylabel(\"Số lượng ảnh\", fontsize=12)\n",
    "plt.grid(axis='y', linestyle='--', alpha=0.7)\n",
    "plt.show()"
   ]
  },
  {
   "cell_type": "code",
   "execution_count": null,
   "metadata": {
    "execution": {
     "iopub.execute_input": "2025-01-17T07:43:32.440459Z",
     "iopub.status.busy": "2025-01-17T07:43:32.440045Z",
     "iopub.status.idle": "2025-01-17T07:43:32.708376Z",
     "shell.execute_reply": "2025-01-17T07:43:32.707123Z",
     "shell.execute_reply.started": "2025-01-17T07:43:32.440425Z"
    },
    "trusted": true
   },
   "outputs": [],
   "source": [
    "import os\n",
    "import pandas as pd\n",
    "import matplotlib.pyplot as plt\n",
    "\n",
    "# Đường dẫn dữ liệu\n",
    "CAR_SPLIT_PATH = '/kaggle/input/cs114-ml/car_split/car_split/'\n",
    "IMAGES_PATH = '/kaggle/input/cs114-ml/dataset/'\n",
    "\n",
    "# Tải file train đầu tiên để kiểm tra\n",
    "train_csv_4 = pd.read_csv(os.path.join(CAR_SPLIT_PATH, 'CarDataset-Splits-4-Train.csv'))\n",
    "\n",
    "# Tổng quan dataset\n",
    "print(f\"Tổng số ảnh trong tập train: {len(train_csv_4)}\")\n",
    "print(f\"Số nhãn khác nhau: {train_csv_4['CategoryID'].nunique()}\")\n",
    "print(f\"Phân phối nhãn:\\n{train_csv_4['CategoryID'].value_counts()}\")\n",
    "\n",
    "# Vẽ biểu đồ phân phối nhãn\n",
    "plt.figure(figsize=(10, 6))\n",
    "train_csv['CategoryID'].value_counts().sort_index().plot(kind='bar', color='skyblue')\n",
    "plt.title(\"Phân phối nhãn trong tập train\", fontsize=16)\n",
    "plt.xlabel(\"CategoryID\", fontsize=12)\n",
    "plt.ylabel(\"Số lượng ảnh\", fontsize=12)\n",
    "plt.grid(axis='y', linestyle='--', alpha=0.7)\n",
    "plt.show()"
   ]
  },
  {
   "cell_type": "code",
   "execution_count": null,
   "metadata": {
    "execution": {
     "iopub.execute_input": "2025-01-17T07:43:42.873683Z",
     "iopub.status.busy": "2025-01-17T07:43:42.873288Z",
     "iopub.status.idle": "2025-01-17T07:43:43.141907Z",
     "shell.execute_reply": "2025-01-17T07:43:43.140509Z",
     "shell.execute_reply.started": "2025-01-17T07:43:42.873642Z"
    },
    "trusted": true
   },
   "outputs": [],
   "source": [
    "import os\n",
    "import pandas as pd\n",
    "import matplotlib.pyplot as plt\n",
    "\n",
    "# Đường dẫn dữ liệu\n",
    "CAR_SPLIT_PATH = '/kaggle/input/cs114-ml/car_split/car_split/'\n",
    "IMAGES_PATH = '/kaggle/input/cs114-ml/dataset/'\n",
    "\n",
    "# Tải file train đầu tiên để kiểm tra\n",
    "train_csv_5 = pd.read_csv(os.path.join(CAR_SPLIT_PATH, 'CarDataset-Splits-5-Train.csv'))\n",
    "\n",
    "# Tổng quan dataset\n",
    "print(f\"Tổng số ảnh trong tập train: {len(train_csv_5)}\")\n",
    "print(f\"Số nhãn khác nhau: {train_csv_5['CategoryID'].nunique()}\")\n",
    "print(f\"Phân phối nhãn:\\n{train_csv_5['CategoryID'].value_counts()}\")\n",
    "\n",
    "# Vẽ biểu đồ phân phối nhãn\n",
    "plt.figure(figsize=(10, 6))\n",
    "train_csv['CategoryID'].value_counts().sort_index().plot(kind='bar', color='skyblue')\n",
    "plt.title(\"Phân phối nhãn trong tập train\", fontsize=16)\n",
    "plt.xlabel(\"CategoryID\", fontsize=12)\n",
    "plt.ylabel(\"Số lượng ảnh\", fontsize=12)\n",
    "plt.grid(axis='y', linestyle='--', alpha=0.7)\n",
    "plt.show()"
   ]
  },
  {
   "cell_type": "code",
   "execution_count": null,
   "metadata": {
    "execution": {
     "iopub.execute_input": "2025-01-17T08:15:33.220828Z",
     "iopub.status.busy": "2025-01-17T08:15:33.220418Z",
     "iopub.status.idle": "2025-01-17T08:15:34.544104Z",
     "shell.execute_reply": "2025-01-17T08:15:34.542939Z",
     "shell.execute_reply.started": "2025-01-17T08:15:33.220799Z"
    },
    "trusted": true
   },
   "outputs": [],
   "source": [
    "import os\n",
    "import pandas as pd\n",
    "import matplotlib.pyplot as plt\n",
    "\n",
    "# Đường dẫn dữ liệu\n",
    "CAR_SPLIT_PATH = '/kaggle/input/cs114-ml/car_split/car_split/'\n",
    "\n",
    "# Duyệt qua 5 tệp Test\n",
    "for i in range(1, 6):\n",
    "    test_file = f'CarDataset-Splits-{i}-Test.csv'\n",
    "    test_csv_path = os.path.join(CAR_SPLIT_PATH, test_file)\n",
    "    \n",
    "    # Kiểm tra tệp có tồn tại không\n",
    "    if not os.path.exists(test_csv_path):\n",
    "        print(f\"Tệp {test_file} không tồn tại, bỏ qua.\")\n",
    "        continue\n",
    "\n",
    "    # Đọc file test\n",
    "    test_csv = pd.read_csv(test_csv_path)\n",
    "    \n",
    "    # Tổng quan dataset\n",
    "    print(f\"\\nTệp {test_file}:\")\n",
    "    print(f\"- Tổng số ảnh trong tập test: {len(test_csv)}\")\n",
    "    print(f\"- Số nhãn khác nhau: {test_csv['CategoryID'].nunique()}\")\n",
    "    print(f\"- Phân phối nhãn:\\n{test_csv['CategoryID'].value_counts()}\")\n",
    "    \n",
    "    # Vẽ biểu đồ phân phối nhãn\n",
    "    plt.figure(figsize=(10, 6))\n",
    "    test_csv['CategoryID'].value_counts().sort_index().plot(kind='bar', color='lightcoral')\n",
    "    plt.title(f\"Phân phối nhãn trong {test_file}\", fontsize=16)\n",
    "    plt.xlabel(\"CategoryID\", fontsize=12)\n",
    "    plt.ylabel(\"Số lượng ảnh\", fontsize=12)\n",
    "    plt.grid(axis='y', linestyle='--', alpha=0.7)\n",
    "    plt.show()\n"
   ]
  },
  {
   "cell_type": "code",
   "execution_count": null,
   "metadata": {
    "execution": {
     "iopub.execute_input": "2025-01-17T08:34:06.192349Z",
     "iopub.status.busy": "2025-01-17T08:34:06.191944Z",
     "iopub.status.idle": "2025-01-17T08:34:06.210585Z",
     "shell.execute_reply": "2025-01-17T08:34:06.209103Z",
     "shell.execute_reply.started": "2025-01-17T08:34:06.192317Z"
    },
    "trusted": true
   },
   "outputs": [],
   "source": [
    "# Đường dẫn file lỗi\n",
    "ERROR_PATH = '/kaggle/input/cs114-ml/ImageErrors.csv'\n",
    "\n",
    "# Khảo sát dữ liệu lỗi\n",
    "def survey_error_data():\n",
    "    error_csv = pd.read_csv(ERROR_PATH)\n",
    "    print(f\"Tổng số ảnh lỗi: {len(error_csv)}\")\n",
    "    print(f\"Tỷ lệ ảnh lỗi so với tổng số ảnh: {len(error_csv) / len(train_csv) * 100:.2f}%\")\n",
    "\n",
    "    # Hiển thị vài ảnh lỗi\n",
    "    print(\"\\nMột số ảnh lỗi:\")\n",
    "    for idx, row in error_csv.head(5).iterrows():\n",
    "        print(f\"- Đường dẫn ảnh lỗi: {row['ImageErrorFullPath']}\")\n",
    "\n",
    "# Gọi hàm\n",
    "survey_error_data()"
   ]
  },
  {
   "cell_type": "code",
   "execution_count": 8,
   "metadata": {
    "execution": {
     "iopub.execute_input": "2025-01-17T04:11:41.782586Z",
     "iopub.status.busy": "2025-01-17T04:11:41.782195Z",
     "iopub.status.idle": "2025-01-17T04:11:41.796276Z",
     "shell.execute_reply": "2025-01-17T04:11:41.795156Z",
     "shell.execute_reply.started": "2025-01-17T04:11:41.782558Z"
    },
    "trusted": true
   },
   "outputs": [],
   "source": [
    "# # 1. Tổng quan dữ liệu\n",
    "# print(\"Cấu trúc thư mục:\")\n",
    "# for root, dirs, files in os.walk(DATASET_PATH):\n",
    "#     print(root, len(files), \"files\")"
   ]
  },
  {
   "cell_type": "code",
   "execution_count": 12,
   "metadata": {
    "execution": {
     "iopub.execute_input": "2025-01-17T09:42:45.215540Z",
     "iopub.status.busy": "2025-01-17T09:42:45.215161Z",
     "iopub.status.idle": "2025-01-17T09:42:45.222284Z",
     "shell.execute_reply": "2025-01-17T09:42:45.220769Z",
     "shell.execute_reply.started": "2025-01-17T09:42:45.215519Z"
    },
    "trusted": true
   },
   "outputs": [],
   "source": [
    "def display_image(image_paths, title=\"Images\"):\n",
    "    num_images = len(image_paths)\n",
    "    num_cols = 4  # Số cặp trên mỗi hàng\n",
    "    num_rows = (num_images // 2 + num_cols - 1) // num_cols  # Tính số hàng cần thiết (mỗi cặp = 2 ảnh)\n",
    "\n",
    "    fig, axes = plt.subplots(num_rows, num_cols * 2, figsize=(40, num_rows * 4))  # Mỗi cặp là 2 ảnh\n",
    "    fig.suptitle(title, fontsize=16)\n",
    "\n",
    "    # Nếu chỉ có một hàng, axes cần được định dạng lại\n",
    "    if num_rows == 1:\n",
    "        axes = [axes]\n",
    "\n",
    "    # Hiển thị ảnh trên từng trục\n",
    "    for ax, img_path in zip(axes.flatten(), image_paths):\n",
    "        try:\n",
    "            image = Image.open(img_path)\n",
    "            ax.imshow(image)\n",
    "            ax.axis('off')\n",
    "        except Exception as e:\n",
    "            print(f\"Không thể mở ảnh {img_path}: {e}\")\n",
    "            ax.axis('off')  # Tắt trục nếu ảnh không hiển thị được\n",
    "\n",
    "    # Ẩn các trục dư thừa (nếu có)\n",
    "    for ax in axes.flatten()[len(image_paths):]:\n",
    "        ax.axis('off')\n",
    "\n",
    "    plt.tight_layout(rect=[0, 0, 1, 0.95])  # Điều chỉnh khoảng cách và tiêu đề\n",
    "    plt.show()\n"
   ]
  },
  {
   "cell_type": "code",
   "execution_count": 13,
   "metadata": {
    "execution": {
     "iopub.execute_input": "2025-01-17T09:42:46.892270Z",
     "iopub.status.busy": "2025-01-17T09:42:46.891917Z",
     "iopub.status.idle": "2025-01-17T09:42:46.899474Z",
     "shell.execute_reply": "2025-01-17T09:42:46.898185Z",
     "shell.execute_reply.started": "2025-01-17T09:42:46.892221Z"
    },
    "trusted": true
   },
   "outputs": [],
   "source": [
    "# Hàm khảo sát dữ liệu duplicate\n",
    "def survey_duplicate_data():\n",
    "    for i in range(1, 6):  # Có 5 file duplicate\n",
    "        # Đọc file duplicate\n",
    "        duplicate_file = f'CheckDuplicate_Train_{i}.csv'\n",
    "        duplicate_csv = pd.read_csv(os.path.join(DUPLICATE_PATH, duplicate_file), header=None, names=['ImagePath', 'ClusterID'])\n",
    "\n",
    "        print(f\"\\nKiểm tra duplicate {duplicate_file}:\")\n",
    "        print(f\"- Tổng số ảnh duplicate: {len(duplicate_csv)}\")\n",
    "\n",
    "        # Lấy 8 ClusterID đầu tiên (mỗi cluster là 1 nhóm trùng)\n",
    "        unique_clusters = duplicate_csv['ClusterID'].unique()[:32]\n",
    "        duplicate_paths = []\n",
    "\n",
    "        for cluster in unique_clusters:\n",
    "            cluster_data = duplicate_csv[duplicate_csv['ClusterID'] == cluster]\n",
    "            if len(cluster_data) >= 2:  # Chỉ lấy cluster có ít nhất 2 ảnh\n",
    "                img1_path = os.path.join(IMAGES_PATH, cluster_data.iloc[0]['ImagePath'])  # Ảnh đầu tiên\n",
    "                img2_path = os.path.join(IMAGES_PATH, cluster_data.iloc[1]['ImagePath'])  # Ảnh thứ hai\n",
    "                duplicate_paths.extend([img1_path, img2_path])\n",
    "\n",
    "        # Hiển thị 8 cặp ảnh trùng\n",
    "        if len(duplicate_paths) > 0:\n",
    "            display_image(duplicate_paths, title=f\"32 cặp duplicate từ {duplicate_file}\")\n",
    "        else:\n",
    "            print(\"Không đủ dữ liệu để hiển thị 32 cặp duplicate.\")"
   ]
  },
  {
   "cell_type": "code",
   "execution_count": null,
   "metadata": {
    "execution": {
     "iopub.execute_input": "2025-01-17T09:42:48.416392Z",
     "iopub.status.busy": "2025-01-17T09:42:48.416046Z",
     "iopub.status.idle": "2025-01-17T09:43:27.212099Z",
     "shell.execute_reply": "2025-01-17T09:43:27.211146Z",
     "shell.execute_reply.started": "2025-01-17T09:42:48.416369Z"
    },
    "trusted": true
   },
   "outputs": [],
   "source": [
    "print(\"\\nKhảo sát dữ liệu duplicate:\")\n",
    "survey_duplicate_data()"
   ]
  }
 ],
 "metadata": {
  "kaggle": {
   "accelerator": "none",
   "dataSources": [
    {
     "datasetId": 6444721,
     "sourceId": 10401084,
     "sourceType": "datasetVersion"
    }
   ],
   "dockerImageVersionId": 30839,
   "isGpuEnabled": false,
   "isInternetEnabled": true,
   "language": "python",
   "sourceType": "notebook"
  },
  "kernelspec": {
   "display_name": "Python 3",
   "language": "python",
   "name": "python3"
  },
  "language_info": {
   "codemirror_mode": {
    "name": "ipython",
    "version": 3
   },
   "file_extension": ".py",
   "mimetype": "text/x-python",
   "name": "python",
   "nbconvert_exporter": "python",
   "pygments_lexer": "ipython3",
   "version": "3.10.12"
  }
 },
 "nbformat": 4,
 "nbformat_minor": 4
}
