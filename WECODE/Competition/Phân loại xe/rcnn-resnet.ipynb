{
 "cells": [
  {
   "cell_type": "code",
   "execution_count": 1,
   "id": "f500c73d",
   "metadata": {
    "_cell_guid": "b1076dfc-b9ad-4769-8c92-a6c4dae69d19",
    "_uuid": "8f2839f25d086af736a60e9eeb907d3b93b6e0e5",
    "execution": {
     "iopub.execute_input": "2025-01-15T06:21:34.663893Z",
     "iopub.status.busy": "2025-01-15T06:21:34.663636Z",
     "iopub.status.idle": "2025-01-15T06:21:49.040898Z",
     "shell.execute_reply": "2025-01-15T06:21:49.039975Z"
    },
    "papermill": {
     "duration": 14.382884,
     "end_time": "2025-01-15T06:21:49.042490",
     "exception": false,
     "start_time": "2025-01-15T06:21:34.659606",
     "status": "completed"
    },
    "tags": []
   },
   "outputs": [],
   "source": [
    "import torch\n",
    "import torch.nn as nn\n",
    "import torch.optim as optim\n",
    "from torch.utils.data import Dataset, DataLoader\n",
    "from torchvision import transforms, models\n",
    "from torchvision.models.detection import fasterrcnn_resnet50_fpn\n",
    "from tqdm import tqdm\n",
    "from PIL import Image\n",
    "import numpy as np\n",
    "import matplotlib.pyplot as plt\n",
    "import os\n",
    "import pandas as pd\n",
    "import cv2\n",
    "from sklearn.model_selection import train_test_split\n",
    "from collections import Counter\n",
    "import seaborn as sns\n",
    "from sklearn.metrics import confusion_matrix, accuracy_score\n",
    "import tensorflow_hub as hub\n",
    "import tensorflow as tf\n",
    "import torch\n",
    "import torch.nn as nn\n",
    "import torch.optim as optim\n",
    "from torchvision import models, transforms\n",
    "from torch.utils.data import Dataset, DataLoader\n",
    "from sklearn.metrics import confusion_matrix, accuracy_score\n",
    "import matplotlib.pyplot as plt\n",
    "import seaborn as sns\n",
    "import numpy as np\n",
    "import os\n",
    "from tqdm import tqdm\n",
    "from sklearn.model_selection import train_test_split\n",
    "from collections import Counter\n",
    "import glob\n",
    "import seaborn as sns\n",
    "from sklearn.model_selection import KFold\n",
    "from torchvision.models.detection import fasterrcnn_resnet50_fpn\n",
    "from tqdm import tqdm"
   ]
  },
  {
   "cell_type": "code",
   "execution_count": 2,
   "id": "de18c37b",
   "metadata": {
    "execution": {
     "iopub.execute_input": "2025-01-15T06:21:49.049111Z",
     "iopub.status.busy": "2025-01-15T06:21:49.048631Z",
     "iopub.status.idle": "2025-01-15T06:21:49.052807Z",
     "shell.execute_reply": "2025-01-15T06:21:49.052061Z"
    },
    "papermill": {
     "duration": 0.008337,
     "end_time": "2025-01-15T06:21:49.053902",
     "exception": false,
     "start_time": "2025-01-15T06:21:49.045565",
     "status": "completed"
    },
    "tags": []
   },
   "outputs": [],
   "source": [
    "# mapping\n",
    "labels = {\n",
    "    'Others': 0,\n",
    "    'Honda': 1,\n",
    "    'Hyundai': 2,\n",
    "    'KIA': 3,\n",
    "    'Mazda': 4,\n",
    "    'Mitsubishi': 5,\n",
    "    'Suzuki': 6,\n",
    "    'Toyota': 7,\n",
    "    'VinFast': 8\n",
    "}\n",
    "reverse_map_labels = {\n",
    "    0: 'Others',\n",
    "    1: 'Honda',\n",
    "    2: 'Hyundai',\n",
    "    3: 'KIA',\n",
    "    4: 'Mazda',\n",
    "    5: 'Mitsubishi',\n",
    "    6: 'Suzuki',\n",
    "    7: 'Toyota',\n",
    "    8: 'VinFast'\n",
    "}"
   ]
  },
  {
   "cell_type": "code",
   "execution_count": 3,
   "id": "a950a07e",
   "metadata": {
    "execution": {
     "iopub.execute_input": "2025-01-15T06:21:49.059612Z",
     "iopub.status.busy": "2025-01-15T06:21:49.059415Z",
     "iopub.status.idle": "2025-01-15T06:21:51.020386Z",
     "shell.execute_reply": "2025-01-15T06:21:51.019519Z"
    },
    "papermill": {
     "duration": 1.965281,
     "end_time": "2025-01-15T06:21:51.021780",
     "exception": false,
     "start_time": "2025-01-15T06:21:49.056499",
     "status": "completed"
    },
    "tags": []
   },
   "outputs": [
    {
     "name": "stderr",
     "output_type": "stream",
     "text": [
      "/usr/local/lib/python3.10/dist-packages/torchvision/models/_utils.py:208: UserWarning: The parameter 'pretrained' is deprecated since 0.13 and may be removed in the future, please use 'weights' instead.\n",
      "  warnings.warn(\n",
      "/usr/local/lib/python3.10/dist-packages/torchvision/models/_utils.py:223: UserWarning: Arguments other than a weight enum or `None` for 'weights' are deprecated since 0.13 and may be removed in the future. The current behavior is equivalent to passing `weights=FasterRCNN_ResNet50_FPN_Weights.COCO_V1`. You can also use `weights=FasterRCNN_ResNet50_FPN_Weights.DEFAULT` to get the most up-to-date weights.\n",
      "  warnings.warn(msg)\n",
      "Downloading: \"https://download.pytorch.org/models/fasterrcnn_resnet50_fpn_coco-258fb6c6.pth\" to /root/.cache/torch/hub/checkpoints/fasterrcnn_resnet50_fpn_coco-258fb6c6.pth\n",
      "100%|██████████| 160M/160M [00:00<00:00, 206MB/s]\n"
     ]
    },
    {
     "data": {
      "text/plain": [
       "FasterRCNN(\n",
       "  (transform): GeneralizedRCNNTransform(\n",
       "      Normalize(mean=[0.485, 0.456, 0.406], std=[0.229, 0.224, 0.225])\n",
       "      Resize(min_size=(800,), max_size=1333, mode='bilinear')\n",
       "  )\n",
       "  (backbone): BackboneWithFPN(\n",
       "    (body): IntermediateLayerGetter(\n",
       "      (conv1): Conv2d(3, 64, kernel_size=(7, 7), stride=(2, 2), padding=(3, 3), bias=False)\n",
       "      (bn1): FrozenBatchNorm2d(64, eps=0.0)\n",
       "      (relu): ReLU(inplace=True)\n",
       "      (maxpool): MaxPool2d(kernel_size=3, stride=2, padding=1, dilation=1, ceil_mode=False)\n",
       "      (layer1): Sequential(\n",
       "        (0): Bottleneck(\n",
       "          (conv1): Conv2d(64, 64, kernel_size=(1, 1), stride=(1, 1), bias=False)\n",
       "          (bn1): FrozenBatchNorm2d(64, eps=0.0)\n",
       "          (conv2): Conv2d(64, 64, kernel_size=(3, 3), stride=(1, 1), padding=(1, 1), bias=False)\n",
       "          (bn2): FrozenBatchNorm2d(64, eps=0.0)\n",
       "          (conv3): Conv2d(64, 256, kernel_size=(1, 1), stride=(1, 1), bias=False)\n",
       "          (bn3): FrozenBatchNorm2d(256, eps=0.0)\n",
       "          (relu): ReLU(inplace=True)\n",
       "          (downsample): Sequential(\n",
       "            (0): Conv2d(64, 256, kernel_size=(1, 1), stride=(1, 1), bias=False)\n",
       "            (1): FrozenBatchNorm2d(256, eps=0.0)\n",
       "          )\n",
       "        )\n",
       "        (1): Bottleneck(\n",
       "          (conv1): Conv2d(256, 64, kernel_size=(1, 1), stride=(1, 1), bias=False)\n",
       "          (bn1): FrozenBatchNorm2d(64, eps=0.0)\n",
       "          (conv2): Conv2d(64, 64, kernel_size=(3, 3), stride=(1, 1), padding=(1, 1), bias=False)\n",
       "          (bn2): FrozenBatchNorm2d(64, eps=0.0)\n",
       "          (conv3): Conv2d(64, 256, kernel_size=(1, 1), stride=(1, 1), bias=False)\n",
       "          (bn3): FrozenBatchNorm2d(256, eps=0.0)\n",
       "          (relu): ReLU(inplace=True)\n",
       "        )\n",
       "        (2): Bottleneck(\n",
       "          (conv1): Conv2d(256, 64, kernel_size=(1, 1), stride=(1, 1), bias=False)\n",
       "          (bn1): FrozenBatchNorm2d(64, eps=0.0)\n",
       "          (conv2): Conv2d(64, 64, kernel_size=(3, 3), stride=(1, 1), padding=(1, 1), bias=False)\n",
       "          (bn2): FrozenBatchNorm2d(64, eps=0.0)\n",
       "          (conv3): Conv2d(64, 256, kernel_size=(1, 1), stride=(1, 1), bias=False)\n",
       "          (bn3): FrozenBatchNorm2d(256, eps=0.0)\n",
       "          (relu): ReLU(inplace=True)\n",
       "        )\n",
       "      )\n",
       "      (layer2): Sequential(\n",
       "        (0): Bottleneck(\n",
       "          (conv1): Conv2d(256, 128, kernel_size=(1, 1), stride=(1, 1), bias=False)\n",
       "          (bn1): FrozenBatchNorm2d(128, eps=0.0)\n",
       "          (conv2): Conv2d(128, 128, kernel_size=(3, 3), stride=(2, 2), padding=(1, 1), bias=False)\n",
       "          (bn2): FrozenBatchNorm2d(128, eps=0.0)\n",
       "          (conv3): Conv2d(128, 512, kernel_size=(1, 1), stride=(1, 1), bias=False)\n",
       "          (bn3): FrozenBatchNorm2d(512, eps=0.0)\n",
       "          (relu): ReLU(inplace=True)\n",
       "          (downsample): Sequential(\n",
       "            (0): Conv2d(256, 512, kernel_size=(1, 1), stride=(2, 2), bias=False)\n",
       "            (1): FrozenBatchNorm2d(512, eps=0.0)\n",
       "          )\n",
       "        )\n",
       "        (1): Bottleneck(\n",
       "          (conv1): Conv2d(512, 128, kernel_size=(1, 1), stride=(1, 1), bias=False)\n",
       "          (bn1): FrozenBatchNorm2d(128, eps=0.0)\n",
       "          (conv2): Conv2d(128, 128, kernel_size=(3, 3), stride=(1, 1), padding=(1, 1), bias=False)\n",
       "          (bn2): FrozenBatchNorm2d(128, eps=0.0)\n",
       "          (conv3): Conv2d(128, 512, kernel_size=(1, 1), stride=(1, 1), bias=False)\n",
       "          (bn3): FrozenBatchNorm2d(512, eps=0.0)\n",
       "          (relu): ReLU(inplace=True)\n",
       "        )\n",
       "        (2): Bottleneck(\n",
       "          (conv1): Conv2d(512, 128, kernel_size=(1, 1), stride=(1, 1), bias=False)\n",
       "          (bn1): FrozenBatchNorm2d(128, eps=0.0)\n",
       "          (conv2): Conv2d(128, 128, kernel_size=(3, 3), stride=(1, 1), padding=(1, 1), bias=False)\n",
       "          (bn2): FrozenBatchNorm2d(128, eps=0.0)\n",
       "          (conv3): Conv2d(128, 512, kernel_size=(1, 1), stride=(1, 1), bias=False)\n",
       "          (bn3): FrozenBatchNorm2d(512, eps=0.0)\n",
       "          (relu): ReLU(inplace=True)\n",
       "        )\n",
       "        (3): Bottleneck(\n",
       "          (conv1): Conv2d(512, 128, kernel_size=(1, 1), stride=(1, 1), bias=False)\n",
       "          (bn1): FrozenBatchNorm2d(128, eps=0.0)\n",
       "          (conv2): Conv2d(128, 128, kernel_size=(3, 3), stride=(1, 1), padding=(1, 1), bias=False)\n",
       "          (bn2): FrozenBatchNorm2d(128, eps=0.0)\n",
       "          (conv3): Conv2d(128, 512, kernel_size=(1, 1), stride=(1, 1), bias=False)\n",
       "          (bn3): FrozenBatchNorm2d(512, eps=0.0)\n",
       "          (relu): ReLU(inplace=True)\n",
       "        )\n",
       "      )\n",
       "      (layer3): Sequential(\n",
       "        (0): Bottleneck(\n",
       "          (conv1): Conv2d(512, 256, kernel_size=(1, 1), stride=(1, 1), bias=False)\n",
       "          (bn1): FrozenBatchNorm2d(256, eps=0.0)\n",
       "          (conv2): Conv2d(256, 256, kernel_size=(3, 3), stride=(2, 2), padding=(1, 1), bias=False)\n",
       "          (bn2): FrozenBatchNorm2d(256, eps=0.0)\n",
       "          (conv3): Conv2d(256, 1024, kernel_size=(1, 1), stride=(1, 1), bias=False)\n",
       "          (bn3): FrozenBatchNorm2d(1024, eps=0.0)\n",
       "          (relu): ReLU(inplace=True)\n",
       "          (downsample): Sequential(\n",
       "            (0): Conv2d(512, 1024, kernel_size=(1, 1), stride=(2, 2), bias=False)\n",
       "            (1): FrozenBatchNorm2d(1024, eps=0.0)\n",
       "          )\n",
       "        )\n",
       "        (1): Bottleneck(\n",
       "          (conv1): Conv2d(1024, 256, kernel_size=(1, 1), stride=(1, 1), bias=False)\n",
       "          (bn1): FrozenBatchNorm2d(256, eps=0.0)\n",
       "          (conv2): Conv2d(256, 256, kernel_size=(3, 3), stride=(1, 1), padding=(1, 1), bias=False)\n",
       "          (bn2): FrozenBatchNorm2d(256, eps=0.0)\n",
       "          (conv3): Conv2d(256, 1024, kernel_size=(1, 1), stride=(1, 1), bias=False)\n",
       "          (bn3): FrozenBatchNorm2d(1024, eps=0.0)\n",
       "          (relu): ReLU(inplace=True)\n",
       "        )\n",
       "        (2): Bottleneck(\n",
       "          (conv1): Conv2d(1024, 256, kernel_size=(1, 1), stride=(1, 1), bias=False)\n",
       "          (bn1): FrozenBatchNorm2d(256, eps=0.0)\n",
       "          (conv2): Conv2d(256, 256, kernel_size=(3, 3), stride=(1, 1), padding=(1, 1), bias=False)\n",
       "          (bn2): FrozenBatchNorm2d(256, eps=0.0)\n",
       "          (conv3): Conv2d(256, 1024, kernel_size=(1, 1), stride=(1, 1), bias=False)\n",
       "          (bn3): FrozenBatchNorm2d(1024, eps=0.0)\n",
       "          (relu): ReLU(inplace=True)\n",
       "        )\n",
       "        (3): Bottleneck(\n",
       "          (conv1): Conv2d(1024, 256, kernel_size=(1, 1), stride=(1, 1), bias=False)\n",
       "          (bn1): FrozenBatchNorm2d(256, eps=0.0)\n",
       "          (conv2): Conv2d(256, 256, kernel_size=(3, 3), stride=(1, 1), padding=(1, 1), bias=False)\n",
       "          (bn2): FrozenBatchNorm2d(256, eps=0.0)\n",
       "          (conv3): Conv2d(256, 1024, kernel_size=(1, 1), stride=(1, 1), bias=False)\n",
       "          (bn3): FrozenBatchNorm2d(1024, eps=0.0)\n",
       "          (relu): ReLU(inplace=True)\n",
       "        )\n",
       "        (4): Bottleneck(\n",
       "          (conv1): Conv2d(1024, 256, kernel_size=(1, 1), stride=(1, 1), bias=False)\n",
       "          (bn1): FrozenBatchNorm2d(256, eps=0.0)\n",
       "          (conv2): Conv2d(256, 256, kernel_size=(3, 3), stride=(1, 1), padding=(1, 1), bias=False)\n",
       "          (bn2): FrozenBatchNorm2d(256, eps=0.0)\n",
       "          (conv3): Conv2d(256, 1024, kernel_size=(1, 1), stride=(1, 1), bias=False)\n",
       "          (bn3): FrozenBatchNorm2d(1024, eps=0.0)\n",
       "          (relu): ReLU(inplace=True)\n",
       "        )\n",
       "        (5): Bottleneck(\n",
       "          (conv1): Conv2d(1024, 256, kernel_size=(1, 1), stride=(1, 1), bias=False)\n",
       "          (bn1): FrozenBatchNorm2d(256, eps=0.0)\n",
       "          (conv2): Conv2d(256, 256, kernel_size=(3, 3), stride=(1, 1), padding=(1, 1), bias=False)\n",
       "          (bn2): FrozenBatchNorm2d(256, eps=0.0)\n",
       "          (conv3): Conv2d(256, 1024, kernel_size=(1, 1), stride=(1, 1), bias=False)\n",
       "          (bn3): FrozenBatchNorm2d(1024, eps=0.0)\n",
       "          (relu): ReLU(inplace=True)\n",
       "        )\n",
       "      )\n",
       "      (layer4): Sequential(\n",
       "        (0): Bottleneck(\n",
       "          (conv1): Conv2d(1024, 512, kernel_size=(1, 1), stride=(1, 1), bias=False)\n",
       "          (bn1): FrozenBatchNorm2d(512, eps=0.0)\n",
       "          (conv2): Conv2d(512, 512, kernel_size=(3, 3), stride=(2, 2), padding=(1, 1), bias=False)\n",
       "          (bn2): FrozenBatchNorm2d(512, eps=0.0)\n",
       "          (conv3): Conv2d(512, 2048, kernel_size=(1, 1), stride=(1, 1), bias=False)\n",
       "          (bn3): FrozenBatchNorm2d(2048, eps=0.0)\n",
       "          (relu): ReLU(inplace=True)\n",
       "          (downsample): Sequential(\n",
       "            (0): Conv2d(1024, 2048, kernel_size=(1, 1), stride=(2, 2), bias=False)\n",
       "            (1): FrozenBatchNorm2d(2048, eps=0.0)\n",
       "          )\n",
       "        )\n",
       "        (1): Bottleneck(\n",
       "          (conv1): Conv2d(2048, 512, kernel_size=(1, 1), stride=(1, 1), bias=False)\n",
       "          (bn1): FrozenBatchNorm2d(512, eps=0.0)\n",
       "          (conv2): Conv2d(512, 512, kernel_size=(3, 3), stride=(1, 1), padding=(1, 1), bias=False)\n",
       "          (bn2): FrozenBatchNorm2d(512, eps=0.0)\n",
       "          (conv3): Conv2d(512, 2048, kernel_size=(1, 1), stride=(1, 1), bias=False)\n",
       "          (bn3): FrozenBatchNorm2d(2048, eps=0.0)\n",
       "          (relu): ReLU(inplace=True)\n",
       "        )\n",
       "        (2): Bottleneck(\n",
       "          (conv1): Conv2d(2048, 512, kernel_size=(1, 1), stride=(1, 1), bias=False)\n",
       "          (bn1): FrozenBatchNorm2d(512, eps=0.0)\n",
       "          (conv2): Conv2d(512, 512, kernel_size=(3, 3), stride=(1, 1), padding=(1, 1), bias=False)\n",
       "          (bn2): FrozenBatchNorm2d(512, eps=0.0)\n",
       "          (conv3): Conv2d(512, 2048, kernel_size=(1, 1), stride=(1, 1), bias=False)\n",
       "          (bn3): FrozenBatchNorm2d(2048, eps=0.0)\n",
       "          (relu): ReLU(inplace=True)\n",
       "        )\n",
       "      )\n",
       "    )\n",
       "    (fpn): FeaturePyramidNetwork(\n",
       "      (inner_blocks): ModuleList(\n",
       "        (0): Conv2dNormActivation(\n",
       "          (0): Conv2d(256, 256, kernel_size=(1, 1), stride=(1, 1))\n",
       "        )\n",
       "        (1): Conv2dNormActivation(\n",
       "          (0): Conv2d(512, 256, kernel_size=(1, 1), stride=(1, 1))\n",
       "        )\n",
       "        (2): Conv2dNormActivation(\n",
       "          (0): Conv2d(1024, 256, kernel_size=(1, 1), stride=(1, 1))\n",
       "        )\n",
       "        (3): Conv2dNormActivation(\n",
       "          (0): Conv2d(2048, 256, kernel_size=(1, 1), stride=(1, 1))\n",
       "        )\n",
       "      )\n",
       "      (layer_blocks): ModuleList(\n",
       "        (0-3): 4 x Conv2dNormActivation(\n",
       "          (0): Conv2d(256, 256, kernel_size=(3, 3), stride=(1, 1), padding=(1, 1))\n",
       "        )\n",
       "      )\n",
       "      (extra_blocks): LastLevelMaxPool()\n",
       "    )\n",
       "  )\n",
       "  (rpn): RegionProposalNetwork(\n",
       "    (anchor_generator): AnchorGenerator()\n",
       "    (head): RPNHead(\n",
       "      (conv): Sequential(\n",
       "        (0): Conv2dNormActivation(\n",
       "          (0): Conv2d(256, 256, kernel_size=(3, 3), stride=(1, 1), padding=(1, 1))\n",
       "          (1): ReLU(inplace=True)\n",
       "        )\n",
       "      )\n",
       "      (cls_logits): Conv2d(256, 3, kernel_size=(1, 1), stride=(1, 1))\n",
       "      (bbox_pred): Conv2d(256, 12, kernel_size=(1, 1), stride=(1, 1))\n",
       "    )\n",
       "  )\n",
       "  (roi_heads): RoIHeads(\n",
       "    (box_roi_pool): MultiScaleRoIAlign(featmap_names=['0', '1', '2', '3'], output_size=(7, 7), sampling_ratio=2)\n",
       "    (box_head): TwoMLPHead(\n",
       "      (fc6): Linear(in_features=12544, out_features=1024, bias=True)\n",
       "      (fc7): Linear(in_features=1024, out_features=1024, bias=True)\n",
       "    )\n",
       "    (box_predictor): FastRCNNPredictor(\n",
       "      (cls_score): Linear(in_features=1024, out_features=91, bias=True)\n",
       "      (bbox_pred): Linear(in_features=1024, out_features=364, bias=True)\n",
       "    )\n",
       "  )\n",
       ")"
      ]
     },
     "execution_count": 3,
     "metadata": {},
     "output_type": "execute_result"
    }
   ],
   "source": [
    "# Tải mô hình Faster R-CNN từ PyTorch\n",
    "device = torch.device(\"cuda\" if torch.cuda.is_available() else \"cpu\")\n",
    "detector = fasterrcnn_resnet50_fpn(pretrained=True).to(device)\n",
    "detector.eval()"
   ]
  },
  {
   "cell_type": "code",
   "execution_count": 4,
   "id": "dd54892a",
   "metadata": {
    "execution": {
     "iopub.execute_input": "2025-01-15T06:21:51.029921Z",
     "iopub.status.busy": "2025-01-15T06:21:51.029685Z",
     "iopub.status.idle": "2025-01-15T06:21:51.033343Z",
     "shell.execute_reply": "2025-01-15T06:21:51.032561Z"
    },
    "papermill": {
     "duration": 0.008971,
     "end_time": "2025-01-15T06:21:51.034567",
     "exception": false,
     "start_time": "2025-01-15T06:21:51.025596",
     "status": "completed"
    },
    "tags": []
   },
   "outputs": [],
   "source": [
    "# Đường dẫn dữ liệu gốc và thư mục lưu ảnh cắt\n",
    "base_dir = \"/kaggle/input/cs114-ml\"\n",
    "dataset_dir = os.path.join(base_dir, \"dataset\")\n",
    "cropped_images_dir = \"/kaggle/working/cropped_images\"\n",
    "os.makedirs(cropped_images_dir, exist_ok=True)"
   ]
  },
  {
   "cell_type": "code",
   "execution_count": 5,
   "id": "14625eca",
   "metadata": {
    "execution": {
     "iopub.execute_input": "2025-01-15T06:21:51.042001Z",
     "iopub.status.busy": "2025-01-15T06:21:51.041793Z",
     "iopub.status.idle": "2025-01-15T06:21:51.062074Z",
     "shell.execute_reply": "2025-01-15T06:21:51.061456Z"
    },
    "papermill": {
     "duration": 0.025239,
     "end_time": "2025-01-15T06:21:51.063236",
     "exception": false,
     "start_time": "2025-01-15T06:21:51.037997",
     "status": "completed"
    },
    "tags": []
   },
   "outputs": [],
   "source": [
    "# Đường dẫn file CSV chứa lỗi ảnh\n",
    "error_csv_path = os.path.join(base_dir, \"ImageErrors.csv\")\n",
    "error_paths = pd.read_csv(error_csv_path).iloc[:, 0].tolist()  # Danh sách ảnh lỗi"
   ]
  },
  {
   "cell_type": "code",
   "execution_count": 6,
   "id": "e9906e45",
   "metadata": {
    "execution": {
     "iopub.execute_input": "2025-01-15T06:21:51.070818Z",
     "iopub.status.busy": "2025-01-15T06:21:51.070613Z",
     "iopub.status.idle": "2025-01-15T06:21:51.075671Z",
     "shell.execute_reply": "2025-01-15T06:21:51.074904Z"
    },
    "papermill": {
     "duration": 0.010078,
     "end_time": "2025-01-15T06:21:51.076752",
     "exception": false,
     "start_time": "2025-01-15T06:21:51.066674",
     "status": "completed"
    },
    "tags": []
   },
   "outputs": [],
   "source": [
    "# Chọn thiết bị (GPU nếu có, ngược lại sử dụng CPU)\n",
    "device = torch.device(\"cuda\" if torch.cuda.is_available() else \"cpu\")\n",
    "detector = detector.to(device)  # Đưa mô hình lên thiết bị"
   ]
  },
  {
   "cell_type": "code",
   "execution_count": 7,
   "id": "792de5d6",
   "metadata": {
    "execution": {
     "iopub.execute_input": "2025-01-15T06:21:51.084402Z",
     "iopub.status.busy": "2025-01-15T06:21:51.084179Z",
     "iopub.status.idle": "2025-01-15T06:21:51.091800Z",
     "shell.execute_reply": "2025-01-15T06:21:51.091054Z"
    },
    "papermill": {
     "duration": 0.012799,
     "end_time": "2025-01-15T06:21:51.093086",
     "exception": false,
     "start_time": "2025-01-15T06:21:51.080287",
     "status": "completed"
    },
    "tags": []
   },
   "outputs": [],
   "source": [
    "def crop_and_save(image_path, class_name):\n",
    "    \"\"\"\n",
    "    Cắt và lưu ảnh dựa trên bounding box từ mô hình Faster R-CNN.\n",
    "    Nếu không phát hiện bounding box, lưu lại ảnh gốc.\n",
    "    \"\"\"\n",
    "    image = cv2.imread(image_path)\n",
    "    if image is None:\n",
    "        print(f\"Error: Unable to load {image_path}\")\n",
    "        return\n",
    "\n",
    "    # Chuyển đổi ảnh sang RGB và chuẩn hóa\n",
    "    image_rgb = cv2.cvtColor(image, cv2.COLOR_BGR2RGB)\n",
    "    image_tensor = torch.tensor(image_rgb).permute(2, 0, 1).float().unsqueeze(0).to(device)\n",
    "\n",
    "    # Dự đoán bounding box\n",
    "    with torch.no_grad():\n",
    "        result = detector(image_tensor)\n",
    "    boxes = result[0]['boxes'].cpu().detach().numpy()  # Bounding box\n",
    "    scores = result[0]['scores'].cpu().detach().numpy()  # Confidence\n",
    "    labels = result[0]['labels'].cpu().detach().numpy()  # Class labels\n",
    "\n",
    "    # Kiểm tra nếu không có bounding box nào\n",
    "    if len(scores) == 0 or len(boxes) == 0:\n",
    "        print(f\"No bounding boxes found for {image_path}. Saving original image.\")\n",
    "        cropped_image = image\n",
    "    else:\n",
    "        # Ưu tiên bounding box lớn nhất có confidence > threshold\n",
    "        max_area = 0\n",
    "        prioritized_box = None\n",
    "        for i, (box, score) in enumerate(zip(boxes, scores)):\n",
    "            if score < 0.5:  # Ngưỡng confidence\n",
    "                continue\n",
    "            xmin, ymin, xmax, ymax = box.astype(int)\n",
    "            area = (xmax - xmin) * (ymax - ymin)\n",
    "            if area > max_area:\n",
    "                max_area = area\n",
    "                prioritized_box = (xmin, ymin, xmax, ymax)\n",
    "\n",
    "        # Nếu có bounding box đạt ngưỡng\n",
    "        if prioritized_box:\n",
    "            xmin, ymin, xmax, ymax = prioritized_box\n",
    "            cropped_image = image[ymin:ymax, xmin:xmax]\n",
    "        else:\n",
    "            print(f\"No bounding boxes above confidence threshold for {image_path}. Saving original image.\")\n",
    "            cropped_image = image\n",
    "\n",
    "    # Lưu ảnh (cả cắt hoặc gốc nếu không phát hiện bounding box)\n",
    "    class_dir = os.path.join(cropped_images_dir, class_name)\n",
    "    os.makedirs(class_dir, exist_ok=True)\n",
    "\n",
    "    # Đảm bảo tên file có đuôi mở rộng\n",
    "    image_name = os.path.basename(image_path)\n",
    "    if not image_name.lower().endswith((\".jpg\", \".jpeg\", \".png\")):\n",
    "        image_name += \".jpg\"  # Mặc định lưu dưới dạng JPEG\n",
    "\n",
    "    cropped_image_path = os.path.join(class_dir, image_name)\n",
    "    cv2.imwrite(cropped_image_path, cropped_image)"
   ]
  },
  {
   "cell_type": "code",
   "execution_count": 8,
   "id": "3110a15c",
   "metadata": {
    "execution": {
     "iopub.execute_input": "2025-01-15T06:21:51.100678Z",
     "iopub.status.busy": "2025-01-15T06:21:51.100457Z",
     "iopub.status.idle": "2025-01-15T07:21:05.562178Z",
     "shell.execute_reply": "2025-01-15T07:21:05.561201Z"
    },
    "papermill": {
     "duration": 3554.466975,
     "end_time": "2025-01-15T07:21:05.563539",
     "exception": false,
     "start_time": "2025-01-15T06:21:51.096564",
     "status": "completed"
    },
    "tags": []
   },
   "outputs": [
    {
     "name": "stdout",
     "output_type": "stream",
     "text": [
      "Processing dataset...\n"
     ]
    },
    {
     "name": "stderr",
     "output_type": "stream",
     "text": [
      "  0%|          | 0/9 [00:00<?, ?it/s]"
     ]
    },
    {
     "name": "stdout",
     "output_type": "stream",
     "text": [
      "No bounding boxes found for /kaggle/input/cs114-ml/dataset/Hyundai/22521070-22520211.Hyundai.238.jpg. Saving original image.\n",
      "No bounding boxes above confidence threshold for /kaggle/input/cs114-ml/dataset/Hyundai/22521342-22520970.Hyundai.34.jpg. Saving original image.\n",
      "No bounding boxes found for /kaggle/input/cs114-ml/dataset/Hyundai/22520394-22520395.Hyundai.117.jpg. Saving original image.\n",
      "No bounding boxes above confidence threshold for /kaggle/input/cs114-ml/dataset/Hyundai/22521070-22520211.Hyundai.348.jpg. Saving original image.\n",
      "No bounding boxes found for /kaggle/input/cs114-ml/dataset/Hyundai/21520930-21522924.Huyndai.31-.png. Saving original image.\n",
      "No bounding boxes found for /kaggle/input/cs114-ml/dataset/Hyundai/22521463-22521213-22521259.Hyundai.1.jpg. Saving original image.\n",
      "No bounding boxes found for /kaggle/input/cs114-ml/dataset/Hyundai/22520394-22520395.Hyundai.46.jpg. Saving original image.\n",
      "No bounding boxes found for /kaggle/input/cs114-ml/dataset/Hyundai/22521070-22520211.Hyundai.219.jpg. Saving original image.\n",
      "No bounding boxes found for /kaggle/input/cs114-ml/dataset/Hyundai/22521027-22520195-22521060.Hyundai.770.jpg. Saving original image.\n",
      "No bounding boxes above confidence threshold for /kaggle/input/cs114-ml/dataset/Hyundai/22521425-22520318.Hyundai.6.png. Saving original image.\n",
      "No bounding boxes found for /kaggle/input/cs114-ml/dataset/Hyundai/22520914-22520915.Hyundai.60.png. Saving original image.\n",
      "No bounding boxes above confidence threshold for /kaggle/input/cs114-ml/dataset/Hyundai/22520394-22520395.Hyundai.131.jpg. Saving original image.\n",
      "No bounding boxes found for /kaggle/input/cs114-ml/dataset/Hyundai/21522924.Huyndai.31.png. Saving original image.\n"
     ]
    },
    {
     "name": "stderr",
     "output_type": "stream",
     "text": [
      " 11%|█         | 1/9 [06:06<48:49, 366.22s/it]"
     ]
    },
    {
     "name": "stdout",
     "output_type": "stream",
     "text": [
      "No bounding boxes above confidence threshold for /kaggle/input/cs114-ml/dataset/Honda/22521027-22520195-22521060.Honda.920.jpg. Saving original image.\n",
      "No bounding boxes found for /kaggle/input/cs114-ml/dataset/Honda/22521027-22520195-22521060.Honda.252.jpg. Saving original image.\n",
      "No bounding boxes found for /kaggle/input/cs114-ml/dataset/Honda/22520914-22520915.Honda.5.png. Saving original image.\n",
      "No bounding boxes found for /kaggle/input/cs114-ml/dataset/Honda/22521027-22520195-22521060.Honda.779.jpg. Saving original image.\n",
      "No bounding boxes found for /kaggle/input/cs114-ml/dataset/Honda/22521027-22520195-22521060.Honda.190.jpg. Saving original image.\n",
      "No bounding boxes found for /kaggle/input/cs114-ml/dataset/Honda/22521027-22520195-22521060.Honda.325.jpg. Saving original image.\n",
      "No bounding boxes found for /kaggle/input/cs114-ml/dataset/Honda/22521692-22521676.Honda.21.jpg. Saving original image.\n",
      "No bounding boxes found for /kaggle/input/cs114-ml/dataset/Honda/22521692-22521676.Honda.110.jpg. Saving original image.\n",
      "No bounding boxes found for /kaggle/input/cs114-ml/dataset/Honda/22521027-22520195-22521060.Honda.367.jpg. Saving original image.\n",
      "No bounding boxes found for /kaggle/input/cs114-ml/dataset/Honda/22521027-22520195-22521060.Honda.497.jpg. Saving original image.\n",
      "No bounding boxes found for /kaggle/input/cs114-ml/dataset/Honda/22521027-22520195-22521060.Honda.939.jpg. Saving original image.\n",
      "Error: Unable to load /kaggle/input/cs114-ml/dataset/Honda/22521560-22521614.Honda.36.jpg\n",
      "No bounding boxes found for /kaggle/input/cs114-ml/dataset/Honda/22521692-22521676.Honda.166.jpg. Saving original image.\n",
      "No bounding boxes found for /kaggle/input/cs114-ml/dataset/Honda/22521027-22520195-22521060.Honda.386.jpg. Saving original image.\n",
      "No bounding boxes found for /kaggle/input/cs114-ml/dataset/Honda/22521027-22520195-22521060.Honda.258.jpg. Saving original image.\n",
      "Error: Unable to load /kaggle/input/cs114-ml/dataset/Honda/22521560-22521614.Honda.37.jpg\n",
      "No bounding boxes found for /kaggle/input/cs114-ml/dataset/Honda/22521692-22521676.Honda.53.jpg. Saving original image.\n",
      "Error: Unable to load /kaggle/input/cs114-ml/dataset/Honda/22521560-22521614.Honda.41.jpg\n",
      "No bounding boxes found for /kaggle/input/cs114-ml/dataset/Honda/22520394-22520395.Honda.379.jpg. Saving original image.\n",
      "No bounding boxes above confidence threshold for /kaggle/input/cs114-ml/dataset/Honda/22520779-22521587.Honda.28.jpg. Saving original image.\n",
      "No bounding boxes found for /kaggle/input/cs114-ml/dataset/Honda/22521027-22520195-22521060.Honda.410.jpg. Saving original image.\n",
      "No bounding boxes found for /kaggle/input/cs114-ml/dataset/Honda/22521027-22520195-22521060.Honda.383.jpg. Saving original image.\n",
      "No bounding boxes found for /kaggle/input/cs114-ml/dataset/Honda/22521027-22520195-22521060.Honda.941.jpg. Saving original image.\n",
      "No bounding boxes found for /kaggle/input/cs114-ml/dataset/Honda/22521070-22520211.Honda.140.jpg. Saving original image.\n",
      "No bounding boxes above confidence threshold for /kaggle/input/cs114-ml/dataset/Honda/22521692-22521676.Honda.79.jpg. Saving original image.\n",
      "No bounding boxes found for /kaggle/input/cs114-ml/dataset/Honda/22521027-22520195-22521060.Honda.333.jpg. Saving original image.\n",
      "No bounding boxes found for /kaggle/input/cs114-ml/dataset/Honda/22521027-22520195-22521060.Honda.433.jpg. Saving original image.\n",
      "No bounding boxes above confidence threshold for /kaggle/input/cs114-ml/dataset/Honda/22521027-22520195-22521060.Honda.332.jpg. Saving original image.\n",
      "No bounding boxes found for /kaggle/input/cs114-ml/dataset/Honda/22521692-22521676.Honda.181.jpg. Saving original image.\n",
      "No bounding boxes above confidence threshold for /kaggle/input/cs114-ml/dataset/Honda/22521027-22520195-22521060.Honda.384.jpg. Saving original image.\n",
      "No bounding boxes found for /kaggle/input/cs114-ml/dataset/Honda/22521027-22520195-22521060.Honda.426.jpg. Saving original image.\n",
      "No bounding boxes found for /kaggle/input/cs114-ml/dataset/Honda/22521070-22520211.Honda.258.jpg. Saving original image.\n",
      "No bounding boxes found for /kaggle/input/cs114-ml/dataset/Honda/22521342-22520970.Honda.235.jpg. Saving original image.\n",
      "No bounding boxes above confidence threshold for /kaggle/input/cs114-ml/dataset/Honda/22521692-22521676.Honda.30.jpg. Saving original image.\n",
      "No bounding boxes found for /kaggle/input/cs114-ml/dataset/Honda/22521027-22520195-22521060.Honda.404.jpg. Saving original image.\n",
      "No bounding boxes above confidence threshold for /kaggle/input/cs114-ml/dataset/Honda/22521027-22520195-22521060.Honda.331.jpg. Saving original image.\n",
      "No bounding boxes above confidence threshold for /kaggle/input/cs114-ml/dataset/Honda/22521692-22521676.Honda.19.jpg. Saving original image.\n",
      "No bounding boxes above confidence threshold for /kaggle/input/cs114-ml/dataset/Honda/22521692-22521676.Honda.39.jpg. Saving original image.\n",
      "No bounding boxes found for /kaggle/input/cs114-ml/dataset/Honda/22521027-22520195-22521060.Honda.409.jpg. Saving original image.\n",
      "No bounding boxes found for /kaggle/input/cs114-ml/dataset/Honda/22521027-22520195-22521060.Honda.186.jpg. Saving original image.\n",
      "No bounding boxes above confidence threshold for /kaggle/input/cs114-ml/dataset/Honda/22521027-22520195-22521060.Honda.395.jpg. Saving original image.\n",
      "No bounding boxes above confidence threshold for /kaggle/input/cs114-ml/dataset/Honda/22521027-22520195-22521060.Honda.405.jpg. Saving original image.\n"
     ]
    },
    {
     "name": "stderr",
     "output_type": "stream",
     "text": [
      " 22%|██▏       | 2/9 [10:55<37:26, 321.00s/it]"
     ]
    },
    {
     "name": "stdout",
     "output_type": "stream",
     "text": [
      "No bounding boxes found for /kaggle/input/cs114-ml/dataset/VinFast/22521342-22520970.VinFast.65.jpg. Saving original image.\n",
      "No bounding boxes found for /kaggle/input/cs114-ml/dataset/VinFast/21520930-21522924.VinFast.79-.png. Saving original image.\n",
      "Error: Unable to load /kaggle/input/cs114-ml/dataset/VinFast/22521692-22521676.VinFast.18.jpg\n",
      "No bounding boxes found for /kaggle/input/cs114-ml/dataset/VinFast/22521027-22520195-22521060.VinFast.0058.jpg. Saving original image.\n",
      "Error: Unable to load /kaggle/input/cs114-ml/dataset/VinFast/22521692-22521676.VinFast.17.jpg\n",
      "No bounding boxes found for /kaggle/input/cs114-ml/dataset/VinFast/21522924.VinFast.79.png. Saving original image.\n",
      "No bounding boxes found for /kaggle/input/cs114-ml/dataset/VinFast/22521027-22520195-22521060.VinFast.0050.jpg. Saving original image.\n",
      "No bounding boxes found for /kaggle/input/cs114-ml/dataset/VinFast/22521027-22520195-22521060.VinFast.0974.jpg. Saving original image.\n",
      "No bounding boxes found for /kaggle/input/cs114-ml/dataset/VinFast/22521027-22520195-22521060.VinFast.0514.jpg. Saving original image.\n",
      "No bounding boxes found for /kaggle/input/cs114-ml/dataset/VinFast/22521259-22521213-22521463.VinFast.14.jpg. Saving original image.\n",
      "No bounding boxes found for /kaggle/input/cs114-ml/dataset/VinFast/22521027-22520195-22521060.VinFast.0621.jpg. Saving original image.\n",
      "Error: Unable to load /kaggle/input/cs114-ml/dataset/VinFast/22521027-22520195-22521060.VinFast.0948.jpg\n",
      "No bounding boxes found for /kaggle/input/cs114-ml/dataset/VinFast/22521027-22520195-22521060.VinFast.0625.jpg. Saving original image.\n",
      "Error: Unable to load /kaggle/input/cs114-ml/dataset/VinFast/22521027-22520195-22521060.VinFast.0951.jpg\n",
      "No bounding boxes found for /kaggle/input/cs114-ml/dataset/VinFast/22521027-22520195-22521060.VinFast.0624.jpg. Saving original image.\n",
      "Error: Unable to load /kaggle/input/cs114-ml/dataset/VinFast/22520348-22520530-22520837.VinFast.30.jpg\n",
      "No bounding boxes above confidence threshold for /kaggle/input/cs114-ml/dataset/VinFast/22521692-22521676.VinFast.87.jpg. Saving original image.\n",
      "Error: Unable to load /kaggle/input/cs114-ml/dataset/VinFast/22521027-22520195-22521060.VinFast.0950.jpg\n",
      "No bounding boxes found for /kaggle/input/cs114-ml/dataset/VinFast/22521027-22520195-22521060.VinFast.0081.jpg. Saving original image.\n",
      "Error: Unable to load /kaggle/input/cs114-ml/dataset/VinFast/22521692-22521676.VinFast.96.jpg\n",
      "Error: Unable to load /kaggle/input/cs114-ml/dataset/VinFast/22521692-22521676.VinFast.90.jpg\n",
      "No bounding boxes found for /kaggle/input/cs114-ml/dataset/VinFast/22521070-22520211.VinFast.56.jpg. Saving original image.\n",
      "No bounding boxes found for /kaggle/input/cs114-ml/dataset/VinFast/22521425-22520318.VinFast.26.jpg. Saving original image.\n",
      "No bounding boxes above confidence threshold for /kaggle/input/cs114-ml/dataset/VinFast/22521586-22521559.VinFast.31.jpg. Saving original image.\n",
      "Error: Unable to load /kaggle/input/cs114-ml/dataset/VinFast/22521692-22521676.VinFast.36.jpg\n",
      "Error: Unable to load /kaggle/input/cs114-ml/dataset/VinFast/22521692-22521676.VinFast.94.jpg\n",
      "No bounding boxes found for /kaggle/input/cs114-ml/dataset/VinFast/22521027-22520195-22521060.VinFast.0210.jpg. Saving original image.\n",
      "Error: Unable to load /kaggle/input/cs114-ml/dataset/VinFast/22521027-22520195-22521060.VinFast.0949.jpg\n",
      "No bounding boxes found for /kaggle/input/cs114-ml/dataset/VinFast/22521692-22521676.VinFast.15.jpg. Saving original image.\n",
      "No bounding boxes found for /kaggle/input/cs114-ml/dataset/VinFast/22521027-22520195-22521060.VinFast.0629.jpg. Saving original image.\n",
      "No bounding boxes found for /kaggle/input/cs114-ml/dataset/VinFast/22521586-22521559.VinFast.60.jpg. Saving original image.\n",
      "No bounding boxes found for /kaggle/input/cs114-ml/dataset/VinFast/21522373-21522499.VinFast.10.png. Saving original image.\n"
     ]
    },
    {
     "name": "stderr",
     "output_type": "stream",
     "text": [
      " 33%|███▎      | 3/9 [15:52<31:00, 310.04s/it]"
     ]
    },
    {
     "name": "stdout",
     "output_type": "stream",
     "text": [
      "No bounding boxes found for /kaggle/input/cs114-ml/dataset/KIA/22521027-22520195-22521060.KIA.394.jpg. Saving original image.\n",
      "No bounding boxes found for /kaggle/input/cs114-ml/dataset/KIA/22521027-22520195-22521060.KIA.366.jpg. Saving original image.\n",
      "No bounding boxes above confidence threshold for /kaggle/input/cs114-ml/dataset/KIA/22521027-22520195-22521060.KIA.442.jpg. Saving original image.\n",
      "No bounding boxes found for /kaggle/input/cs114-ml/dataset/KIA/22521027-22520195-22521060.KIA.289.jpg. Saving original image.\n",
      "No bounding boxes found for /kaggle/input/cs114-ml/dataset/KIA/22521027-22520195-22521060.KIA.324.jpg. Saving original image.\n",
      "No bounding boxes found for /kaggle/input/cs114-ml/dataset/KIA/22521027-22520195-22521060.KIA.415.jpg. Saving original image.\n",
      "No bounding boxes above confidence threshold for /kaggle/input/cs114-ml/dataset/KIA/22521027-22520195-22521060.KIA.170.jpg. Saving original image.\n",
      "No bounding boxes found for /kaggle/input/cs114-ml/dataset/KIA/22521027-22520195-22521060.KIA.237.jpg. Saving original image.\n",
      "No bounding boxes found for /kaggle/input/cs114-ml/dataset/KIA/22521027-22520195-22521060.KIA.228.jpg. Saving original image.\n",
      "No bounding boxes above confidence threshold for /kaggle/input/cs114-ml/dataset/KIA/22521692-22521676.KIA.170.jpg. Saving original image.\n",
      "No bounding boxes found for /kaggle/input/cs114-ml/dataset/KIA/22521027-22520195-22521060.KIA.149.jpg. Saving original image.\n",
      "No bounding boxes above confidence threshold for /kaggle/input/cs114-ml/dataset/KIA/22520779-22521587.KIA.91.jpg. Saving original image.\n",
      "No bounding boxes found for /kaggle/input/cs114-ml/dataset/KIA/22521692-22521676.KIA.12.jpg. Saving original image.\n",
      "No bounding boxes above confidence threshold for /kaggle/input/cs114-ml/dataset/KIA/22521027-22520195-22521060.KIA.265.jpg. Saving original image.\n",
      "No bounding boxes found for /kaggle/input/cs114-ml/dataset/KIA/22521027-22520195-22521060.KIA.100.jpg. Saving original image.\n",
      "No bounding boxes found for /kaggle/input/cs114-ml/dataset/KIA/22521027-22520195-22521060.KIA.706.jpg. Saving original image.\n",
      "No bounding boxes found for /kaggle/input/cs114-ml/dataset/KIA/22521027-22520195-22521060.KIA.86.jpg. Saving original image.\n",
      "No bounding boxes found for /kaggle/input/cs114-ml/dataset/KIA/22521027-22520195-22521060.KIA.571.jpg. Saving original image.\n",
      "No bounding boxes above confidence threshold for /kaggle/input/cs114-ml/dataset/KIA/22521070-22520211.KIA.201.jpg. Saving original image.\n",
      "No bounding boxes found for /kaggle/input/cs114-ml/dataset/KIA/22521027-22520195-22521060.KIA.929.jpg. Saving original image.\n",
      "No bounding boxes found for /kaggle/input/cs114-ml/dataset/KIA/22521027-22520195-22521060.KIA.466.jpg. Saving original image.\n",
      "No bounding boxes found for /kaggle/input/cs114-ml/dataset/KIA/22521027-22520195-22521060.KIA.439.jpg. Saving original image.\n",
      "No bounding boxes found for /kaggle/input/cs114-ml/dataset/KIA/22520394-22520395.KIA.305.jpg. Saving original image.\n",
      "No bounding boxes found for /kaggle/input/cs114-ml/dataset/KIA/22521027-22520195-22521060.KIA.699.jpg. Saving original image.\n",
      "No bounding boxes found for /kaggle/input/cs114-ml/dataset/KIA/22521027-22520195-22521060.KIA.810.jpg. Saving original image.\n",
      "No bounding boxes found for /kaggle/input/cs114-ml/dataset/KIA/22521027-22520195-22521060.KIA.348.jpg. Saving original image.\n",
      "No bounding boxes found for /kaggle/input/cs114-ml/dataset/KIA/22521027-22520195-22521060.KIA.650.jpg. Saving original image.\n",
      "No bounding boxes above confidence threshold for /kaggle/input/cs114-ml/dataset/KIA/22521027-22520195-22521060.KIA.183.jpg. Saving original image.\n",
      "No bounding boxes found for /kaggle/input/cs114-ml/dataset/KIA/22521027-22520195-22521060.KIA.362.jpg. Saving original image.\n",
      "No bounding boxes above confidence threshold for /kaggle/input/cs114-ml/dataset/KIA/22520521-22520884.KIA.17.jpg. Saving original image.\n",
      "No bounding boxes found for /kaggle/input/cs114-ml/dataset/KIA/22521027-22520195-22521060.KIA.195.jpg. Saving original image.\n",
      "No bounding boxes found for /kaggle/input/cs114-ml/dataset/KIA/22521027-22520195-22521060.KIA.652.jpg. Saving original image.\n",
      "No bounding boxes found for /kaggle/input/cs114-ml/dataset/KIA/22521027-22520195-22521060.KIA.187.jpg. Saving original image.\n",
      "No bounding boxes found for /kaggle/input/cs114-ml/dataset/KIA/22521027-22520195-22521060.KIA.330.jpg. Saving original image.\n",
      "No bounding boxes found for /kaggle/input/cs114-ml/dataset/KIA/22521027-22520195-22521060.KIA.602.jpg. Saving original image.\n",
      "No bounding boxes found for /kaggle/input/cs114-ml/dataset/KIA/22521027-22520195-22521060.KIA.365.jpg. Saving original image.\n",
      "No bounding boxes above confidence threshold for /kaggle/input/cs114-ml/dataset/KIA/22521027-22520195-22521060.KIA.741.jpg. Saving original image.\n",
      "No bounding boxes found for /kaggle/input/cs114-ml/dataset/KIA/22521027-22520195-22521060.KIA.67.jpg. Saving original image.\n",
      "No bounding boxes found for /kaggle/input/cs114-ml/dataset/KIA/22520394-22520395.KIA.221.jpg. Saving original image.\n",
      "No bounding boxes found for /kaggle/input/cs114-ml/dataset/KIA/22521027-22520195-22521060.KIA.64.jpg. Saving original image.\n",
      "No bounding boxes above confidence threshold for /kaggle/input/cs114-ml/dataset/KIA/22521027-22520195-22521060.KIA.529.jpg. Saving original image.\n",
      "No bounding boxes above confidence threshold for /kaggle/input/cs114-ml/dataset/KIA/22521027-22520195-22521060.KIA.769.jpg. Saving original image.\n",
      "No bounding boxes above confidence threshold for /kaggle/input/cs114-ml/dataset/KIA/22521692-22521676.KIA.14.jpg. Saving original image.\n",
      "No bounding boxes found for /kaggle/input/cs114-ml/dataset/KIA/22521027-22520195-22521060.KIA.286.jpg. Saving original image.\n",
      "No bounding boxes above confidence threshold for /kaggle/input/cs114-ml/dataset/KIA/22521027-22520195-22521060.KIA.280.jpg. Saving original image.\n",
      "No bounding boxes found for /kaggle/input/cs114-ml/dataset/KIA/22521027-22520195-22521060.KIA.476.jpg. Saving original image.\n",
      "No bounding boxes found for /kaggle/input/cs114-ml/dataset/KIA/22521070-22520211.KIA.207.jpg. Saving original image.\n",
      "No bounding boxes found for /kaggle/input/cs114-ml/dataset/KIA/22521027-22520195-22521060.KIA.693.jpg. Saving original image.\n",
      "No bounding boxes found for /kaggle/input/cs114-ml/dataset/KIA/22521027-22520195-22521060.KIA.502.jpg. Saving original image.\n",
      "No bounding boxes found for /kaggle/input/cs114-ml/dataset/KIA/22521692-22521676.KIA.84.jpg. Saving original image.\n",
      "No bounding boxes found for /kaggle/input/cs114-ml/dataset/KIA/22521027-22520195-22521060.KIA.221.jpg. Saving original image.\n",
      "No bounding boxes found for /kaggle/input/cs114-ml/dataset/KIA/22521027-22520195-22521060.KIA.384.jpg. Saving original image.\n",
      "No bounding boxes found for /kaggle/input/cs114-ml/dataset/KIA/22521027-22520195-22521060.KIA.159.jpg. Saving original image.\n",
      "No bounding boxes above confidence threshold for /kaggle/input/cs114-ml/dataset/KIA/22521027-22520195-22521060.KIA.173.jpg. Saving original image.\n",
      "No bounding boxes found for /kaggle/input/cs114-ml/dataset/KIA/22521027-22520195-22521060.KIA.42.jpg. Saving original image.\n"
     ]
    },
    {
     "name": "stderr",
     "output_type": "stream",
     "text": [
      " 44%|████▍     | 4/9 [21:20<26:26, 317.21s/it]"
     ]
    },
    {
     "name": "stdout",
     "output_type": "stream",
     "text": [
      "No bounding boxes found for /kaggle/input/cs114-ml/dataset/Toyota/22521342-22520970.Toyota.97.jpg. Saving original image.\n",
      "No bounding boxes found for /kaggle/input/cs114-ml/dataset/Toyota/22521027-22520195-22521060.Toyota.1798.jpg. Saving original image.\n",
      "No bounding boxes found for /kaggle/input/cs114-ml/dataset/Toyota/22521692-22521676.Toyota.129.jpg. Saving original image.\n",
      "No bounding boxes found for /kaggle/input/cs114-ml/dataset/Toyota/21520938-22520634.Toyota.358.jpg. Saving original image.\n",
      "No bounding boxes above confidence threshold for /kaggle/input/cs114-ml/dataset/Toyota/21520930-21522924.Toyota.65-.png. Saving original image.\n",
      "No bounding boxes found for /kaggle/input/cs114-ml/dataset/Toyota/22520550-22520967.Toyota.7.jpg. Saving original image.\n",
      "No bounding boxes above confidence threshold for /kaggle/input/cs114-ml/dataset/Toyota/21520938-22520634.Toyota.666.jpg. Saving original image.\n",
      "No bounding boxes found for /kaggle/input/cs114-ml/dataset/Toyota/22521692-22521676.Toyota.120.jpg. Saving original image.\n",
      "No bounding boxes found for /kaggle/input/cs114-ml/dataset/Toyota/22521692-22521676.Toyota.174.jpg. Saving original image.\n",
      "No bounding boxes above confidence threshold for /kaggle/input/cs114-ml/dataset/Toyota/21522924.Toyota.65.png. Saving original image.\n",
      "No bounding boxes found for /kaggle/input/cs114-ml/dataset/Toyota/22520394-22520395.Toyota.350.jpg. Saving original image.\n",
      "No bounding boxes found for /kaggle/input/cs114-ml/dataset/Toyota/22521692-22521676.Toyota.106.jpg. Saving original image.\n",
      "No bounding boxes above confidence threshold for /kaggle/input/cs114-ml/dataset/Toyota/22521692-22521676.Toyota.171.jpg. Saving original image.\n",
      "No bounding boxes found for /kaggle/input/cs114-ml/dataset/Toyota/22521692-22521676.Toyota.118.jpg. Saving original image.\n",
      "No bounding boxes found for /kaggle/input/cs114-ml/dataset/Toyota/22521692-22521676.Toyota.64.jpg. Saving original image.\n",
      "No bounding boxes found for /kaggle/input/cs114-ml/dataset/Toyota/22521692-22521676.Toyota.151.jpg. Saving original image.\n",
      "No bounding boxes found for /kaggle/input/cs114-ml/dataset/Toyota/21520938-22520634.Toyota.606.jpg. Saving original image.\n",
      "No bounding boxes found for /kaggle/input/cs114-ml/dataset/Toyota/22521692-22521676.Toyota.42.jpg. Saving original image.\n",
      "No bounding boxes found for /kaggle/input/cs114-ml/dataset/Toyota/22521692-22521676.Toyota.152.jpg. Saving original image.\n",
      "No bounding boxes found for /kaggle/input/cs114-ml/dataset/Toyota/22520459-22520507-22520862.Toyota.63.jpg. Saving original image.\n",
      "No bounding boxes found for /kaggle/input/cs114-ml/dataset/Toyota/22521692-22521676.Toyota.54.jpg. Saving original image.\n"
     ]
    },
    {
     "name": "stderr",
     "output_type": "stream",
     "text": [
      " 56%|█████▌    | 5/9 [30:09<26:13, 393.45s/it]"
     ]
    },
    {
     "name": "stdout",
     "output_type": "stream",
     "text": [
      "No bounding boxes found for /kaggle/input/cs114-ml/dataset/Suzuki/22521070-22520211.Suzuki.127.jpg. Saving original image.\n",
      "No bounding boxes found for /kaggle/input/cs114-ml/dataset/Suzuki/22521342-22520970.Suzuki.249.jpg. Saving original image.\n",
      "No bounding boxes found for /kaggle/input/cs114-ml/dataset/Suzuki/22521027-22520195-22521060.Suzuki.0824.jpg. Saving original image.\n",
      "No bounding boxes found for /kaggle/input/cs114-ml/dataset/Suzuki/22521027-22520195-22521060.Suzuki.1513.jpg. Saving original image.\n",
      "No bounding boxes found for /kaggle/input/cs114-ml/dataset/Suzuki/22521492-22521599.Suzuki.8.jpg. Saving original image.\n",
      "No bounding boxes above confidence threshold for /kaggle/input/cs114-ml/dataset/Suzuki/22520459-22520507-22520862.Suzuki.130.jpg. Saving original image.\n",
      "No bounding boxes above confidence threshold for /kaggle/input/cs114-ml/dataset/Suzuki/22521027-22520195-22521060.Suzuki.0948.jpg. Saving original image.\n",
      "No bounding boxes found for /kaggle/input/cs114-ml/dataset/Suzuki/22520779-22521587.Suzuki.2.jpg. Saving original image.\n",
      "No bounding boxes found for /kaggle/input/cs114-ml/dataset/Suzuki/22520394-22520395.Suzuki.181.jpg. Saving original image.\n",
      "No bounding boxes above confidence threshold for /kaggle/input/cs114-ml/dataset/Suzuki/22520550-22520967.Suzuki.7.jpg. Saving original image.\n",
      "No bounding boxes found for /kaggle/input/cs114-ml/dataset/Suzuki/22520394-22520395.Suzuki.224.jpg. Saving original image.\n",
      "No bounding boxes above confidence threshold for /kaggle/input/cs114-ml/dataset/Suzuki/22520459-22520507-22520862.Suzuki.1.jpg. Saving original image.\n",
      "No bounding boxes above confidence threshold for /kaggle/input/cs114-ml/dataset/Suzuki/22520459-22520507-22520862.Suzuki.2083.jpg. Saving original image.\n",
      "No bounding boxes found for /kaggle/input/cs114-ml/dataset/Suzuki/22520394-22520395.Suzuki.207.jpg. Saving original image.\n",
      "No bounding boxes found for /kaggle/input/cs114-ml/dataset/Suzuki/22520394-22520395.Suzuki.52.jpg. Saving original image.\n",
      "No bounding boxes found for /kaggle/input/cs114-ml/dataset/Suzuki/22521027-22520195-22521060.Suzuki.2010.jpg. Saving original image.\n",
      "No bounding boxes above confidence threshold for /kaggle/input/cs114-ml/dataset/Suzuki/22521692-22521676.Suzuki.163.jpg. Saving original image.\n",
      "No bounding boxes found for /kaggle/input/cs114-ml/dataset/Suzuki/22521692-22521676.Suzuki.35.jpg. Saving original image.\n",
      "No bounding boxes found for /kaggle/input/cs114-ml/dataset/Suzuki/22521692-22521676.Suzuki.48.jpg. Saving original image.\n",
      "No bounding boxes found for /kaggle/input/cs114-ml/dataset/Suzuki/22521342-22520970.Suzuki.95.jpeg. Saving original image.\n",
      "No bounding boxes found for /kaggle/input/cs114-ml/dataset/Suzuki/22520394-22520395.Suzuki.198.jpg. Saving original image.\n",
      "No bounding boxes found for /kaggle/input/cs114-ml/dataset/Suzuki/22521692-22521676.Suzuki.165.jpg. Saving original image.\n",
      "No bounding boxes found for /kaggle/input/cs114-ml/dataset/Suzuki/22521027-22520195-22521060.Suzuki.1315.jpg. Saving original image.\n",
      "No bounding boxes found for /kaggle/input/cs114-ml/dataset/Suzuki/22520394-22520395.Suzuki.245.jpg. Saving original image.\n",
      "No bounding boxes found for /kaggle/input/cs114-ml/dataset/Suzuki/22520394-22520395.Suzuki.461.jpg. Saving original image.\n",
      "No bounding boxes found for /kaggle/input/cs114-ml/dataset/Suzuki/22521070-22520211.Suzuki.160.jpg. Saving original image.\n",
      "No bounding boxes found for /kaggle/input/cs114-ml/dataset/Suzuki/22520394-22520395.Suzuki.346.jpg. Saving original image.\n"
     ]
    },
    {
     "name": "stderr",
     "output_type": "stream",
     "text": [
      " 67%|██████▋   | 6/9 [39:22<22:22, 447.57s/it]"
     ]
    },
    {
     "name": "stdout",
     "output_type": "stream",
     "text": [
      "No bounding boxes found for /kaggle/input/cs114-ml/dataset/Mitsubishi/22521692-22521676.Mitsubishi.116.jpg. Saving original image.\n",
      "No bounding boxes found for /kaggle/input/cs114-ml/dataset/Mitsubishi/22521027-22520195-22521060.Mitsubishi.118.jpg. Saving original image.\n",
      "Error: Unable to load /kaggle/input/cs114-ml/dataset/Mitsubishi/22520348-22520530-22520837.Mitsubishi.18.jpg\n",
      "No bounding boxes found for /kaggle/input/cs114-ml/dataset/Mitsubishi/22521342-22520970.Mitsubishi.122.jpg. Saving original image.\n",
      "No bounding boxes above confidence threshold for /kaggle/input/cs114-ml/dataset/Mitsubishi/22521027-22520195-22521060.Mitsubishi.672.jpg. Saving original image.\n",
      "Error: Unable to load /kaggle/input/cs114-ml/dataset/Mitsubishi/22521463-22521213-22521259.Mitsubishi.76.jpg\n",
      "Error: Unable to load /kaggle/input/cs114-ml/dataset/Mitsubishi/22521463-22521213-22521259.Mitsubishi.57.jpg\n",
      "No bounding boxes found for /kaggle/input/cs114-ml/dataset/Mitsubishi/22521692-22521676.Mitsubishi.119.jpg. Saving original image.\n",
      "No bounding boxes found for /kaggle/input/cs114-ml/dataset/Mitsubishi/22521692-22521676.Mitsubishi.125.jpg. Saving original image.\n",
      "No bounding boxes found for /kaggle/input/cs114-ml/dataset/Mitsubishi/22520223-22520213.Mitsubishi.4.jpg. Saving original image.\n",
      "No bounding boxes found for /kaggle/input/cs114-ml/dataset/Mitsubishi/22521692-22521676.Mitsubishi.94.jpg. Saving original image.\n",
      "Error: Unable to load /kaggle/input/cs114-ml/dataset/Mitsubishi/22521463-22521213-22521259.Mitsubishi.75.jpg\n",
      "No bounding boxes found for /kaggle/input/cs114-ml/dataset/Mitsubishi/22521692-22521676.Mitsubishi.126.jpg. Saving original image.\n",
      "No bounding boxes above confidence threshold for /kaggle/input/cs114-ml/dataset/Mitsubishi/22521027-22520195-22521060.Mitsubishi.738.jpg. Saving original image.\n",
      "No bounding boxes found for /kaggle/input/cs114-ml/dataset/Mitsubishi/22521692-22521676.Mitsubishi.110.jpg. Saving original image.\n"
     ]
    },
    {
     "name": "stderr",
     "output_type": "stream",
     "text": [
      " 78%|███████▊  | 7/9 [45:17<13:55, 417.53s/it]"
     ]
    },
    {
     "name": "stdout",
     "output_type": "stream",
     "text": [
      "No bounding boxes found for /kaggle/input/cs114-ml/dataset/Mazda/21522373-21522499.Mazda.37.jpg. Saving original image.\n",
      "No bounding boxes found for /kaggle/input/cs114-ml/dataset/Mazda/22521692-22521676.Mazda.93.jpg. Saving original image.\n",
      "No bounding boxes found for /kaggle/input/cs114-ml/dataset/Mazda/22521027-22520195-22521060.Mazda.928.jpg. Saving original image.\n",
      "No bounding boxes found for /kaggle/input/cs114-ml/dataset/Mazda/22521692-22521676.Mazda.25.jpg. Saving original image.\n",
      "No bounding boxes found for /kaggle/input/cs114-ml/dataset/Mazda/22521692-22521676.Mazda.49.jpg. Saving original image.\n",
      "No bounding boxes found for /kaggle/input/cs114-ml/dataset/Mazda/22521692-22521676.Mazda.76.jpg. Saving original image.\n",
      "No bounding boxes above confidence threshold for /kaggle/input/cs114-ml/dataset/Mazda/22521586-22521559.Mazda.227.jpg. Saving original image.\n",
      "No bounding boxes above confidence threshold for /kaggle/input/cs114-ml/dataset/Mazda/22521692-22521676.Mazda.29.jpg. Saving original image.\n",
      "No bounding boxes found for /kaggle/input/cs114-ml/dataset/Mazda/22521692-22521676.Mazda.137.jpg. Saving original image.\n",
      "No bounding boxes above confidence threshold for /kaggle/input/cs114-ml/dataset/Mazda/21522924.Mazda.38.png. Saving original image.\n",
      "No bounding boxes above confidence threshold for /kaggle/input/cs114-ml/dataset/Mazda/22521692-22521676.Mazda.160.jpg. Saving original image.\n",
      "No bounding boxes found for /kaggle/input/cs114-ml/dataset/Mazda/22521692-22521676.Mazda.118.jpg. Saving original image.\n",
      "No bounding boxes above confidence threshold for /kaggle/input/cs114-ml/dataset/Mazda/21520930-21522924.Mazda.38-.png. Saving original image.\n",
      "No bounding boxes above confidence threshold for /kaggle/input/cs114-ml/dataset/Mazda/22520348-22520530-22520837.Mazda.36.jpeg. Saving original image.\n",
      "No bounding boxes found for /kaggle/input/cs114-ml/dataset/Mazda/22521586-22521559.Mazda.122.jpg. Saving original image.\n",
      "No bounding boxes found for /kaggle/input/cs114-ml/dataset/Mazda/22521070-22520211.Mazda.177.jpg. Saving original image.\n",
      "No bounding boxes found for /kaggle/input/cs114-ml/dataset/Mazda/22521586-22521559.Mazda.42.jpg. Saving original image.\n",
      "No bounding boxes found for /kaggle/input/cs114-ml/dataset/Mazda/22521692-22521676.Mazda.180.jpg. Saving original image.\n",
      "No bounding boxes above confidence threshold for /kaggle/input/cs114-ml/dataset/Mazda/22521070-22520211.Mazda.29.jpg. Saving original image.\n",
      "No bounding boxes found for /kaggle/input/cs114-ml/dataset/Mazda/22521692-22521676.Mazda.96.jpg. Saving original image.\n",
      "No bounding boxes above confidence threshold for /kaggle/input/cs114-ml/dataset/Mazda/22520914-22520915.Mazda.33.png. Saving original image.\n"
     ]
    },
    {
     "name": "stderr",
     "output_type": "stream",
     "text": [
      " 89%|████████▉ | 8/9 [51:19<06:39, 399.63s/it]"
     ]
    },
    {
     "name": "stdout",
     "output_type": "stream",
     "text": [
      "No bounding boxes found for /kaggle/input/cs114-ml/dataset/Others/22520394-22520395.Others.107.jpg. Saving original image.\n",
      "No bounding boxes above confidence threshold for /kaggle/input/cs114-ml/dataset/Others/22520394-22520395.Others.384.jpg. Saving original image.\n",
      "No bounding boxes above confidence threshold for /kaggle/input/cs114-ml/dataset/Others/22520394-22520395.Others.95.jpg. Saving original image.\n",
      "Error: Unable to load /kaggle/input/cs114-ml/dataset/Others/22520477-22520490.Others.4.jpg\n",
      "Error: Unable to load /kaggle/input/cs114-ml/dataset/Others/22520477-22520490.Others.3.jpg\n",
      "Error: Unable to load /kaggle/input/cs114-ml/dataset/Others/22520477-22520490.Others.7.jpg\n",
      "Error: Unable to load /kaggle/input/cs114-ml/dataset/Others/22520348-22520530-22520837.Maybach.2.jpg\n",
      "Error: Unable to load /kaggle/input/cs114-ml/dataset/Others/22520477-22520490.Others.10.jpg\n",
      "No bounding boxes above confidence threshold for /kaggle/input/cs114-ml/dataset/Others/22520394-22520395.Others.170.jpg. Saving original image.\n",
      "No bounding boxes above confidence threshold for /kaggle/input/cs114-ml/dataset/Others/22520394-22520395.Others.398.jpg. Saving original image.\n",
      "No bounding boxes above confidence threshold for /kaggle/input/cs114-ml/dataset/Others/22520394-22520395.Others.334.jpg. Saving original image.\n",
      "No bounding boxes found for /kaggle/input/cs114-ml/dataset/Others/22521692-22521676.Others.45.jpg. Saving original image.\n",
      "No bounding boxes found for /kaggle/input/cs114-ml/dataset/Others/22521692-22521676.Others.11.jpg. Saving original image.\n",
      "Error: Unable to load /kaggle/input/cs114-ml/dataset/Others/22520348-22520530-22520837.MG.5.jpg\n",
      "Error: Unable to load /kaggle/input/cs114-ml/dataset/Others/22520348-22520530-22520837.MG.20.jpg\n",
      "No bounding boxes found for /kaggle/input/cs114-ml/dataset/Others/22520779-22521587.Others.876.jpg. Saving original image.\n",
      "Error: Unable to load /kaggle/input/cs114-ml/dataset/Others/22520477-22520490.Others.8.jpg\n",
      "No bounding boxes found for /kaggle/input/cs114-ml/dataset/Others/22520394-22520395.Others.233.jpg. Saving original image.\n",
      "Error: Unable to load /kaggle/input/cs114-ml/dataset/Others/22520348-22520530-22520837.MG.13.jpg\n",
      "Error: Unable to load /kaggle/input/cs114-ml/dataset/Others/22520477-22520490.Others.5.jpg\n",
      "Error: Unable to load /kaggle/input/cs114-ml/dataset/Others/22520348-22520530-22520837.MG.15.jpg\n",
      "No bounding boxes found for /kaggle/input/cs114-ml/dataset/Others/22521070-22520211.Others.182.jpg. Saving original image.\n",
      "Error: Unable to load /kaggle/input/cs114-ml/dataset/Others/22520477-22520490.Others.30.jpg\n",
      "No bounding boxes found for /kaggle/input/cs114-ml/dataset/Others/22521692-22521676.Others.19.jpg. Saving original image.\n",
      "Error: Unable to load /kaggle/input/cs114-ml/dataset/Others/22520477-22520490.Others.6.jpg\n",
      "No bounding boxes found for /kaggle/input/cs114-ml/dataset/Others/22520394-22520395.Others.383.jpg. Saving original image.\n",
      "Error: Unable to load /kaggle/input/cs114-ml/dataset/Others/22521463-22521213-22521259.Others.53.jpg\n",
      "No bounding boxes found for /kaggle/input/cs114-ml/dataset/Others/22520394-22520395.Others.386.jpg. Saving original image.\n",
      "No bounding boxes found for /kaggle/input/cs114-ml/dataset/Others/22521692-22521676.Others.47.jpg. Saving original image.\n",
      "No bounding boxes found for /kaggle/input/cs114-ml/dataset/Others/22521070-22520211.Others.53.jpg. Saving original image.\n",
      "No bounding boxes above confidence threshold for /kaggle/input/cs114-ml/dataset/Others/22520394-22520395.Others.318.jpg. Saving original image.\n",
      "No bounding boxes found for /kaggle/input/cs114-ml/dataset/Others/22521692-22521676.Others.42.jpg. Saving original image.\n",
      "No bounding boxes found for /kaggle/input/cs114-ml/dataset/Others/22520394-22520395.Others.580.jpg. Saving original image.\n",
      "Error: Unable to load /kaggle/input/cs114-ml/dataset/Others/22520348-22520530-22520837.MG.7.jpg\n",
      "No bounding boxes above confidence threshold for /kaggle/input/cs114-ml/dataset/Others/22520394-22520395.Others.40.jpg. Saving original image.\n",
      "No bounding boxes found for /kaggle/input/cs114-ml/dataset/Others/22521692-22521676.Others.38.jpg. Saving original image.\n",
      "No bounding boxes above confidence threshold for /kaggle/input/cs114-ml/dataset/Others/22520394-22520395.Others.174.jpg. Saving original image.\n",
      "No bounding boxes above confidence threshold for /kaggle/input/cs114-ml/dataset/Others/22520394-22520395.Others.159.jpg. Saving original image.\n",
      "No bounding boxes above confidence threshold for /kaggle/input/cs114-ml/dataset/Others/22521027-22520195-22521060.Others.216.jpg. Saving original image.\n",
      "Error: Unable to load /kaggle/input/cs114-ml/dataset/Others/22520477-22520490.Others.2.jpg\n",
      "Error: Unable to load /kaggle/input/cs114-ml/dataset/Others/22520348-22520530-22520837.MG.11.jpg\n"
     ]
    },
    {
     "name": "stderr",
     "output_type": "stream",
     "text": [
      "100%|██████████| 9/9 [59:14<00:00, 394.94s/it]"
     ]
    },
    {
     "name": "stdout",
     "output_type": "stream",
     "text": [
      "Processing completed! Cropped images saved at: /kaggle/working/cropped_images\n"
     ]
    },
    {
     "name": "stderr",
     "output_type": "stream",
     "text": [
      "\n"
     ]
    }
   ],
   "source": [
    "def process_dataset(dataset_dir, error_paths):\n",
    "    \"\"\"\n",
    "    Lọc ảnh lỗi và thực hiện cắt ảnh từ dataset gốc.\n",
    "    \"\"\"\n",
    "    print(\"Processing dataset...\")\n",
    "    for class_name in tqdm(os.listdir(dataset_dir)):\n",
    "        class_dir = os.path.join(dataset_dir, class_name)\n",
    "        if not os.path.isdir(class_dir):\n",
    "            continue\n",
    "\n",
    "        for image_name in os.listdir(class_dir):\n",
    "            image_path = os.path.join(class_dir, image_name)\n",
    "\n",
    "            # Bỏ qua ảnh lỗi\n",
    "            if image_path in error_paths:\n",
    "                continue\n",
    "\n",
    "            # Cắt và lưu ảnh\n",
    "            crop_and_save(image_path, class_name)\n",
    "\n",
    "    print(f\"Processing completed! Cropped images saved at: {cropped_images_dir}\")\n",
    "\n",
    "\n",
    "# Thực hiện cắt ảnh\n",
    "process_dataset(dataset_dir, error_paths)"
   ]
  },
  {
   "cell_type": "code",
   "execution_count": 9,
   "id": "ac64bf40",
   "metadata": {
    "execution": {
     "iopub.execute_input": "2025-01-15T07:21:05.595668Z",
     "iopub.status.busy": "2025-01-15T07:21:05.595421Z",
     "iopub.status.idle": "2025-01-15T07:21:05.700022Z",
     "shell.execute_reply": "2025-01-15T07:21:05.699214Z"
    },
    "papermill": {
     "duration": 0.121831,
     "end_time": "2025-01-15T07:21:05.701383",
     "exception": false,
     "start_time": "2025-01-15T07:21:05.579552",
     "status": "completed"
    },
    "tags": []
   },
   "outputs": [
    {
     "name": "stdout",
     "output_type": "stream",
     "text": [
      "Data split into 5 folds.\n"
     ]
    }
   ],
   "source": [
    "def split_data(cropped_images_dir, num_folds=5):\n",
    "    \"\"\"\n",
    "    Chia dữ liệu đã cắt thành 5 fold cho Cross-Validation.\n",
    "    \"\"\"\n",
    "    all_images = []\n",
    "    all_labels = []\n",
    "\n",
    "    for class_name in os.listdir(cropped_images_dir):\n",
    "        class_dir = os.path.join(cropped_images_dir, class_name)\n",
    "        if not os.path.isdir(class_dir):\n",
    "            continue\n",
    "\n",
    "        for image_name in os.listdir(class_dir):\n",
    "            image_path = os.path.join(class_dir, image_name)\n",
    "            all_images.append(image_path)\n",
    "            all_labels.append(class_name)\n",
    "\n",
    "    # KFold Cross Validation\n",
    "    kf = KFold(n_splits=num_folds, shuffle=True, random_state=42)\n",
    "    folds = []\n",
    "\n",
    "    for train_idx, test_idx in kf.split(all_images):\n",
    "        train_images = [all_images[i] for i in train_idx]\n",
    "        train_labels = [all_labels[i] for i in train_idx]\n",
    "        test_images = [all_images[i] for i in test_idx]\n",
    "        test_labels = [all_labels[i] for i in test_idx]\n",
    "        folds.append((train_images, train_labels, test_images, test_labels))\n",
    "\n",
    "    print(f\"Data split into {num_folds} folds.\")\n",
    "    return folds\n",
    "\n",
    "# Chia dữ liệu\n",
    "folds = split_data(cropped_images_dir)"
   ]
  },
  {
   "cell_type": "code",
   "execution_count": 10,
   "id": "0f043d62",
   "metadata": {
    "execution": {
     "iopub.execute_input": "2025-01-15T07:21:05.780750Z",
     "iopub.status.busy": "2025-01-15T07:21:05.780450Z",
     "iopub.status.idle": "2025-01-15T07:21:05.800180Z",
     "shell.execute_reply": "2025-01-15T07:21:05.799284Z"
    },
    "papermill": {
     "duration": 0.083743,
     "end_time": "2025-01-15T07:21:05.801555",
     "exception": false,
     "start_time": "2025-01-15T07:21:05.717812",
     "status": "completed"
    },
    "tags": []
   },
   "outputs": [
    {
     "name": "stdout",
     "output_type": "stream",
     "text": [
      "Fold data prepared:\n",
      "- Training: 24325 samples\n",
      "- Validation: 6082 samples\n",
      "- Test: 7602 samples\n"
     ]
    }
   ],
   "source": [
    "def prepare_fold_data(fold_data, validation_split=0.2):\n",
    "    \"\"\"\n",
    "    Chia dữ liệu train thành train và validation.\n",
    "    \"\"\"\n",
    "    train_images, train_labels = fold_data[0], fold_data[1]\n",
    "\n",
    "    train_X, val_X, train_Y, val_Y = train_test_split(\n",
    "        train_images, train_labels, test_size=validation_split, random_state=42\n",
    "    )\n",
    "\n",
    "    print(\"Fold data prepared:\")\n",
    "    print(f\"- Training: {len(train_X)} samples\")\n",
    "    print(f\"- Validation: {len(val_X)} samples\")\n",
    "    print(f\"- Test: {len(fold_data[2])} samples\")\n",
    "\n",
    "    return train_X, train_Y, val_X, val_Y, fold_data[2], fold_data[3]\n",
    "\n",
    "# Chuẩn bị dữ liệu cho fold đầu tiên\n",
    "train_X, train_Y, val_X, val_Y, test_X, test_Y = prepare_fold_data(folds[0])"
   ]
  },
  {
   "cell_type": "code",
   "execution_count": 11,
   "id": "c4575a77",
   "metadata": {
    "execution": {
     "iopub.execute_input": "2025-01-15T07:21:05.833396Z",
     "iopub.status.busy": "2025-01-15T07:21:05.833135Z",
     "iopub.status.idle": "2025-01-15T07:21:05.837822Z",
     "shell.execute_reply": "2025-01-15T07:21:05.837234Z"
    },
    "papermill": {
     "duration": 0.021949,
     "end_time": "2025-01-15T07:21:05.839087",
     "exception": false,
     "start_time": "2025-01-15T07:21:05.817138",
     "status": "completed"
    },
    "tags": []
   },
   "outputs": [],
   "source": [
    "class CustomDataset(torch.utils.data.Dataset):\n",
    "    def __init__(self, image_paths, class_names, transform=None):\n",
    "        \"\"\"\n",
    "        image_paths: Danh sách đường dẫn ảnh.\n",
    "        class_names: Danh sách tên lớp (tương ứng với image_paths).\n",
    "        transform: Các phép biến đổi áp dụng lên ảnh.\n",
    "        \"\"\"\n",
    "        self.image_paths = image_paths\n",
    "        self.class_names = class_names\n",
    "        self.transform = transform\n",
    "\n",
    "    def __getitem__(self, idx):\n",
    "        # Đọc ảnh từ đường dẫn\n",
    "        image_path = self.image_paths[idx]\n",
    "        image = Image.open(image_path).convert(\"RGB\")  # Đảm bảo ảnh có dạng RGB\n",
    "\n",
    "        # Ánh xạ tên lớp thành nhãn số\n",
    "        class_name = self.class_names[idx]\n",
    "        label = labels[class_name]  # Sử dụng mapping để lấy nhãn\n",
    "\n",
    "        if self.transform:\n",
    "            image = self.transform(image)  # Áp dụng transform vào ảnh\n",
    "\n",
    "        return image, torch.tensor(label, dtype=torch.long)\n",
    "\n",
    "    def __len__(self):\n",
    "        return len(self.image_paths)"
   ]
  },
  {
   "cell_type": "code",
   "execution_count": 12,
   "id": "132e88b4",
   "metadata": {
    "execution": {
     "iopub.execute_input": "2025-01-15T07:21:05.870595Z",
     "iopub.status.busy": "2025-01-15T07:21:05.870376Z",
     "iopub.status.idle": "2025-01-15T07:21:05.873639Z",
     "shell.execute_reply": "2025-01-15T07:21:05.873054Z"
    },
    "papermill": {
     "duration": 0.020372,
     "end_time": "2025-01-15T07:21:05.874812",
     "exception": false,
     "start_time": "2025-01-15T07:21:05.854440",
     "status": "completed"
    },
    "tags": []
   },
   "outputs": [],
   "source": [
    "# Khởi tạo mô hình ResNet-152\n",
    "def create_resnet152_model(num_classes):\n",
    "    model = models.resnet152(pretrained=True)\n",
    "    model.fc = nn.Linear(model.fc.in_features, num_classes)\n",
    "    return model"
   ]
  },
  {
   "cell_type": "code",
   "execution_count": 13,
   "id": "bfea67e1",
   "metadata": {
    "execution": {
     "iopub.execute_input": "2025-01-15T07:21:05.907126Z",
     "iopub.status.busy": "2025-01-15T07:21:05.906855Z",
     "iopub.status.idle": "2025-01-15T07:21:05.922853Z",
     "shell.execute_reply": "2025-01-15T07:21:05.922262Z"
    },
    "papermill": {
     "duration": 0.033471,
     "end_time": "2025-01-15T07:21:05.923945",
     "exception": false,
     "start_time": "2025-01-15T07:21:05.890474",
     "status": "completed"
    },
    "tags": []
   },
   "outputs": [],
   "source": [
    "# Hàm huấn luyện và đánh giá một fold\n",
    "def train_and_evaluate_fold(fold_idx, train_X, train_Y, val_X, val_Y, test_X, test_Y, num_classes=9, epochs=10, batch_size=32, save_dir=\"best_models\"):\n",
    "    # Chuẩn bị DataLoader\n",
    "    transform = transforms.Compose([\n",
    "        transforms.Resize((224, 224)),\n",
    "        transforms.ToTensor(),\n",
    "        transforms.Normalize(mean=[0.485, 0.456, 0.406], std=[0.229, 0.224, 0.225]),\n",
    "    ])\n",
    "\n",
    "    train_dataset = CustomDataset(train_X, train_Y, transform=transform)\n",
    "    val_dataset = CustomDataset(val_X, val_Y, transform=transform)\n",
    "    test_dataset = CustomDataset(test_X, test_Y, transform=transform)\n",
    "\n",
    "    train_loader = DataLoader(train_dataset, batch_size=batch_size, shuffle=True)\n",
    "    val_loader = DataLoader(val_dataset, batch_size=batch_size, shuffle=False)\n",
    "    test_loader = DataLoader(test_dataset, batch_size=batch_size, shuffle=False)\n",
    "\n",
    "    # Tạo mô hình\n",
    "    device = torch.device(\"cuda\" if torch.cuda.is_available() else \"cpu\")\n",
    "    model = create_resnet152_model(num_classes)\n",
    "    model.to(device)\n",
    "\n",
    "    # Loss và optimizer\n",
    "    criterion = nn.CrossEntropyLoss()\n",
    "    optimizer = optim.Adam(model.parameters(), lr=0.0001, weight_decay=1e-5)\n",
    "\n",
    "    # Biến lưu loss và accuracy\n",
    "    train_losses, val_losses = [], []\n",
    "    train_accuracies, val_accuracies = [], []\n",
    "    best_val_acc = 0.0\n",
    "    best_model_path = os.path.join(save_dir, f\"best_model_fold_{fold_idx}.pth\")\n",
    "    os.makedirs(save_dir, exist_ok=True)\n",
    "\n",
    "    # Huấn luyện\n",
    "    for epoch in range(epochs):\n",
    "        model.train()\n",
    "        train_loss, train_correct = 0.0, 0\n",
    "        for images, labels in tqdm(train_loader, desc=f\"Fold {fold_idx} Epoch {epoch+1}/{epochs}\"):\n",
    "            images, labels = images.to(device), labels.to(device)\n",
    "            optimizer.zero_grad()\n",
    "\n",
    "            outputs = model(images)\n",
    "            loss = criterion(outputs, labels)\n",
    "            loss.backward()\n",
    "            optimizer.step()\n",
    "\n",
    "            train_loss += loss.item() * images.size(0)\n",
    "            train_correct += (outputs.argmax(1) == labels).sum().item()\n",
    "\n",
    "        train_losses.append(train_loss / len(train_loader.dataset))\n",
    "        train_accuracies.append(train_correct / len(train_loader.dataset))\n",
    "\n",
    "        # Validation\n",
    "        model.eval()\n",
    "        val_loss, val_correct = 0.0, 0\n",
    "        with torch.no_grad():\n",
    "            for images, labels in val_loader:\n",
    "                images, labels = images.to(device), labels.to(device)\n",
    "\n",
    "                outputs = model(images)\n",
    "                loss = criterion(outputs, labels)\n",
    "\n",
    "                val_loss += loss.item() * images.size(0)\n",
    "                val_correct += (outputs.argmax(1) == labels).sum().item()\n",
    "\n",
    "        val_losses.append(val_loss / len(val_loader.dataset))\n",
    "        val_accuracies.append(val_correct / len(val_loader.dataset))\n",
    "\n",
    "        print(f\"Epoch {epoch+1}: Train Loss = {train_losses[-1]:.4f}, Train Acc = {train_accuracies[-1]:.4f}, \"\n",
    "              f\"Val Loss = {val_losses[-1]:.4f}, Val Acc = {val_accuracies[-1]:.4f}\")\n",
    "\n",
    "        # Lưu mô hình nếu đạt accuracy tốt nhất\n",
    "        if val_accuracies[-1] > best_val_acc:\n",
    "            best_val_acc = val_accuracies[-1]\n",
    "            torch.save(model.state_dict(), best_model_path)\n",
    "            print(f\"Saved best model for Fold {fold_idx} at Epoch {epoch+1} with Val Acc = {best_val_acc:.4f}\")\n",
    "\n",
    "    # Đánh giá trên tập test\n",
    "    model.eval()\n",
    "    test_correct = 0\n",
    "    with torch.no_grad():\n",
    "        for images, labels in test_loader:\n",
    "            images, labels = images.to(device), labels.to(device)\n",
    "\n",
    "            outputs = model(images)\n",
    "            test_correct += (outputs.argmax(1) == labels).sum().item()\n",
    "\n",
    "    test_accuracy = test_correct / len(test_loader.dataset)\n",
    "\n",
    "    # Vẽ biểu đồ\n",
    "    plt.figure(figsize=(12, 5))\n",
    "    plt.subplot(1, 2, 1)\n",
    "    plt.plot(train_losses, label=\"Train Loss\")\n",
    "    plt.plot(val_losses, label=\"Val Loss\")\n",
    "    plt.title(f\"Fold {fold_idx} Loss\")\n",
    "    plt.legend()\n",
    "\n",
    "    plt.subplot(1, 2, 2)\n",
    "    plt.plot(train_accuracies, label=\"Train Acc\")\n",
    "    plt.plot(val_accuracies, label=\"Val Acc\")\n",
    "    plt.title(f\"Fold {fold_idx} Accuracy\")\n",
    "    plt.legend()\n",
    "\n",
    "    plt.show()\n",
    "\n",
    "    return test_accuracy, best_model_path\n"
   ]
  },
  {
   "cell_type": "code",
   "execution_count": 14,
   "id": "a3995a2c",
   "metadata": {
    "execution": {
     "iopub.execute_input": "2025-01-15T07:21:05.955916Z",
     "iopub.status.busy": "2025-01-15T07:21:05.955705Z",
     "iopub.status.idle": "2025-01-15T16:42:45.738923Z",
     "shell.execute_reply": "2025-01-15T16:42:45.738066Z"
    },
    "papermill": {
     "duration": 33701.706184,
     "end_time": "2025-01-15T16:42:47.645721",
     "exception": false,
     "start_time": "2025-01-15T07:21:05.939537",
     "status": "completed"
    },
    "tags": []
   },
   "outputs": [
    {
     "name": "stdout",
     "output_type": "stream",
     "text": [
      "Fold data prepared:\n",
      "- Training: 24325 samples\n",
      "- Validation: 6082 samples\n",
      "- Test: 7602 samples\n"
     ]
    },
    {
     "name": "stderr",
     "output_type": "stream",
     "text": [
      "/usr/local/lib/python3.10/dist-packages/torchvision/models/_utils.py:208: UserWarning: The parameter 'pretrained' is deprecated since 0.13 and may be removed in the future, please use 'weights' instead.\n",
      "  warnings.warn(\n",
      "/usr/local/lib/python3.10/dist-packages/torchvision/models/_utils.py:223: UserWarning: Arguments other than a weight enum or `None` for 'weights' are deprecated since 0.13 and may be removed in the future. The current behavior is equivalent to passing `weights=ResNet152_Weights.IMAGENET1K_V1`. You can also use `weights=ResNet152_Weights.DEFAULT` to get the most up-to-date weights.\n",
      "  warnings.warn(msg)\n",
      "Downloading: \"https://download.pytorch.org/models/resnet152-394f9c45.pth\" to /root/.cache/torch/hub/checkpoints/resnet152-394f9c45.pth\n",
      "100%|██████████| 230M/230M [00:01<00:00, 199MB/s]\n",
      "Fold 1 Epoch 1/10: 100%|██████████| 761/761 [09:44<00:00,  1.30it/s]\n"
     ]
    },
    {
     "name": "stdout",
     "output_type": "stream",
     "text": [
      "Epoch 1: Train Loss = 1.0079, Train Acc = 0.6569, Val Loss = 0.7447, Val Acc = 0.7494\n",
      "Saved best model for Fold 1 at Epoch 1 with Val Acc = 0.7494\n"
     ]
    },
    {
     "name": "stderr",
     "output_type": "stream",
     "text": [
      "Fold 1 Epoch 2/10: 100%|██████████| 761/761 [09:38<00:00,  1.32it/s]\n"
     ]
    },
    {
     "name": "stdout",
     "output_type": "stream",
     "text": [
      "Epoch 2: Train Loss = 0.4747, Train Acc = 0.8443, Val Loss = 0.6329, Val Acc = 0.8007\n",
      "Saved best model for Fold 1 at Epoch 2 with Val Acc = 0.8007\n"
     ]
    },
    {
     "name": "stderr",
     "output_type": "stream",
     "text": [
      "Fold 1 Epoch 3/10: 100%|██████████| 761/761 [09:32<00:00,  1.33it/s]\n"
     ]
    },
    {
     "name": "stdout",
     "output_type": "stream",
     "text": [
      "Epoch 3: Train Loss = 0.2638, Train Acc = 0.9172, Val Loss = 0.6743, Val Acc = 0.7917\n"
     ]
    },
    {
     "name": "stderr",
     "output_type": "stream",
     "text": [
      "Fold 1 Epoch 4/10: 100%|██████████| 761/761 [09:30<00:00,  1.33it/s]\n"
     ]
    },
    {
     "name": "stdout",
     "output_type": "stream",
     "text": [
      "Epoch 4: Train Loss = 0.1713, Train Acc = 0.9463, Val Loss = 0.6973, Val Acc = 0.8009\n",
      "Saved best model for Fold 1 at Epoch 4 with Val Acc = 0.8009\n"
     ]
    },
    {
     "name": "stderr",
     "output_type": "stream",
     "text": [
      "Fold 1 Epoch 5/10: 100%|██████████| 761/761 [09:31<00:00,  1.33it/s]\n"
     ]
    },
    {
     "name": "stdout",
     "output_type": "stream",
     "text": [
      "Epoch 5: Train Loss = 0.1248, Train Acc = 0.9591, Val Loss = 0.7371, Val Acc = 0.8152\n",
      "Saved best model for Fold 1 at Epoch 5 with Val Acc = 0.8152\n"
     ]
    },
    {
     "name": "stderr",
     "output_type": "stream",
     "text": [
      "Fold 1 Epoch 6/10: 100%|██████████| 761/761 [09:30<00:00,  1.33it/s]\n"
     ]
    },
    {
     "name": "stdout",
     "output_type": "stream",
     "text": [
      "Epoch 6: Train Loss = 0.1119, Train Acc = 0.9642, Val Loss = 0.7950, Val Acc = 0.7997\n"
     ]
    },
    {
     "name": "stderr",
     "output_type": "stream",
     "text": [
      "Fold 1 Epoch 7/10: 100%|██████████| 761/761 [09:30<00:00,  1.33it/s]\n"
     ]
    },
    {
     "name": "stdout",
     "output_type": "stream",
     "text": [
      "Epoch 7: Train Loss = 0.0962, Train Acc = 0.9689, Val Loss = 0.6877, Val Acc = 0.8280\n",
      "Saved best model for Fold 1 at Epoch 7 with Val Acc = 0.8280\n"
     ]
    },
    {
     "name": "stderr",
     "output_type": "stream",
     "text": [
      "Fold 1 Epoch 8/10: 100%|██████████| 761/761 [09:29<00:00,  1.34it/s]\n"
     ]
    },
    {
     "name": "stdout",
     "output_type": "stream",
     "text": [
      "Epoch 8: Train Loss = 0.0809, Train Acc = 0.9747, Val Loss = 0.7815, Val Acc = 0.8116\n"
     ]
    },
    {
     "name": "stderr",
     "output_type": "stream",
     "text": [
      "Fold 1 Epoch 9/10: 100%|██████████| 761/761 [09:32<00:00,  1.33it/s]\n"
     ]
    },
    {
     "name": "stdout",
     "output_type": "stream",
     "text": [
      "Epoch 9: Train Loss = 0.0938, Train Acc = 0.9697, Val Loss = 0.7369, Val Acc = 0.8206\n"
     ]
    },
    {
     "name": "stderr",
     "output_type": "stream",
     "text": [
      "Fold 1 Epoch 10/10: 100%|██████████| 761/761 [09:35<00:00,  1.32it/s]\n"
     ]
    },
    {
     "name": "stdout",
     "output_type": "stream",
     "text": [
      "Epoch 10: Train Loss = 0.0638, Train Acc = 0.9801, Val Loss = 0.7856, Val Acc = 0.8096\n"
     ]
    },
    {
     "data": {
      "image/png": "[encoded data removed]",
      "text/plain": [
       "<Figure size 1200x500 with 2 Axes>"
      ]
     },
     "metadata": {},
     "output_type": "display_data"
    },
    {
     "name": "stdout",
     "output_type": "stream",
     "text": [
      "Fold 1 Test Accuracy: 0.8103\n",
      "Fold data prepared:\n",
      "- Training: 24325 samples\n",
      "- Validation: 6082 samples\n",
      "- Test: 7602 samples\n"
     ]
    },
    {
     "name": "stderr",
     "output_type": "stream",
     "text": [
      "Fold 2 Epoch 1/10: 100%|██████████| 761/761 [09:32<00:00,  1.33it/s]\n"
     ]
    },
    {
     "name": "stdout",
     "output_type": "stream",
     "text": [
      "Epoch 1: Train Loss = 0.9929, Train Acc = 0.6654, Val Loss = 0.7798, Val Acc = 0.7433\n",
      "Saved best model for Fold 2 at Epoch 1 with Val Acc = 0.7433\n"
     ]
    },
    {
     "name": "stderr",
     "output_type": "stream",
     "text": [
      "Fold 2 Epoch 2/10: 100%|██████████| 761/761 [09:38<00:00,  1.32it/s]\n"
     ]
    },
    {
     "name": "stdout",
     "output_type": "stream",
     "text": [
      "Epoch 2: Train Loss = 0.4623, Train Acc = 0.8516, Val Loss = 0.6437, Val Acc = 0.7846\n",
      "Saved best model for Fold 2 at Epoch 2 with Val Acc = 0.7846\n"
     ]
    },
    {
     "name": "stderr",
     "output_type": "stream",
     "text": [
      "Fold 2 Epoch 3/10: 100%|██████████| 761/761 [09:38<00:00,  1.32it/s]\n"
     ]
    },
    {
     "name": "stdout",
     "output_type": "stream",
     "text": [
      "Epoch 3: Train Loss = 0.2505, Train Acc = 0.9194, Val Loss = 0.6688, Val Acc = 0.8006\n",
      "Saved best model for Fold 2 at Epoch 3 with Val Acc = 0.8006\n"
     ]
    },
    {
     "name": "stderr",
     "output_type": "stream",
     "text": [
      "Fold 2 Epoch 4/10: 100%|██████████| 761/761 [09:34<00:00,  1.32it/s]\n"
     ]
    },
    {
     "name": "stdout",
     "output_type": "stream",
     "text": [
      "Epoch 4: Train Loss = 0.1670, Train Acc = 0.9457, Val Loss = 0.6965, Val Acc = 0.8034\n",
      "Saved best model for Fold 2 at Epoch 4 with Val Acc = 0.8034\n"
     ]
    },
    {
     "name": "stderr",
     "output_type": "stream",
     "text": [
      "Fold 2 Epoch 5/10: 100%|██████████| 761/761 [09:30<00:00,  1.33it/s]\n"
     ]
    },
    {
     "name": "stdout",
     "output_type": "stream",
     "text": [
      "Epoch 5: Train Loss = 0.1252, Train Acc = 0.9613, Val Loss = 0.7413, Val Acc = 0.8068\n",
      "Saved best model for Fold 2 at Epoch 5 with Val Acc = 0.8068\n"
     ]
    },
    {
     "name": "stderr",
     "output_type": "stream",
     "text": [
      "Fold 2 Epoch 6/10: 100%|██████████| 761/761 [09:29<00:00,  1.34it/s]\n"
     ]
    },
    {
     "name": "stdout",
     "output_type": "stream",
     "text": [
      "Epoch 6: Train Loss = 0.1065, Train Acc = 0.9650, Val Loss = 0.7994, Val Acc = 0.8007\n"
     ]
    },
    {
     "name": "stderr",
     "output_type": "stream",
     "text": [
      "Fold 2 Epoch 7/10: 100%|██████████| 761/761 [09:30<00:00,  1.33it/s]\n"
     ]
    },
    {
     "name": "stdout",
     "output_type": "stream",
     "text": [
      "Epoch 7: Train Loss = 0.0993, Train Acc = 0.9692, Val Loss = 0.7729, Val Acc = 0.8029\n"
     ]
    },
    {
     "name": "stderr",
     "output_type": "stream",
     "text": [
      "Fold 2 Epoch 8/10: 100%|██████████| 761/761 [09:31<00:00,  1.33it/s]\n"
     ]
    },
    {
     "name": "stdout",
     "output_type": "stream",
     "text": [
      "Epoch 8: Train Loss = 0.0742, Train Acc = 0.9771, Val Loss = 0.8045, Val Acc = 0.8034\n"
     ]
    },
    {
     "name": "stderr",
     "output_type": "stream",
     "text": [
      "Fold 2 Epoch 9/10: 100%|██████████| 761/761 [09:30<00:00,  1.33it/s]\n"
     ]
    },
    {
     "name": "stdout",
     "output_type": "stream",
     "text": [
      "Epoch 9: Train Loss = 0.0851, Train Acc = 0.9726, Val Loss = 0.8364, Val Acc = 0.7969\n"
     ]
    },
    {
     "name": "stderr",
     "output_type": "stream",
     "text": [
      "Fold 2 Epoch 10/10: 100%|██████████| 761/761 [09:31<00:00,  1.33it/s]\n"
     ]
    },
    {
     "name": "stdout",
     "output_type": "stream",
     "text": [
      "Epoch 10: Train Loss = 0.0698, Train Acc = 0.9780, Val Loss = 0.8412, Val Acc = 0.7997\n"
     ]
    },
    {
     "data": {
      "image/png": "[encoded data removed]",
      "text/plain": [
       "<Figure size 1200x500 with 2 Axes>"
      ]
     },
     "metadata": {},
     "output_type": "display_data"
    },
    {
     "name": "stdout",
     "output_type": "stream",
     "text": [
      "Fold 2 Test Accuracy: 0.8144\n",
      "Fold data prepared:\n",
      "- Training: 24325 samples\n",
      "- Validation: 6082 samples\n",
      "- Test: 7602 samples\n"
     ]
    },
    {
     "name": "stderr",
     "output_type": "stream",
     "text": [
      "Fold 3 Epoch 1/10: 100%|██████████| 761/761 [09:31<00:00,  1.33it/s]\n"
     ]
    },
    {
     "name": "stdout",
     "output_type": "stream",
     "text": [
      "Epoch 1: Train Loss = 0.9962, Train Acc = 0.6627, Val Loss = 0.6968, Val Acc = 0.7706\n",
      "Saved best model for Fold 3 at Epoch 1 with Val Acc = 0.7706\n"
     ]
    },
    {
     "name": "stderr",
     "output_type": "stream",
     "text": [
      "Fold 3 Epoch 2/10: 100%|██████████| 761/761 [09:30<00:00,  1.33it/s]\n"
     ]
    },
    {
     "name": "stdout",
     "output_type": "stream",
     "text": [
      "Epoch 2: Train Loss = 0.4553, Train Acc = 0.8527, Val Loss = 0.6114, Val Acc = 0.8099\n",
      "Saved best model for Fold 3 at Epoch 2 with Val Acc = 0.8099\n"
     ]
    },
    {
     "name": "stderr",
     "output_type": "stream",
     "text": [
      "Fold 3 Epoch 3/10: 100%|██████████| 761/761 [09:31<00:00,  1.33it/s]\n"
     ]
    },
    {
     "name": "stdout",
     "output_type": "stream",
     "text": [
      "Epoch 3: Train Loss = 0.2425, Train Acc = 0.9219, Val Loss = 0.7734, Val Acc = 0.7805\n"
     ]
    },
    {
     "name": "stderr",
     "output_type": "stream",
     "text": [
      "Fold 3 Epoch 4/10: 100%|██████████| 761/761 [09:28<00:00,  1.34it/s]\n"
     ]
    },
    {
     "name": "stdout",
     "output_type": "stream",
     "text": [
      "Epoch 4: Train Loss = 0.1717, Train Acc = 0.9450, Val Loss = 0.7541, Val Acc = 0.7907\n"
     ]
    },
    {
     "name": "stderr",
     "output_type": "stream",
     "text": [
      "Fold 3 Epoch 5/10: 100%|██████████| 761/761 [09:29<00:00,  1.34it/s]\n"
     ]
    },
    {
     "name": "stdout",
     "output_type": "stream",
     "text": [
      "Epoch 5: Train Loss = 0.1279, Train Acc = 0.9572, Val Loss = 0.7397, Val Acc = 0.8011\n"
     ]
    },
    {
     "name": "stderr",
     "output_type": "stream",
     "text": [
      "Fold 3 Epoch 6/10: 100%|██████████| 761/761 [09:30<00:00,  1.33it/s]\n"
     ]
    },
    {
     "name": "stdout",
     "output_type": "stream",
     "text": [
      "Epoch 6: Train Loss = 0.1051, Train Acc = 0.9665, Val Loss = 0.7280, Val Acc = 0.8137\n",
      "Saved best model for Fold 3 at Epoch 6 with Val Acc = 0.8137\n"
     ]
    },
    {
     "name": "stderr",
     "output_type": "stream",
     "text": [
      "Fold 3 Epoch 7/10: 100%|██████████| 761/761 [09:26<00:00,  1.34it/s]\n"
     ]
    },
    {
     "name": "stdout",
     "output_type": "stream",
     "text": [
      "Epoch 7: Train Loss = 0.0982, Train Acc = 0.9677, Val Loss = 0.8143, Val Acc = 0.7960\n"
     ]
    },
    {
     "name": "stderr",
     "output_type": "stream",
     "text": [
      "Fold 3 Epoch 8/10: 100%|██████████| 761/761 [09:27<00:00,  1.34it/s]\n"
     ]
    },
    {
     "name": "stdout",
     "output_type": "stream",
     "text": [
      "Epoch 8: Train Loss = 0.0952, Train Acc = 0.9700, Val Loss = 0.7548, Val Acc = 0.8137\n"
     ]
    },
    {
     "name": "stderr",
     "output_type": "stream",
     "text": [
      "Fold 3 Epoch 9/10: 100%|██████████| 761/761 [09:26<00:00,  1.34it/s]\n"
     ]
    },
    {
     "name": "stdout",
     "output_type": "stream",
     "text": [
      "Epoch 9: Train Loss = 0.0698, Train Acc = 0.9784, Val Loss = 0.7832, Val Acc = 0.8085\n"
     ]
    },
    {
     "name": "stderr",
     "output_type": "stream",
     "text": [
      "Fold 3 Epoch 10/10: 100%|██████████| 761/761 [09:26<00:00,  1.34it/s]\n"
     ]
    },
    {
     "name": "stdout",
     "output_type": "stream",
     "text": [
      "Epoch 10: Train Loss = 0.0716, Train Acc = 0.9765, Val Loss = 0.7661, Val Acc = 0.8170\n",
      "Saved best model for Fold 3 at Epoch 10 with Val Acc = 0.8170\n"
     ]
    },
    {
     "data": {
      "image/png": "[encoded data removed]",
      "text/plain": [
       "<Figure size 1200x500 with 2 Axes>"
      ]
     },
     "metadata": {},
     "output_type": "display_data"
    },
    {
     "name": "stdout",
     "output_type": "stream",
     "text": [
      "Fold 3 Test Accuracy: 0.8236\n",
      "Fold data prepared:\n",
      "- Training: 24325 samples\n",
      "- Validation: 6082 samples\n",
      "- Test: 7602 samples\n"
     ]
    },
    {
     "name": "stderr",
     "output_type": "stream",
     "text": [
      "Fold 4 Epoch 1/10: 100%|██████████| 761/761 [09:26<00:00,  1.34it/s]\n"
     ]
    },
    {
     "name": "stdout",
     "output_type": "stream",
     "text": [
      "Epoch 1: Train Loss = 1.0029, Train Acc = 0.6627, Val Loss = 0.6930, Val Acc = 0.7660\n",
      "Saved best model for Fold 4 at Epoch 1 with Val Acc = 0.7660\n"
     ]
    },
    {
     "name": "stderr",
     "output_type": "stream",
     "text": [
      "Fold 4 Epoch 2/10: 100%|██████████| 761/761 [09:25<00:00,  1.34it/s]\n"
     ]
    },
    {
     "name": "stdout",
     "output_type": "stream",
     "text": [
      "Epoch 2: Train Loss = 0.4624, Train Acc = 0.8519, Val Loss = 0.6167, Val Acc = 0.7988\n",
      "Saved best model for Fold 4 at Epoch 2 with Val Acc = 0.7988\n"
     ]
    },
    {
     "name": "stderr",
     "output_type": "stream",
     "text": [
      "Fold 4 Epoch 3/10: 100%|██████████| 761/761 [09:25<00:00,  1.35it/s]\n"
     ]
    },
    {
     "name": "stdout",
     "output_type": "stream",
     "text": [
      "Epoch 3: Train Loss = 0.2479, Train Acc = 0.9197, Val Loss = 0.6150, Val Acc = 0.8086\n",
      "Saved best model for Fold 4 at Epoch 3 with Val Acc = 0.8086\n"
     ]
    },
    {
     "name": "stderr",
     "output_type": "stream",
     "text": [
      "Fold 4 Epoch 4/10: 100%|██████████| 761/761 [09:29<00:00,  1.34it/s]\n"
     ]
    },
    {
     "name": "stdout",
     "output_type": "stream",
     "text": [
      "Epoch 4: Train Loss = 0.1641, Train Acc = 0.9476, Val Loss = 0.7468, Val Acc = 0.7887\n"
     ]
    },
    {
     "name": "stderr",
     "output_type": "stream",
     "text": [
      "Fold 4 Epoch 5/10: 100%|██████████| 761/761 [09:26<00:00,  1.34it/s]\n"
     ]
    },
    {
     "name": "stdout",
     "output_type": "stream",
     "text": [
      "Epoch 5: Train Loss = 0.1337, Train Acc = 0.9550, Val Loss = 0.9017, Val Acc = 0.7724\n"
     ]
    },
    {
     "name": "stderr",
     "output_type": "stream",
     "text": [
      "Fold 4 Epoch 6/10: 100%|██████████| 761/761 [09:28<00:00,  1.34it/s]\n"
     ]
    },
    {
     "name": "stdout",
     "output_type": "stream",
     "text": [
      "Epoch 6: Train Loss = 0.1089, Train Acc = 0.9661, Val Loss = 0.6818, Val Acc = 0.8205\n",
      "Saved best model for Fold 4 at Epoch 6 with Val Acc = 0.8205\n"
     ]
    },
    {
     "name": "stderr",
     "output_type": "stream",
     "text": [
      "Fold 4 Epoch 7/10: 100%|██████████| 761/761 [09:28<00:00,  1.34it/s]\n"
     ]
    },
    {
     "name": "stdout",
     "output_type": "stream",
     "text": [
      "Epoch 7: Train Loss = 0.0930, Train Acc = 0.9693, Val Loss = 0.7726, Val Acc = 0.8053\n"
     ]
    },
    {
     "name": "stderr",
     "output_type": "stream",
     "text": [
      "Fold 4 Epoch 8/10: 100%|██████████| 761/761 [09:26<00:00,  1.34it/s]\n"
     ]
    },
    {
     "name": "stdout",
     "output_type": "stream",
     "text": [
      "Epoch 8: Train Loss = 0.0774, Train Acc = 0.9750, Val Loss = 0.8081, Val Acc = 0.8132\n"
     ]
    },
    {
     "name": "stderr",
     "output_type": "stream",
     "text": [
      "Fold 4 Epoch 9/10: 100%|██████████| 761/761 [09:27<00:00,  1.34it/s]\n"
     ]
    },
    {
     "name": "stdout",
     "output_type": "stream",
     "text": [
      "Epoch 9: Train Loss = 0.0809, Train Acc = 0.9741, Val Loss = 0.7125, Val Acc = 0.8267\n",
      "Saved best model for Fold 4 at Epoch 9 with Val Acc = 0.8267\n"
     ]
    },
    {
     "name": "stderr",
     "output_type": "stream",
     "text": [
      "Fold 4 Epoch 10/10: 100%|██████████| 761/761 [09:28<00:00,  1.34it/s]\n"
     ]
    },
    {
     "name": "stdout",
     "output_type": "stream",
     "text": [
      "Epoch 10: Train Loss = 0.0622, Train Acc = 0.9799, Val Loss = 0.7267, Val Acc = 0.8241\n"
     ]
    },
    {
     "data": {
      "image/png": "[encoded data removed]",
      "text/plain": [
       "<Figure size 1200x500 with 2 Axes>"
      ]
     },
     "metadata": {},
     "output_type": "display_data"
    },
    {
     "name": "stdout",
     "output_type": "stream",
     "text": [
      "Fold 4 Test Accuracy: 0.8179\n",
      "Fold data prepared:\n",
      "- Training: 24326 samples\n",
      "- Validation: 6082 samples\n",
      "- Test: 7601 samples\n"
     ]
    },
    {
     "name": "stderr",
     "output_type": "stream",
     "text": [
      "Fold 5 Epoch 1/10: 100%|██████████| 761/761 [09:30<00:00,  1.33it/s]\n"
     ]
    },
    {
     "name": "stdout",
     "output_type": "stream",
     "text": [
      "Epoch 1: Train Loss = 1.0045, Train Acc = 0.6607, Val Loss = 0.7048, Val Acc = 0.7664\n",
      "Saved best model for Fold 5 at Epoch 1 with Val Acc = 0.7664\n"
     ]
    },
    {
     "name": "stderr",
     "output_type": "stream",
     "text": [
      "Fold 5 Epoch 2/10: 100%|██████████| 761/761 [09:31<00:00,  1.33it/s]\n"
     ]
    },
    {
     "name": "stdout",
     "output_type": "stream",
     "text": [
      "Epoch 2: Train Loss = 0.4602, Train Acc = 0.8494, Val Loss = 0.6213, Val Acc = 0.7984\n",
      "Saved best model for Fold 5 at Epoch 2 with Val Acc = 0.7984\n"
     ]
    },
    {
     "name": "stderr",
     "output_type": "stream",
     "text": [
      "Fold 5 Epoch 3/10: 100%|██████████| 761/761 [09:29<00:00,  1.34it/s]\n"
     ]
    },
    {
     "name": "stdout",
     "output_type": "stream",
     "text": [
      "Epoch 3: Train Loss = 0.2539, Train Acc = 0.9182, Val Loss = 0.6720, Val Acc = 0.7922\n"
     ]
    },
    {
     "name": "stderr",
     "output_type": "stream",
     "text": [
      "Fold 5 Epoch 4/10: 100%|██████████| 761/761 [09:28<00:00,  1.34it/s]\n"
     ]
    },
    {
     "name": "stdout",
     "output_type": "stream",
     "text": [
      "Epoch 4: Train Loss = 0.1568, Train Acc = 0.9484, Val Loss = 0.8004, Val Acc = 0.7813\n"
     ]
    },
    {
     "name": "stderr",
     "output_type": "stream",
     "text": [
      "Fold 5 Epoch 5/10: 100%|██████████| 761/761 [09:28<00:00,  1.34it/s]\n"
     ]
    },
    {
     "name": "stdout",
     "output_type": "stream",
     "text": [
      "Epoch 5: Train Loss = 0.1335, Train Acc = 0.9562, Val Loss = 0.7625, Val Acc = 0.7930\n"
     ]
    },
    {
     "name": "stderr",
     "output_type": "stream",
     "text": [
      "Fold 5 Epoch 6/10: 100%|██████████| 761/761 [09:27<00:00,  1.34it/s]\n"
     ]
    },
    {
     "name": "stdout",
     "output_type": "stream",
     "text": [
      "Epoch 6: Train Loss = 0.1067, Train Acc = 0.9664, Val Loss = 0.8101, Val Acc = 0.8004\n",
      "Saved best model for Fold 5 at Epoch 6 with Val Acc = 0.8004\n"
     ]
    },
    {
     "name": "stderr",
     "output_type": "stream",
     "text": [
      "Fold 5 Epoch 7/10: 100%|██████████| 761/761 [09:27<00:00,  1.34it/s]\n"
     ]
    },
    {
     "name": "stdout",
     "output_type": "stream",
     "text": [
      "Epoch 7: Train Loss = 0.0838, Train Acc = 0.9725, Val Loss = 0.8765, Val Acc = 0.7905\n"
     ]
    },
    {
     "name": "stderr",
     "output_type": "stream",
     "text": [
      "Fold 5 Epoch 8/10: 100%|██████████| 761/761 [09:27<00:00,  1.34it/s]\n"
     ]
    },
    {
     "name": "stdout",
     "output_type": "stream",
     "text": [
      "Epoch 8: Train Loss = 0.0915, Train Acc = 0.9707, Val Loss = 0.7248, Val Acc = 0.8144\n",
      "Saved best model for Fold 5 at Epoch 8 with Val Acc = 0.8144\n"
     ]
    },
    {
     "name": "stderr",
     "output_type": "stream",
     "text": [
      "Fold 5 Epoch 9/10: 100%|██████████| 761/761 [09:29<00:00,  1.34it/s]\n"
     ]
    },
    {
     "name": "stdout",
     "output_type": "stream",
     "text": [
      "Epoch 9: Train Loss = 0.0793, Train Acc = 0.9755, Val Loss = 0.7306, Val Acc = 0.8159\n",
      "Saved best model for Fold 5 at Epoch 9 with Val Acc = 0.8159\n"
     ]
    },
    {
     "name": "stderr",
     "output_type": "stream",
     "text": [
      "Fold 5 Epoch 10/10: 100%|██████████| 761/761 [09:27<00:00,  1.34it/s]\n"
     ]
    },
    {
     "name": "stdout",
     "output_type": "stream",
     "text": [
      "Epoch 10: Train Loss = 0.0623, Train Acc = 0.9799, Val Loss = 0.7764, Val Acc = 0.8111\n"
     ]
    },
    {
     "data": {
      "image/png": "[encoded data removed]",
      "text/plain": [
       "<Figure size 1200x500 with 2 Axes>"
      ]
     },
     "metadata": {},
     "output_type": "display_data"
    },
    {
     "name": "stdout",
     "output_type": "stream",
     "text": [
      "Fold 5 Test Accuracy: 0.8123\n",
      "Mean Test Accuracy: 0.8157\n",
      "Best model paths: ['best_models/best_model_fold_1.pth', 'best_models/best_model_fold_2.pth', 'best_models/best_model_fold_3.pth', 'best_models/best_model_fold_4.pth', 'best_models/best_model_fold_5.pth']\n"
     ]
    }
   ],
   "source": [
    "# Huấn luyện và đánh giá trên tất cả các fold\n",
    "def train_with_cross_validation(folds, epochs=10, batch_size=32):\n",
    "    test_accuracies = []\n",
    "    best_models = []\n",
    "\n",
    "    for fold_idx, fold_data in enumerate(folds):\n",
    "        train_X, train_Y, val_X, val_Y, test_X, test_Y = prepare_fold_data(fold_data)\n",
    "        test_accuracy, best_model_path = train_and_evaluate_fold(\n",
    "            fold_idx + 1, train_X, train_Y, val_X, val_Y, test_X, test_Y, epochs=epochs, batch_size=batch_size\n",
    "        )\n",
    "        test_accuracies.append(test_accuracy)\n",
    "        best_models.append(best_model_path)\n",
    "        print(f\"Fold {fold_idx+1} Test Accuracy: {test_accuracy:.4f}\")\n",
    "\n",
    "    # Tính trung bình accuracy\n",
    "    mean_accuracy = np.mean(test_accuracies)\n",
    "    print(f\"Mean Test Accuracy: {mean_accuracy:.4f}\")\n",
    "    print(\"Best model paths:\", best_models)\n",
    "\n",
    "# Thực hiện huấn luyện\n",
    "train_with_cross_validation(folds, epochs=10, batch_size=32)"
   ]
  }
 ],
 "metadata": {
  "kaggle": {
   "accelerator": "gpu",
   "dataSources": [
    {
     "datasetId": 6444721,
     "sourceId": 10401084,
     "sourceType": "datasetVersion"
    }
   ],
   "dockerImageVersionId": 30823,
   "isGpuEnabled": true,
   "isInternetEnabled": true,
   "language": "python",
   "sourceType": "notebook"
  },
  "kernelspec": {
   "display_name": "Python 3",
   "language": "python",
   "name": "python3"
  },
  "language_info": {
   "codemirror_mode": {
    "name": "ipython",
    "version": 3
   },
   "file_extension": ".py",
   "mimetype": "text/x-python",
   "name": "python",
   "nbconvert_exporter": "python",
   "pygments_lexer": "ipython3",
   "version": "3.10.12"
  },
  "papermill": {
   "default_parameters": {},
   "duration": 37280.28763,
   "end_time": "2025-01-15T16:42:52.764452",
   "environment_variables": {},
   "exception": null,
   "input_path": "__notebook__.ipynb",
   "output_path": "__notebook__.ipynb",
   "parameters": {},
   "start_time": "2025-01-15T06:21:32.476822",
   "version": "2.6.0"
  }
 },
 "nbformat": 4,
 "nbformat_minor": 5
}
