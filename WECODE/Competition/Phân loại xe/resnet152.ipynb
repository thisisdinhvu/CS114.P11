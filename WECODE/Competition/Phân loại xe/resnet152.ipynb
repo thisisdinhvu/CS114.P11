{
 "cells": [
  {
   "cell_type": "code",
   "execution_count": 1,
   "id": "c5375554",
   "metadata": {
    "_cell_guid": "b1076dfc-b9ad-4769-8c92-a6c4dae69d19",
    "_uuid": "8f2839f25d086af736a60e9eeb907d3b93b6e0e5",
    "execution": {
     "iopub.execute_input": "2025-01-09T00:52:22.621229Z",
     "iopub.status.busy": "2025-01-09T00:52:22.620872Z",
     "iopub.status.idle": "2025-01-09T00:52:36.680098Z",
     "shell.execute_reply": "2025-01-09T00:52:36.679020Z"
    },
    "papermill": {
     "duration": 14.069484,
     "end_time": "2025-01-09T00:52:36.681817",
     "exception": false,
     "start_time": "2025-01-09T00:52:22.612333",
     "status": "completed"
    },
    "tags": []
   },
   "outputs": [],
   "source": [
    "import os\n",
    "import numpy as np\n",
    "import keras\n",
    "from keras import layers\n",
    "from tensorflow import data as tf_data\n",
    "import matplotlib.pyplot as plt\n",
    "import pandas as pd\n",
    "from zipfile import ZipFile\n",
    "import cv2\n",
    "import matplotlib.pyplot as plt\n",
    "import torch\n",
    "from torch.utils.data import Dataset, DataLoader\n",
    "from torchvision import datasets\n",
    "from torchvision.transforms import ToTensor\n",
    "from PIL import Image\n",
    "from torchvision import transforms\n",
    "import torch.nn as nn\n",
    "import torch.nn.functional as F\n",
    "import torchvision\n",
    "from sklearn.model_selection import train_test_split\n",
    "from collections import Counter\n",
    "from IPython.display import display\n",
    "from tqdm import tqdm\n",
    "from sklearn.metrics import accuracy_score\n",
    "import torch.optim as optim\n",
    "from torchvision import models, transforms\n",
    "from PIL import Image"
   ]
  },
  {
   "cell_type": "code",
   "execution_count": 2,
   "id": "bb9c55d9",
   "metadata": {
    "execution": {
     "iopub.execute_input": "2025-01-09T00:52:36.692206Z",
     "iopub.status.busy": "2025-01-09T00:52:36.691635Z",
     "iopub.status.idle": "2025-01-09T00:52:36.695427Z",
     "shell.execute_reply": "2025-01-09T00:52:36.694716Z"
    },
    "papermill": {
     "duration": 0.010092,
     "end_time": "2025-01-09T00:52:36.696682",
     "exception": false,
     "start_time": "2025-01-09T00:52:36.686590",
     "status": "completed"
    },
    "tags": []
   },
   "outputs": [],
   "source": [
    "# thư mục gốc chứa thư mục dữ liệu\n",
    "szWorkingDir = \"/kaggle/input/cs114-ml\"\n",
    "\n",
    "# dùng để hiển thị\n",
    "nNumImgsPerRow = 10\n",
    "nImgHeight = nImgWidth = 150"
   ]
  },
  {
   "cell_type": "code",
   "execution_count": 3,
   "id": "e6453fff",
   "metadata": {
    "execution": {
     "iopub.execute_input": "2025-01-09T00:52:36.705995Z",
     "iopub.status.busy": "2025-01-09T00:52:36.705709Z",
     "iopub.status.idle": "2025-01-09T00:52:36.709654Z",
     "shell.execute_reply": "2025-01-09T00:52:36.709020Z"
    },
    "papermill": {
     "duration": 0.010053,
     "end_time": "2025-01-09T00:52:36.710924",
     "exception": false,
     "start_time": "2025-01-09T00:52:36.700871",
     "status": "completed"
    },
    "tags": []
   },
   "outputs": [],
   "source": [
    "# mapping\n",
    "labels = {\n",
    "    'Others': 0,\n",
    "    'Honda': 1,\n",
    "    'Hyundai': 2,\n",
    "    'KIA': 3,\n",
    "    'Mazda': 4,\n",
    "    'Mitsubishi': 5,\n",
    "    'Suzuki': 6,\n",
    "    'Toyota': 7,\n",
    "    'VinFast': 8\n",
    "}\n",
    "reverse_map_labels = {\n",
    "    0: 'Others',\n",
    "    1: 'Honda',\n",
    "    2: 'Hyundai',\n",
    "    3: 'KIA',\n",
    "    4: 'Mazda',\n",
    "    5: 'Mitsubishi',\n",
    "    6: 'Suzuki',\n",
    "    7: 'Toyota',\n",
    "    8: 'VinFast'\n",
    "}"
   ]
  },
  {
   "cell_type": "code",
   "execution_count": 4,
   "id": "5a1413e5",
   "metadata": {
    "execution": {
     "iopub.execute_input": "2025-01-09T00:52:36.720213Z",
     "iopub.status.busy": "2025-01-09T00:52:36.719990Z",
     "iopub.status.idle": "2025-01-09T00:52:36.775618Z",
     "shell.execute_reply": "2025-01-09T00:52:36.774435Z"
    },
    "papermill": {
     "duration": 0.061734,
     "end_time": "2025-01-09T00:52:36.777122",
     "exception": false,
     "start_time": "2025-01-09T00:52:36.715388",
     "status": "completed"
    },
    "tags": []
   },
   "outputs": [
    {
     "name": "stdout",
     "output_type": "stream",
     "text": [
      "Using device: cuda\n"
     ]
    }
   ],
   "source": [
    "device = torch.device(\"cuda\" if torch.cuda.is_available() else \"cpu\")\n",
    "print(f\"Using device: {device}\")"
   ]
  },
  {
   "cell_type": "code",
   "execution_count": 5,
   "id": "6497d2c3",
   "metadata": {
    "execution": {
     "iopub.execute_input": "2025-01-09T00:52:36.787142Z",
     "iopub.status.busy": "2025-01-09T00:52:36.786871Z",
     "iopub.status.idle": "2025-01-09T00:52:36.790549Z",
     "shell.execute_reply": "2025-01-09T00:52:36.789818Z"
    },
    "papermill": {
     "duration": 0.010354,
     "end_time": "2025-01-09T00:52:36.791944",
     "exception": false,
     "start_time": "2025-01-09T00:52:36.781590",
     "status": "completed"
    },
    "tags": []
   },
   "outputs": [],
   "source": [
    "szWorkingDir = \"/kaggle/input/cs114-ml\"\n",
    "path_img = os.path.join(szWorkingDir, \"dataset\")"
   ]
  },
  {
   "cell_type": "code",
   "execution_count": 6,
   "id": "a960988b",
   "metadata": {
    "execution": {
     "iopub.execute_input": "2025-01-09T00:52:36.801547Z",
     "iopub.status.busy": "2025-01-09T00:52:36.801289Z",
     "iopub.status.idle": "2025-01-09T00:52:36.821556Z",
     "shell.execute_reply": "2025-01-09T00:52:36.820791Z"
    },
    "papermill": {
     "duration": 0.026661,
     "end_time": "2025-01-09T00:52:36.823053",
     "exception": false,
     "start_time": "2025-01-09T00:52:36.796392",
     "status": "completed"
    },
    "tags": []
   },
   "outputs": [],
   "source": [
    "# Đọc file lỗi\n",
    "error = pd.read_csv(os.path.join(szWorkingDir, \"ImageErrors.csv\"))\n",
    "error_paths = error.iloc[:, 0].unique().tolist()  # Lấy danh sách đường dẫn ảnh lỗi"
   ]
  },
  {
   "cell_type": "code",
   "execution_count": 7,
   "id": "88e1b8e7",
   "metadata": {
    "execution": {
     "iopub.execute_input": "2025-01-09T00:52:36.832767Z",
     "iopub.status.busy": "2025-01-09T00:52:36.832499Z",
     "iopub.status.idle": "2025-01-09T00:52:36.836145Z",
     "shell.execute_reply": "2025-01-09T00:52:36.835329Z"
    },
    "papermill": {
     "duration": 0.009996,
     "end_time": "2025-01-09T00:52:36.837477",
     "exception": false,
     "start_time": "2025-01-09T00:52:36.827481",
     "status": "completed"
    },
    "tags": []
   },
   "outputs": [],
   "source": [
    "# Đọc các tập dữ liệu split\n",
    "csv_dir = os.path.join(szWorkingDir, \"car_split/car_split\")"
   ]
  },
  {
   "cell_type": "code",
   "execution_count": 8,
   "id": "9e5bc401",
   "metadata": {
    "execution": {
     "iopub.execute_input": "2025-01-09T00:52:36.846777Z",
     "iopub.status.busy": "2025-01-09T00:52:36.846543Z",
     "iopub.status.idle": "2025-01-09T00:52:36.853872Z",
     "shell.execute_reply": "2025-01-09T00:52:36.853146Z"
    },
    "papermill": {
     "duration": 0.013626,
     "end_time": "2025-01-09T00:52:36.855245",
     "exception": false,
     "start_time": "2025-01-09T00:52:36.841619",
     "status": "completed"
    },
    "tags": []
   },
   "outputs": [],
   "source": [
    "# Hàm xử lý dữ liệu cho từng fold\n",
    "def prepare_data_for_fold(fold_num, error_paths):\n",
    "    # Đọc file train và test cho fold\n",
    "    img_path_train = os.path.join(csv_dir, f\"CarDataset-Splits-{fold_num}-Train.csv\")\n",
    "    img_path_test = os.path.join(csv_dir, f\"CarDataset-Splits-{fold_num}-Test.csv\")\n",
    "    \n",
    "    # Đọc dữ liệu train và test\n",
    "    dataTrain = pd.read_csv(img_path_train)\n",
    "    dataTest = pd.read_csv(img_path_test)\n",
    "\n",
    "    # Loại bỏ ảnh lỗi trong cả train và test\n",
    "    dataTrain = dataTrain[~dataTrain['ImageFullPath'].isin(error_paths)]\n",
    "    dataTest = dataTest[~dataTest['ImageFullPath'].isin(error_paths)]\n",
    "\n",
    "    # Đọc các nhóm ảnh trùng từ file CheckDuplicate\n",
    "    checkduplicate_file = os.path.join(szWorkingDir, f\"CheckDuplicate/CheckDuplicate_Train_{fold_num}.csv\")\n",
    "    duplicates_df = pd.read_csv(checkduplicate_file)\n",
    "    \n",
    "    # Loại bỏ ảnh trùng\n",
    "    duplicate_groups = duplicates_df.groupby('ClusterID')['ImageFullPath'].agg(list)\n",
    "    for group in duplicate_groups:\n",
    "        if len(group) > 1:\n",
    "            # Chọn ngẫu nhiên 1 ảnh giữ lại\n",
    "            keep_image = np.random.choice(group, 1)[0]\n",
    "            # Lấy các ảnh cần loại bỏ\n",
    "            remove_images = [img for img in group if img != keep_image]\n",
    "            # Loại bỏ ảnh trùng trong DataFrame\n",
    "            dataTrain = dataTrain[~dataTrain['ImageFullPath'].isin(remove_images)]\n",
    "    \n",
    "    # Đường dẫn ảnh cho train và test\n",
    "    train_images = [os.path.join(path_img, img) for img in dataTrain['ImageFullPath']]\n",
    "    train_labels = dataTrain['CategoryID'].tolist()\n",
    "    \n",
    "    test_images = [os.path.join(path_img, img) for img in dataTest['ImageFullPath']]\n",
    "    test_labels = dataTest['CategoryID'].tolist()\n",
    "\n",
    "    # Chia dữ liệu train thành train và validation\n",
    "    train_X, val_X, train_Y, val_Y = train_test_split(train_images, train_labels, test_size=0.2, random_state=30)\n",
    "    \n",
    "    # In ra số lượng lớp trong tập train và validation\n",
    "    print(f\"Fold {fold_num}:\")\n",
    "    print(f\"Train label count: {Counter(train_Y)}\")\n",
    "    print(f\"Validation label count: {Counter(val_Y)}\")\n",
    "    \n",
    "    return train_X, val_X, train_Y, val_Y, test_images, test_labels"
   ]
  },
  {
   "cell_type": "code",
   "execution_count": 9,
   "id": "eda911ed",
   "metadata": {
    "execution": {
     "iopub.execute_input": "2025-01-09T00:52:36.864486Z",
     "iopub.status.busy": "2025-01-09T00:52:36.864239Z",
     "iopub.status.idle": "2025-01-09T00:52:36.867328Z",
     "shell.execute_reply": "2025-01-09T00:52:36.866608Z"
    },
    "papermill": {
     "duration": 0.008953,
     "end_time": "2025-01-09T00:52:36.868484",
     "exception": false,
     "start_time": "2025-01-09T00:52:36.859531",
     "status": "completed"
    },
    "tags": []
   },
   "outputs": [],
   "source": [
    "# # Chạy vòng lặp cho từng fold (1 đến 5)\n",
    "# error_paths = error_paths # Đảm bảo bạn đã lấy danh sách ảnh lỗi\n",
    "# for fold_num in range(1, 6):\n",
    "#     print(f\"Preparing data for fold {fold_num}\")\n",
    "#     train_X, val_X, train_Y, val_Y, test_images, test_labels = prepare_data_for_fold(fold_num, error_paths)"
   ]
  },
  {
   "cell_type": "code",
   "execution_count": 10,
   "id": "638fbe73",
   "metadata": {
    "execution": {
     "iopub.execute_input": "2025-01-09T00:52:36.877679Z",
     "iopub.status.busy": "2025-01-09T00:52:36.877454Z",
     "iopub.status.idle": "2025-01-09T00:52:36.881268Z",
     "shell.execute_reply": "2025-01-09T00:52:36.880456Z"
    },
    "papermill": {
     "duration": 0.009762,
     "end_time": "2025-01-09T00:52:36.882545",
     "exception": false,
     "start_time": "2025-01-09T00:52:36.872783",
     "status": "completed"
    },
    "tags": []
   },
   "outputs": [],
   "source": [
    "# Chuẩn bị ResNet152\n",
    "def prepare_resnet152():\n",
    "    # Tải mô hình ResNet152 từ PyTorch\n",
    "    model = models.resnet152(pretrained=True)\n",
    "    \n",
    "    # Đặt lại lớp fully connected (FC) cuối cùng để phù hợp với số lớp của bài toán\n",
    "    num_ftrs = model.fc.in_features\n",
    "    model.fc = nn.Linear(num_ftrs, 9)  # Số lớp là 9 (dựa trên các lớp của bạn)\n",
    "    \n",
    "    return model"
   ]
  },
  {
   "cell_type": "code",
   "execution_count": 11,
   "id": "ff32e153",
   "metadata": {
    "execution": {
     "iopub.execute_input": "2025-01-09T00:52:36.891878Z",
     "iopub.status.busy": "2025-01-09T00:52:36.891578Z",
     "iopub.status.idle": "2025-01-09T00:52:36.895092Z",
     "shell.execute_reply": "2025-01-09T00:52:36.894508Z"
    },
    "papermill": {
     "duration": 0.009451,
     "end_time": "2025-01-09T00:52:36.896272",
     "exception": false,
     "start_time": "2025-01-09T00:52:36.886821",
     "status": "completed"
    },
    "tags": []
   },
   "outputs": [],
   "source": [
    "# # Hàm huấn luyện mô hình\n",
    "# def train_model(model, criterion, optimizer, train_loader, val_loader, device, num_epochs=10):\n",
    "#     best_acc = 0.0\n",
    "#     model.to(device)\n",
    "    \n",
    "#     for epoch in range(num_epochs):\n",
    "#         print(f\"Epoch {epoch+1}/{num_epochs}\")\n",
    "        \n",
    "#         # Huấn luyện\n",
    "#         model.train()\n",
    "#         running_loss = 0.0\n",
    "#         running_corrects = 0\n",
    "        \n",
    "#         for inputs, labels in tqdm(train_loader, desc=\"Training\"):\n",
    "#             inputs = inputs.to(device)\n",
    "#             labels = labels.to(device)\n",
    "            \n",
    "#             optimizer.zero_grad()\n",
    "            \n",
    "#             # Tiến hành forward pass\n",
    "#             outputs = model(inputs)\n",
    "#             loss = criterion(outputs, labels)\n",
    "#             loss.backward()\n",
    "#             optimizer.step()\n",
    "            \n",
    "#             # Tính accuracy\n",
    "#             _, preds = torch.max(outputs, 1)\n",
    "#             running_loss += loss.item() * inputs.size(0)\n",
    "#             running_corrects += torch.sum(preds == labels.data)\n",
    "        \n",
    "#         # Tính accuracy trên train\n",
    "#         train_loss = running_loss / len(train_loader.dataset)\n",
    "#         train_acc = running_corrects.double() / len(train_loader.dataset)\n",
    "#         print(f\"Train Loss: {train_loss:.4f}, Train Accuracy: {train_acc:.4f}\")\n",
    "        \n",
    "#         # Đánh giá trên validation set\n",
    "#         model.eval()\n",
    "#         val_running_corrects = 0\n",
    "#         with torch.no_grad():\n",
    "#             for inputs, labels in tqdm(val_loader, desc=\"Validation\"):\n",
    "#                 inputs = inputs.to(device)\n",
    "#                 labels = labels.to(device)\n",
    "                \n",
    "#                 outputs = model(inputs)\n",
    "#                 _, preds = torch.max(outputs, 1)\n",
    "#                 val_running_corrects += torch.sum(preds == labels.data)\n",
    "        \n",
    "#         # Tính accuracy trên validation\n",
    "#         val_acc = val_running_corrects.double() / len(val_loader.dataset)\n",
    "#         print(f\"Validation Accuracy: {val_acc:.4f}\")\n",
    "        \n",
    "#         # Lưu lại mô hình tốt nhất\n",
    "#         if val_acc > best_acc:\n",
    "#             best_acc = val_acc\n",
    "#             # Lưu mô hình nếu cải thiện accuracy\n",
    "#             torch.save(model.state_dict(), 'best_resnet152_model.pth')\n",
    "    \n",
    "#     return model"
   ]
  },
  {
   "cell_type": "code",
   "execution_count": 12,
   "id": "044aee41",
   "metadata": {
    "execution": {
     "iopub.execute_input": "2025-01-09T00:52:36.905510Z",
     "iopub.status.busy": "2025-01-09T00:52:36.905276Z",
     "iopub.status.idle": "2025-01-09T00:52:36.912729Z",
     "shell.execute_reply": "2025-01-09T00:52:36.911932Z"
    },
    "papermill": {
     "duration": 0.013526,
     "end_time": "2025-01-09T00:52:36.914176",
     "exception": false,
     "start_time": "2025-01-09T00:52:36.900650",
     "status": "completed"
    },
    "tags": []
   },
   "outputs": [],
   "source": [
    "def train_model(model, criterion, optimizer, train_loader, val_loader, device, num_epochs=10):\n",
    "    best_acc = 0.0\n",
    "    model.to(device)\n",
    "\n",
    "    train_losses, val_accuracies = [], []\n",
    "\n",
    "    for epoch in range(num_epochs):\n",
    "        print(f\"Epoch {epoch+1}/{num_epochs}\")\n",
    "        \n",
    "        # Huấn luyện\n",
    "        model.train()\n",
    "        running_loss = 0.0\n",
    "        running_corrects = 0\n",
    "\n",
    "        for inputs, labels in tqdm(train_loader, desc=\"Training\"):\n",
    "            inputs, labels = inputs.to(device), labels.to(device)\n",
    "            \n",
    "            optimizer.zero_grad()\n",
    "            outputs = model(inputs)\n",
    "            loss = criterion(outputs, labels)\n",
    "            loss.backward()\n",
    "            optimizer.step()\n",
    "            \n",
    "            _, preds = torch.max(outputs, 1)\n",
    "            running_loss += loss.item() * inputs.size(0)\n",
    "            running_corrects += torch.sum(preds == labels.data)\n",
    "\n",
    "        train_loss = running_loss / len(train_loader.dataset)\n",
    "        train_acc = running_corrects.double() / len(train_loader.dataset)\n",
    "        train_losses.append(train_loss)\n",
    "        print(f\"Train Loss: {train_loss:.4f}, Train Accuracy: {train_acc:.4f}\")\n",
    "\n",
    "        # Validation\n",
    "        model.eval()\n",
    "        val_running_corrects = 0\n",
    "        with torch.no_grad():\n",
    "            for inputs, labels in tqdm(val_loader, desc=\"Validation\"):\n",
    "                inputs, labels = inputs.to(device), labels.to(device)\n",
    "                outputs = model(inputs)\n",
    "                _, preds = torch.max(outputs, 1)\n",
    "                val_running_corrects += torch.sum(preds == labels.data)\n",
    "\n",
    "        val_acc = val_running_corrects.double() / len(val_loader.dataset)\n",
    "        val_accuracies.append(val_acc.item())\n",
    "        print(f\"Validation Accuracy: {val_acc:.4f}\")\n",
    "\n",
    "        if val_acc > best_acc:\n",
    "            best_acc = val_acc\n",
    "            torch.save(model.state_dict(), 'best_resnet152_model.pth')\n",
    "\n",
    "    return model, train_losses, val_accuracies"
   ]
  },
  {
   "cell_type": "code",
   "execution_count": 13,
   "id": "6e1791a0",
   "metadata": {
    "execution": {
     "iopub.execute_input": "2025-01-09T00:52:36.923341Z",
     "iopub.status.busy": "2025-01-09T00:52:36.923112Z",
     "iopub.status.idle": "2025-01-09T00:52:36.927952Z",
     "shell.execute_reply": "2025-01-09T00:52:36.927245Z"
    },
    "papermill": {
     "duration": 0.01079,
     "end_time": "2025-01-09T00:52:36.929196",
     "exception": false,
     "start_time": "2025-01-09T00:52:36.918406",
     "status": "completed"
    },
    "tags": []
   },
   "outputs": [],
   "source": [
    "#Hàm đánh giá mô hình trên test set\n",
    "def evaluate_model(model, test_loader, device):\n",
    "    model.to(device)\n",
    "    model.eval()\n",
    "    predictions = []\n",
    "    true_labels = []\n",
    "    \n",
    "    with torch.no_grad():\n",
    "        for inputs, labels in tqdm(test_loader, desc=\"Evaluating\"):\n",
    "            inputs = inputs.to(device)\n",
    "            labels = labels.to(device)\n",
    "            \n",
    "            outputs = model(inputs)\n",
    "            _, preds = torch.max(outputs, 1)\n",
    "            predictions.extend(preds.cpu().numpy())\n",
    "            true_labels.extend(labels.cpu().numpy())\n",
    "    \n",
    "    # Tính accuracy\n",
    "    accuracy = accuracy_score(true_labels, predictions)\n",
    "    print(f\"Test Accuracy: {accuracy:.4f}\")\n",
    "    return accuracy"
   ]
  },
  {
   "cell_type": "code",
   "execution_count": 14,
   "id": "fbbd5d7e",
   "metadata": {
    "execution": {
     "iopub.execute_input": "2025-01-09T00:52:36.938289Z",
     "iopub.status.busy": "2025-01-09T00:52:36.938068Z",
     "iopub.status.idle": "2025-01-09T00:52:36.942882Z",
     "shell.execute_reply": "2025-01-09T00:52:36.942183Z"
    },
    "papermill": {
     "duration": 0.010794,
     "end_time": "2025-01-09T00:52:36.944079",
     "exception": false,
     "start_time": "2025-01-09T00:52:36.933285",
     "status": "completed"
    },
    "tags": []
   },
   "outputs": [],
   "source": [
    "# Chuyển đổi dữ liệu thành tensor và chuẩn hóa hình ảnh\n",
    "data_transforms = {\n",
    "    'train': transforms.Compose([\n",
    "        transforms.Resize((224, 224)),\n",
    "        transforms.ToTensor(),\n",
    "        transforms.Normalize(mean=[0.485, 0.456, 0.406], std=[0.229, 0.224, 0.225]),\n",
    "    ]),\n",
    "    'val': transforms.Compose([\n",
    "        transforms.Resize((224, 224)),\n",
    "        transforms.ToTensor(),\n",
    "        transforms.Normalize(mean=[0.485, 0.456, 0.406], std=[0.229, 0.224, 0.225]),\n",
    "    ]),\n",
    "    'test': transforms.Compose([\n",
    "        transforms.Resize((224, 224)),\n",
    "        transforms.ToTensor(),\n",
    "        transforms.Normalize(mean=[0.485, 0.456, 0.406], std=[0.229, 0.224, 0.225]),\n",
    "    ]),\n",
    "}"
   ]
  },
  {
   "cell_type": "code",
   "execution_count": 15,
   "id": "49ff8d98",
   "metadata": {
    "execution": {
     "iopub.execute_input": "2025-01-09T00:52:36.953258Z",
     "iopub.status.busy": "2025-01-09T00:52:36.953032Z",
     "iopub.status.idle": "2025-01-09T00:52:36.957940Z",
     "shell.execute_reply": "2025-01-09T00:52:36.957035Z"
    },
    "papermill": {
     "duration": 0.01095,
     "end_time": "2025-01-09T00:52:36.959225",
     "exception": false,
     "start_time": "2025-01-09T00:52:36.948275",
     "status": "completed"
    },
    "tags": []
   },
   "outputs": [],
   "source": [
    "# Tạo DataLoader cho từng fold (train, val, test)\n",
    "class CustomDataset(Dataset):\n",
    "    def __init__(self, image_paths, labels, transform=None):\n",
    "        self.image_paths = image_paths\n",
    "        self.labels = labels\n",
    "        self.transform = transform\n",
    "    \n",
    "    def __len__(self):\n",
    "        return len(self.image_paths)\n",
    "    \n",
    "    def __getitem__(self, idx):\n",
    "        img_path = self.image_paths[idx]\n",
    "        image = Image.open(img_path).convert(\"RGB\")\n",
    "        label = self.labels[idx]\n",
    "        \n",
    "        if self.transform:\n",
    "            image = self.transform(image)\n",
    "        \n",
    "        return image, label"
   ]
  },
  {
   "cell_type": "code",
   "execution_count": 16,
   "id": "0dc32847",
   "metadata": {
    "execution": {
     "iopub.execute_input": "2025-01-09T00:52:36.968387Z",
     "iopub.status.busy": "2025-01-09T00:52:36.968165Z",
     "iopub.status.idle": "2025-01-09T00:52:36.971249Z",
     "shell.execute_reply": "2025-01-09T00:52:36.970540Z"
    },
    "papermill": {
     "duration": 0.009178,
     "end_time": "2025-01-09T00:52:36.972534",
     "exception": false,
     "start_time": "2025-01-09T00:52:36.963356",
     "status": "completed"
    },
    "tags": []
   },
   "outputs": [],
   "source": [
    "# # Tạo DataLoader cho từng fold\n",
    "# train_dataset = CustomDataset(train_X, train_Y, transform=data_transforms['train'])\n",
    "# val_dataset = CustomDataset(val_X, val_Y, transform=data_transforms['val'])\n",
    "# test_dataset = CustomDataset(test_images, test_labels, transform=data_transforms['test'])\n",
    "\n",
    "# train_loader = DataLoader(train_dataset, batch_size=32, shuffle=True)\n",
    "# val_loader = DataLoader(val_dataset, batch_size=32, shuffle=False)\n",
    "# test_loader = DataLoader(test_dataset, batch_size=32, shuffle=False)"
   ]
  },
  {
   "cell_type": "code",
   "execution_count": 17,
   "id": "2d6adb84",
   "metadata": {
    "execution": {
     "iopub.execute_input": "2025-01-09T00:52:36.981919Z",
     "iopub.status.busy": "2025-01-09T00:52:36.981652Z",
     "iopub.status.idle": "2025-01-09T00:52:36.984693Z",
     "shell.execute_reply": "2025-01-09T00:52:36.984058Z"
    },
    "papermill": {
     "duration": 0.008924,
     "end_time": "2025-01-09T00:52:36.986020",
     "exception": false,
     "start_time": "2025-01-09T00:52:36.977096",
     "status": "completed"
    },
    "tags": []
   },
   "outputs": [],
   "source": [
    "# Chạy vòng lặp cho từng fold (1 đến 5)\n",
    "error_paths = error_paths  # Đảm bảo bạn đã lấy danh sách ảnh lỗi\n",
    "\n",
    "# Danh sách lưu kết quả accuracies của mỗi fold\n",
    "accuracies = []"
   ]
  },
  {
   "cell_type": "code",
   "execution_count": 18,
   "id": "33e27a86",
   "metadata": {
    "execution": {
     "iopub.execute_input": "2025-01-09T00:52:36.995430Z",
     "iopub.status.busy": "2025-01-09T00:52:36.995206Z",
     "iopub.status.idle": "2025-01-09T00:52:37.003442Z",
     "shell.execute_reply": "2025-01-09T00:52:37.002816Z"
    },
    "papermill": {
     "duration": 0.014389,
     "end_time": "2025-01-09T00:52:37.004635",
     "exception": false,
     "start_time": "2025-01-09T00:52:36.990246",
     "status": "completed"
    },
    "tags": []
   },
   "outputs": [],
   "source": [
    "def run_cross_validation(error_paths, data_transforms, device):\n",
    "    accuracies = []\n",
    "    fold_train_losses, fold_val_accuracies = [], []\n",
    "\n",
    "    for fold_num in range(1, 6):\n",
    "        print(f\"Processing fold {fold_num}\")\n",
    "\n",
    "        # Chuẩn bị dữ liệu\n",
    "        train_X, val_X, train_Y, val_Y, test_images, test_labels = prepare_data_for_fold(fold_num, error_paths)\n",
    "\n",
    "        train_dataset = CustomDataset(train_X, train_Y, transform=data_transforms['train'])\n",
    "        val_dataset = CustomDataset(val_X, val_Y, transform=data_transforms['val'])\n",
    "        test_dataset = CustomDataset(test_images, test_labels, transform=data_transforms['test'])\n",
    "\n",
    "        train_loader = DataLoader(train_dataset, batch_size=32, shuffle=True)\n",
    "        val_loader = DataLoader(val_dataset, batch_size=32, shuffle=False)\n",
    "        test_loader = DataLoader(test_dataset, batch_size=32, shuffle=False)\n",
    "\n",
    "        # Tạo mô hình và thiết lập optimizer\n",
    "        model = prepare_resnet152()\n",
    "        criterion = nn.CrossEntropyLoss()\n",
    "        optimizer = optim.Adam(model.parameters(), lr=0.0001, weight_decay=1e-5)  # Thêm weight decay để giảm overfitting\n",
    "\n",
    "        # Huấn luyện\n",
    "        model, train_losses, val_accuracies = train_model(model, criterion, optimizer, train_loader, val_loader, device, num_epochs=10)\n",
    "        fold_train_losses.append(train_losses)\n",
    "        fold_val_accuracies.append(val_accuracies)\n",
    "\n",
    "        # Đánh giá\n",
    "        accuracy = evaluate_model(model, test_loader, device)\n",
    "        accuracies.append(accuracy)\n",
    "\n",
    "        print(f\"Accuracy for fold {fold_num}: {accuracy:.4f}\")\n",
    "\n",
    "    average_accuracy = np.mean(accuracies)\n",
    "    print(f\"Average Accuracy: {average_accuracy:.4f}\")\n",
    "    # Vẽ biểu đồ loss và accuracy cho từng fold\n",
    "    for fold_num in range(1, 6):\n",
    "        plt.figure(figsize=(12, 5))\n",
    "\n",
    "        # Train loss\n",
    "        plt.subplot(1, 2, 1)\n",
    "        plt.plot(fold_train_losses[fold_num - 1], label=f\"Fold {fold_num}\")\n",
    "        plt.title(\"Train Loss\")\n",
    "        plt.xlabel(\"Epoch\")\n",
    "        plt.ylabel(\"Loss\")\n",
    "        plt.legend()\n",
    "\n",
    "        # Validation accuracy\n",
    "        plt.subplot(1, 2, 2)\n",
    "        plt.plot(fold_val_accuracies[fold_num - 1], label=f\"Fold {fold_num}\")\n",
    "        plt.title(\"Validation Accuracy\")\n",
    "        plt.xlabel(\"Epoch\")\n",
    "        plt.ylabel(\"Accuracy\")\n",
    "        plt.legend()\n",
    "\n",
    "        plt.suptitle(f\"Fold {fold_num} Metrics\")\n",
    "        plt.show()\n",
    "\n",
    "    # return accuracies, average_accuracy"
   ]
  },
  {
   "cell_type": "code",
   "execution_count": 19,
   "id": "f9c7532f",
   "metadata": {
    "execution": {
     "iopub.execute_input": "2025-01-09T00:52:37.013963Z",
     "iopub.status.busy": "2025-01-09T00:52:37.013664Z",
     "iopub.status.idle": "2025-01-09T00:52:37.017033Z",
     "shell.execute_reply": "2025-01-09T00:52:37.016405Z"
    },
    "papermill": {
     "duration": 0.009314,
     "end_time": "2025-01-09T00:52:37.018180",
     "exception": false,
     "start_time": "2025-01-09T00:52:37.008866",
     "status": "completed"
    },
    "tags": []
   },
   "outputs": [],
   "source": [
    "# # Lặp qua từng fold\n",
    "# accuracies = []  # Danh sách lưu trữ accuracies của mỗi fold\n",
    "\n",
    "# for fold_num in range(1, 6):\n",
    "#     print(f\"Processing fold {fold_num}\")\n",
    "    \n",
    "#     # Chuẩn bị dữ liệu cho từng fold\n",
    "#     train_X, val_X, train_Y, val_Y, test_images, test_labels = prepare_data_for_fold(fold_num, error_paths)\n",
    "    \n",
    "#     # Tạo DataLoader cho fold hiện tại\n",
    "#     train_dataset = CustomDataset(train_X, train_Y, transform=data_transforms['train'])\n",
    "#     val_dataset = CustomDataset(val_X, val_Y, transform=data_transforms['val'])\n",
    "#     test_dataset = CustomDataset(test_images, test_labels, transform=data_transforms['test'])\n",
    "    \n",
    "#     train_loader = DataLoader(train_dataset, batch_size=32, shuffle=True)\n",
    "#     val_loader = DataLoader(val_dataset, batch_size=32, shuffle=False)\n",
    "#     test_loader = DataLoader(test_dataset, batch_size=32, shuffle=False)\n",
    "    \n",
    "#     # Tạo mô hình ResNet152\n",
    "#     model = prepare_resnet152()\n",
    "    \n",
    "#     # Thiết lập criterion và optimizer\n",
    "#     criterion = nn.CrossEntropyLoss()\n",
    "#     optimizer = optim.Adam(model.parameters(), lr=0.0001)\n",
    "    \n",
    "#     # Huấn luyện mô hình\n",
    "#     model = train_model(model, criterion, optimizer, train_loader, val_loader, device, num_epochs=15)\n",
    "    \n",
    "#     # Đánh giá mô hình\n",
    "#     accuracy = evaluate_model(model, test_loader, device)\n",
    "#     accuracies.append(accuracy)\n",
    "    \n",
    "#     # In accuracy của từng fold\n",
    "#     print(f\"Accuracy for fold {fold_num}: {accuracy:.4f}\")\n",
    "\n",
    "# # Tính accuracy trung bình\n",
    "# average_accuracy = np.mean(accuracies)\n",
    "# print(f\"Average Accuracy: {average_accuracy:.4f}\")"
   ]
  },
  {
   "cell_type": "code",
   "execution_count": 20,
   "id": "dc3e6ebb",
   "metadata": {
    "execution": {
     "iopub.execute_input": "2025-01-09T00:52:37.028013Z",
     "iopub.status.busy": "2025-01-09T00:52:37.027727Z",
     "iopub.status.idle": "2025-01-09T00:52:37.031216Z",
     "shell.execute_reply": "2025-01-09T00:52:37.030313Z"
    },
    "papermill": {
     "duration": 0.009588,
     "end_time": "2025-01-09T00:52:37.032405",
     "exception": false,
     "start_time": "2025-01-09T00:52:37.022817",
     "status": "completed"
    },
    "tags": []
   },
   "outputs": [],
   "source": [
    "# # Vẽ biểu đồ loss và accuracy cho từng fold\n",
    "#     for fold_num in range(1, 6):\n",
    "#         plt.figure(figsize=(12, 5))\n",
    "\n",
    "#         # Train loss\n",
    "#         plt.subplot(1, 2, 1)\n",
    "#         plt.plot(fold_train_losses[fold_num - 1], label=f\"Fold {fold_num}\")\n",
    "#         plt.title(\"Train Loss\")\n",
    "#         plt.xlabel(\"Epoch\")\n",
    "#         plt.ylabel(\"Loss\")\n",
    "#         plt.legend()\n",
    "\n",
    "#         # Validation accuracy\n",
    "#         plt.subplot(1, 2, 2)\n",
    "#         plt.plot(fold_val_accuracies[fold_num - 1], label=f\"Fold {fold_num}\")\n",
    "#         plt.title(\"Validation Accuracy\")\n",
    "#         plt.xlabel(\"Epoch\")\n",
    "#         plt.ylabel(\"Accuracy\")\n",
    "#         plt.legend()\n",
    "\n",
    "#         plt.suptitle(f\"Fold {fold_num} Metrics\")\n",
    "#         plt.show()\n",
    "\n",
    "#     return accuracies, average_accuracy"
   ]
  },
  {
   "cell_type": "code",
   "execution_count": 21,
   "id": "7f5aa929",
   "metadata": {
    "execution": {
     "iopub.execute_input": "2025-01-09T00:52:37.041547Z",
     "iopub.status.busy": "2025-01-09T00:52:37.041310Z",
     "iopub.status.idle": "2025-01-09T12:10:15.924269Z",
     "shell.execute_reply": "2025-01-09T12:10:15.923123Z"
    },
    "papermill": {
     "duration": 40658.889018,
     "end_time": "2025-01-09T12:10:15.925608",
     "exception": true,
     "start_time": "2025-01-09T00:52:37.036590",
     "status": "failed"
    },
    "tags": []
   },
   "outputs": [
    {
     "name": "stdout",
     "output_type": "stream",
     "text": [
      "Processing fold 1\n",
      "Fold 1:\n",
      "Train label count: Counter({6: 4219, 7: 3688, 0: 2683, 2: 2151, 3: 2110, 4: 2063, 1: 2015, 5: 1840, 8: 1677})\n",
      "Validation label count: Counter({6: 1019, 7: 897, 0: 687, 1: 550, 2: 531, 3: 521, 4: 515, 5: 462, 8: 430})\n"
     ]
    },
    {
     "name": "stderr",
     "output_type": "stream",
     "text": [
      "/usr/local/lib/python3.10/dist-packages/torchvision/models/_utils.py:208: UserWarning: The parameter 'pretrained' is deprecated since 0.13 and may be removed in the future, please use 'weights' instead.\n",
      "  warnings.warn(\n",
      "/usr/local/lib/python3.10/dist-packages/torchvision/models/_utils.py:223: UserWarning: Arguments other than a weight enum or `None` for 'weights' are deprecated since 0.13 and may be removed in the future. The current behavior is equivalent to passing `weights=ResNet152_Weights.IMAGENET1K_V1`. You can also use `weights=ResNet152_Weights.DEFAULT` to get the most up-to-date weights.\n",
      "  warnings.warn(msg)\n",
      "Downloading: \"https://download.pytorch.org/models/resnet152-394f9c45.pth\" to /root/.cache/torch/hub/checkpoints/resnet152-394f9c45.pth\n",
      "100%|██████████| 230M/230M [00:01<00:00, 209MB/s]\n"
     ]
    },
    {
     "name": "stdout",
     "output_type": "stream",
     "text": [
      "Epoch 1/10\n"
     ]
    },
    {
     "name": "stderr",
     "output_type": "stream",
     "text": [
      "Training:   1%|          | 4/702 [00:05<14:37,  1.26s/it]/usr/local/lib/python3.10/dist-packages/PIL/Image.py:1056: UserWarning: Palette images with Transparency expressed in bytes should be converted to RGBA images\n",
      "  warnings.warn(\n",
      "Training: 100%|██████████| 702/702 [14:42<00:00,  1.26s/it]\n"
     ]
    },
    {
     "name": "stdout",
     "output_type": "stream",
     "text": [
      "Train Loss: 1.0265, Train Accuracy: 0.6502\n"
     ]
    },
    {
     "name": "stderr",
     "output_type": "stream",
     "text": [
      "Validation: 100%|██████████| 176/176 [02:34<00:00,  1.14it/s]\n"
     ]
    },
    {
     "name": "stdout",
     "output_type": "stream",
     "text": [
      "Validation Accuracy: 0.7297\n",
      "Epoch 2/10\n"
     ]
    },
    {
     "name": "stderr",
     "output_type": "stream",
     "text": [
      "Training: 100%|██████████| 702/702 [11:57<00:00,  1.02s/it]\n"
     ]
    },
    {
     "name": "stdout",
     "output_type": "stream",
     "text": [
      "Train Loss: 0.4726, Train Accuracy: 0.8457\n"
     ]
    },
    {
     "name": "stderr",
     "output_type": "stream",
     "text": [
      "Validation: 100%|██████████| 176/176 [01:57<00:00,  1.50it/s]\n"
     ]
    },
    {
     "name": "stdout",
     "output_type": "stream",
     "text": [
      "Validation Accuracy: 0.7550\n",
      "Epoch 3/10\n"
     ]
    },
    {
     "name": "stderr",
     "output_type": "stream",
     "text": [
      "Training: 100%|██████████| 702/702 [11:57<00:00,  1.02s/it]\n"
     ]
    },
    {
     "name": "stdout",
     "output_type": "stream",
     "text": [
      "Train Loss: 0.2385, Train Accuracy: 0.9228\n"
     ]
    },
    {
     "name": "stderr",
     "output_type": "stream",
     "text": [
      "Validation: 100%|██████████| 176/176 [01:54<00:00,  1.54it/s]\n"
     ]
    },
    {
     "name": "stdout",
     "output_type": "stream",
     "text": [
      "Validation Accuracy: 0.7806\n",
      "Epoch 4/10\n"
     ]
    },
    {
     "name": "stderr",
     "output_type": "stream",
     "text": [
      "Training: 100%|██████████| 702/702 [11:55<00:00,  1.02s/it]\n"
     ]
    },
    {
     "name": "stdout",
     "output_type": "stream",
     "text": [
      "Train Loss: 0.1618, Train Accuracy: 0.9475\n"
     ]
    },
    {
     "name": "stderr",
     "output_type": "stream",
     "text": [
      "Validation: 100%|██████████| 176/176 [01:57<00:00,  1.50it/s]\n"
     ]
    },
    {
     "name": "stdout",
     "output_type": "stream",
     "text": [
      "Validation Accuracy: 0.7951\n",
      "Epoch 5/10\n"
     ]
    },
    {
     "name": "stderr",
     "output_type": "stream",
     "text": [
      "Training: 100%|██████████| 702/702 [12:01<00:00,  1.03s/it]\n"
     ]
    },
    {
     "name": "stdout",
     "output_type": "stream",
     "text": [
      "Train Loss: 0.1286, Train Accuracy: 0.9580\n"
     ]
    },
    {
     "name": "stderr",
     "output_type": "stream",
     "text": [
      "Validation: 100%|██████████| 176/176 [01:54<00:00,  1.54it/s]\n"
     ]
    },
    {
     "name": "stdout",
     "output_type": "stream",
     "text": [
      "Validation Accuracy: 0.7978\n",
      "Epoch 6/10\n"
     ]
    },
    {
     "name": "stderr",
     "output_type": "stream",
     "text": [
      "Training: 100%|██████████| 702/702 [12:00<00:00,  1.03s/it]\n"
     ]
    },
    {
     "name": "stdout",
     "output_type": "stream",
     "text": [
      "Train Loss: 0.0994, Train Accuracy: 0.9665\n"
     ]
    },
    {
     "name": "stderr",
     "output_type": "stream",
     "text": [
      "Validation: 100%|██████████| 176/176 [01:54<00:00,  1.54it/s]\n"
     ]
    },
    {
     "name": "stdout",
     "output_type": "stream",
     "text": [
      "Validation Accuracy: 0.8090\n",
      "Epoch 7/10\n"
     ]
    },
    {
     "name": "stderr",
     "output_type": "stream",
     "text": [
      "Training: 100%|██████████| 702/702 [11:57<00:00,  1.02s/it]\n"
     ]
    },
    {
     "name": "stdout",
     "output_type": "stream",
     "text": [
      "Train Loss: 0.0797, Train Accuracy: 0.9746\n"
     ]
    },
    {
     "name": "stderr",
     "output_type": "stream",
     "text": [
      "Validation: 100%|██████████| 176/176 [01:56<00:00,  1.51it/s]\n"
     ]
    },
    {
     "name": "stdout",
     "output_type": "stream",
     "text": [
      "Validation Accuracy: 0.8067\n",
      "Epoch 8/10\n"
     ]
    },
    {
     "name": "stderr",
     "output_type": "stream",
     "text": [
      "Training: 100%|██████████| 702/702 [11:50<00:00,  1.01s/it]\n"
     ]
    },
    {
     "name": "stdout",
     "output_type": "stream",
     "text": [
      "Train Loss: 0.0854, Train Accuracy: 0.9725\n"
     ]
    },
    {
     "name": "stderr",
     "output_type": "stream",
     "text": [
      "Validation: 100%|██████████| 176/176 [01:56<00:00,  1.51it/s]\n"
     ]
    },
    {
     "name": "stdout",
     "output_type": "stream",
     "text": [
      "Validation Accuracy: 0.7814\n",
      "Epoch 9/10\n"
     ]
    },
    {
     "name": "stderr",
     "output_type": "stream",
     "text": [
      "Training: 100%|██████████| 702/702 [12:16<00:00,  1.05s/it]\n"
     ]
    },
    {
     "name": "stdout",
     "output_type": "stream",
     "text": [
      "Train Loss: 0.0708, Train Accuracy: 0.9776\n"
     ]
    },
    {
     "name": "stderr",
     "output_type": "stream",
     "text": [
      "Validation: 100%|██████████| 176/176 [02:00<00:00,  1.46it/s]\n"
     ]
    },
    {
     "name": "stdout",
     "output_type": "stream",
     "text": [
      "Validation Accuracy: 0.7714\n",
      "Epoch 10/10\n"
     ]
    },
    {
     "name": "stderr",
     "output_type": "stream",
     "text": [
      "Training: 100%|██████████| 702/702 [11:57<00:00,  1.02s/it]\n"
     ]
    },
    {
     "name": "stdout",
     "output_type": "stream",
     "text": [
      "Train Loss: 0.0623, Train Accuracy: 0.9807\n"
     ]
    },
    {
     "name": "stderr",
     "output_type": "stream",
     "text": [
      "Validation: 100%|██████████| 176/176 [01:54<00:00,  1.53it/s]\n"
     ]
    },
    {
     "name": "stdout",
     "output_type": "stream",
     "text": [
      "Validation Accuracy: 0.8181\n"
     ]
    },
    {
     "name": "stderr",
     "output_type": "stream",
     "text": [
      "Evaluating: 100%|██████████| 230/230 [03:53<00:00,  1.02s/it]\n"
     ]
    },
    {
     "name": "stdout",
     "output_type": "stream",
     "text": [
      "Test Accuracy: 0.8252\n",
      "Accuracy for fold 1: 0.8252\n",
      "Processing fold 2\n",
      "Fold 2:\n",
      "Train label count: Counter({6: 4203, 7: 3653, 0: 2689, 2: 2139, 3: 2137, 4: 2052, 1: 2009, 5: 1863, 8: 1716})\n",
      "Validation label count: Counter({6: 1046, 7: 925, 0: 686, 1: 544, 2: 529, 4: 523, 3: 491, 5: 464, 8: 408})\n"
     ]
    },
    {
     "name": "stderr",
     "output_type": "stream",
     "text": [
      "/usr/local/lib/python3.10/dist-packages/torchvision/models/_utils.py:208: UserWarning: The parameter 'pretrained' is deprecated since 0.13 and may be removed in the future, please use 'weights' instead.\n",
      "  warnings.warn(\n",
      "/usr/local/lib/python3.10/dist-packages/torchvision/models/_utils.py:223: UserWarning: Arguments other than a weight enum or `None` for 'weights' are deprecated since 0.13 and may be removed in the future. The current behavior is equivalent to passing `weights=ResNet152_Weights.IMAGENET1K_V1`. You can also use `weights=ResNet152_Weights.DEFAULT` to get the most up-to-date weights.\n",
      "  warnings.warn(msg)\n"
     ]
    },
    {
     "name": "stdout",
     "output_type": "stream",
     "text": [
      "Epoch 1/10\n"
     ]
    },
    {
     "name": "stderr",
     "output_type": "stream",
     "text": [
      "Training:   4%|▍         | 29/702 [00:30<11:19,  1.01s/it]/usr/local/lib/python3.10/dist-packages/PIL/Image.py:1056: UserWarning: Palette images with Transparency expressed in bytes should be converted to RGBA images\n",
      "  warnings.warn(\n",
      "Training: 100%|██████████| 702/702 [12:05<00:00,  1.03s/it]\n"
     ]
    },
    {
     "name": "stdout",
     "output_type": "stream",
     "text": [
      "Train Loss: 1.0180, Train Accuracy: 0.6543\n"
     ]
    },
    {
     "name": "stderr",
     "output_type": "stream",
     "text": [
      "Validation: 100%|██████████| 176/176 [01:55<00:00,  1.52it/s]\n"
     ]
    },
    {
     "name": "stdout",
     "output_type": "stream",
     "text": [
      "Validation Accuracy: 0.7543\n",
      "Epoch 2/10\n"
     ]
    },
    {
     "name": "stderr",
     "output_type": "stream",
     "text": [
      "Training: 100%|██████████| 702/702 [12:09<00:00,  1.04s/it]\n"
     ]
    },
    {
     "name": "stdout",
     "output_type": "stream",
     "text": [
      "Train Loss: 0.4693, Train Accuracy: 0.8478\n"
     ]
    },
    {
     "name": "stderr",
     "output_type": "stream",
     "text": [
      "Validation: 100%|██████████| 176/176 [01:58<00:00,  1.49it/s]\n"
     ]
    },
    {
     "name": "stdout",
     "output_type": "stream",
     "text": [
      "Validation Accuracy: 0.7790\n",
      "Epoch 3/10\n"
     ]
    },
    {
     "name": "stderr",
     "output_type": "stream",
     "text": [
      "Training: 100%|██████████| 702/702 [11:39<00:00,  1.00it/s]\n"
     ]
    },
    {
     "name": "stdout",
     "output_type": "stream",
     "text": [
      "Train Loss: 0.2438, Train Accuracy: 0.9211\n"
     ]
    },
    {
     "name": "stderr",
     "output_type": "stream",
     "text": [
      "Validation: 100%|██████████| 176/176 [01:47<00:00,  1.64it/s]\n"
     ]
    },
    {
     "name": "stdout",
     "output_type": "stream",
     "text": [
      "Validation Accuracy: 0.7954\n",
      "Epoch 4/10\n"
     ]
    },
    {
     "name": "stderr",
     "output_type": "stream",
     "text": [
      "Training: 100%|██████████| 702/702 [11:23<00:00,  1.03it/s]\n"
     ]
    },
    {
     "name": "stdout",
     "output_type": "stream",
     "text": [
      "Train Loss: 0.1552, Train Accuracy: 0.9492\n"
     ]
    },
    {
     "name": "stderr",
     "output_type": "stream",
     "text": [
      "Validation: 100%|██████████| 176/176 [01:46<00:00,  1.65it/s]\n"
     ]
    },
    {
     "name": "stdout",
     "output_type": "stream",
     "text": [
      "Validation Accuracy: 0.8061\n",
      "Epoch 5/10\n"
     ]
    },
    {
     "name": "stderr",
     "output_type": "stream",
     "text": [
      "Training: 100%|██████████| 702/702 [11:21<00:00,  1.03it/s]\n"
     ]
    },
    {
     "name": "stdout",
     "output_type": "stream",
     "text": [
      "Train Loss: 0.1203, Train Accuracy: 0.9609\n"
     ]
    },
    {
     "name": "stderr",
     "output_type": "stream",
     "text": [
      "Validation: 100%|██████████| 176/176 [01:45<00:00,  1.67it/s]\n"
     ]
    },
    {
     "name": "stdout",
     "output_type": "stream",
     "text": [
      "Validation Accuracy: 0.8043\n",
      "Epoch 6/10\n"
     ]
    },
    {
     "name": "stderr",
     "output_type": "stream",
     "text": [
      "Training: 100%|██████████| 702/702 [11:08<00:00,  1.05it/s]\n"
     ]
    },
    {
     "name": "stdout",
     "output_type": "stream",
     "text": [
      "Train Loss: 0.0932, Train Accuracy: 0.9699\n"
     ]
    },
    {
     "name": "stderr",
     "output_type": "stream",
     "text": [
      "Validation: 100%|██████████| 176/176 [01:39<00:00,  1.77it/s]\n"
     ]
    },
    {
     "name": "stdout",
     "output_type": "stream",
     "text": [
      "Validation Accuracy: 0.7817\n",
      "Epoch 7/10\n"
     ]
    },
    {
     "name": "stderr",
     "output_type": "stream",
     "text": [
      "Training: 100%|██████████| 702/702 [11:12<00:00,  1.04it/s]\n"
     ]
    },
    {
     "name": "stdout",
     "output_type": "stream",
     "text": [
      "Train Loss: 0.0926, Train Accuracy: 0.9686\n"
     ]
    },
    {
     "name": "stderr",
     "output_type": "stream",
     "text": [
      "Validation: 100%|██████████| 176/176 [01:40<00:00,  1.75it/s]\n"
     ]
    },
    {
     "name": "stdout",
     "output_type": "stream",
     "text": [
      "Validation Accuracy: 0.8013\n",
      "Epoch 8/10\n"
     ]
    },
    {
     "name": "stderr",
     "output_type": "stream",
     "text": [
      "Training: 100%|██████████| 702/702 [11:03<00:00,  1.06it/s]\n"
     ]
    },
    {
     "name": "stdout",
     "output_type": "stream",
     "text": [
      "Train Loss: 0.0733, Train Accuracy: 0.9768\n"
     ]
    },
    {
     "name": "stderr",
     "output_type": "stream",
     "text": [
      "Validation: 100%|██████████| 176/176 [01:41<00:00,  1.74it/s]\n"
     ]
    },
    {
     "name": "stdout",
     "output_type": "stream",
     "text": [
      "Validation Accuracy: 0.8056\n",
      "Epoch 9/10\n"
     ]
    },
    {
     "name": "stderr",
     "output_type": "stream",
     "text": [
      "Training: 100%|██████████| 702/702 [11:02<00:00,  1.06it/s]\n"
     ]
    },
    {
     "name": "stdout",
     "output_type": "stream",
     "text": [
      "Train Loss: 0.0730, Train Accuracy: 0.9774\n"
     ]
    },
    {
     "name": "stderr",
     "output_type": "stream",
     "text": [
      "Validation: 100%|██████████| 176/176 [01:39<00:00,  1.77it/s]\n"
     ]
    },
    {
     "name": "stdout",
     "output_type": "stream",
     "text": [
      "Validation Accuracy: 0.8104\n",
      "Epoch 10/10\n"
     ]
    },
    {
     "name": "stderr",
     "output_type": "stream",
     "text": [
      "Training: 100%|██████████| 702/702 [10:58<00:00,  1.07it/s]\n"
     ]
    },
    {
     "name": "stdout",
     "output_type": "stream",
     "text": [
      "Train Loss: 0.0636, Train Accuracy: 0.9791\n"
     ]
    },
    {
     "name": "stderr",
     "output_type": "stream",
     "text": [
      "Validation: 100%|██████████| 176/176 [01:39<00:00,  1.76it/s]\n"
     ]
    },
    {
     "name": "stdout",
     "output_type": "stream",
     "text": [
      "Validation Accuracy: 0.7956\n"
     ]
    },
    {
     "name": "stderr",
     "output_type": "stream",
     "text": [
      "Evaluating: 100%|██████████| 230/230 [02:47<00:00,  1.38it/s]\n"
     ]
    },
    {
     "name": "stdout",
     "output_type": "stream",
     "text": [
      "Test Accuracy: 0.8065\n",
      "Accuracy for fold 2: 0.8065\n",
      "Processing fold 3\n",
      "Fold 3:\n",
      "Train label count: Counter({6: 4223, 7: 3678, 0: 2687, 2: 2118, 3: 2102, 4: 2075, 1: 2023, 5: 1835, 8: 1707})\n",
      "Validation label count: Counter({6: 1029, 7: 886, 0: 688, 1: 552, 2: 547, 3: 516, 4: 500, 5: 480, 8: 414})\n"
     ]
    },
    {
     "name": "stderr",
     "output_type": "stream",
     "text": [
      "/usr/local/lib/python3.10/dist-packages/torchvision/models/_utils.py:208: UserWarning: The parameter 'pretrained' is deprecated since 0.13 and may be removed in the future, please use 'weights' instead.\n",
      "  warnings.warn(\n",
      "/usr/local/lib/python3.10/dist-packages/torchvision/models/_utils.py:223: UserWarning: Arguments other than a weight enum or `None` for 'weights' are deprecated since 0.13 and may be removed in the future. The current behavior is equivalent to passing `weights=ResNet152_Weights.IMAGENET1K_V1`. You can also use `weights=ResNet152_Weights.DEFAULT` to get the most up-to-date weights.\n",
      "  warnings.warn(msg)\n"
     ]
    },
    {
     "name": "stdout",
     "output_type": "stream",
     "text": [
      "Epoch 1/10\n"
     ]
    },
    {
     "name": "stderr",
     "output_type": "stream",
     "text": [
      "Training:   1%|          | 6/702 [00:04<08:43,  1.33it/s]/usr/local/lib/python3.10/dist-packages/PIL/Image.py:1056: UserWarning: Palette images with Transparency expressed in bytes should be converted to RGBA images\n",
      "  warnings.warn(\n",
      "Training: 100%|██████████| 702/702 [11:00<00:00,  1.06it/s]\n"
     ]
    },
    {
     "name": "stdout",
     "output_type": "stream",
     "text": [
      "Train Loss: 1.0209, Train Accuracy: 0.6542\n"
     ]
    },
    {
     "name": "stderr",
     "output_type": "stream",
     "text": [
      "Validation: 100%|██████████| 176/176 [01:48<00:00,  1.62it/s]\n"
     ]
    },
    {
     "name": "stdout",
     "output_type": "stream",
     "text": [
      "Validation Accuracy: 0.7382\n",
      "Epoch 2/10\n"
     ]
    },
    {
     "name": "stderr",
     "output_type": "stream",
     "text": [
      "Training: 100%|██████████| 702/702 [10:58<00:00,  1.07it/s]\n"
     ]
    },
    {
     "name": "stdout",
     "output_type": "stream",
     "text": [
      "Train Loss: 0.4688, Train Accuracy: 0.8480\n"
     ]
    },
    {
     "name": "stderr",
     "output_type": "stream",
     "text": [
      "Validation: 100%|██████████| 176/176 [01:47<00:00,  1.64it/s]\n"
     ]
    },
    {
     "name": "stdout",
     "output_type": "stream",
     "text": [
      "Validation Accuracy: 0.7732\n",
      "Epoch 3/10\n"
     ]
    },
    {
     "name": "stderr",
     "output_type": "stream",
     "text": [
      "Training: 100%|██████████| 702/702 [11:02<00:00,  1.06it/s]\n"
     ]
    },
    {
     "name": "stdout",
     "output_type": "stream",
     "text": [
      "Train Loss: 0.2493, Train Accuracy: 0.9193\n"
     ]
    },
    {
     "name": "stderr",
     "output_type": "stream",
     "text": [
      "Validation: 100%|██████████| 176/176 [01:48<00:00,  1.62it/s]\n"
     ]
    },
    {
     "name": "stdout",
     "output_type": "stream",
     "text": [
      "Validation Accuracy: 0.7762\n",
      "Epoch 4/10\n"
     ]
    },
    {
     "name": "stderr",
     "output_type": "stream",
     "text": [
      "Training: 100%|██████████| 702/702 [11:00<00:00,  1.06it/s]\n"
     ]
    },
    {
     "name": "stdout",
     "output_type": "stream",
     "text": [
      "Train Loss: 0.1566, Train Accuracy: 0.9496\n"
     ]
    },
    {
     "name": "stderr",
     "output_type": "stream",
     "text": [
      "Validation: 100%|██████████| 176/176 [01:45<00:00,  1.66it/s]\n"
     ]
    },
    {
     "name": "stdout",
     "output_type": "stream",
     "text": [
      "Validation Accuracy: 0.8072\n",
      "Epoch 5/10\n"
     ]
    },
    {
     "name": "stderr",
     "output_type": "stream",
     "text": [
      "Training: 100%|██████████| 702/702 [11:00<00:00,  1.06it/s]\n"
     ]
    },
    {
     "name": "stdout",
     "output_type": "stream",
     "text": [
      "Train Loss: 0.1080, Train Accuracy: 0.9644\n"
     ]
    },
    {
     "name": "stderr",
     "output_type": "stream",
     "text": [
      "Validation: 100%|██████████| 176/176 [01:47<00:00,  1.64it/s]\n"
     ]
    },
    {
     "name": "stdout",
     "output_type": "stream",
     "text": [
      "Validation Accuracy: 0.8029\n",
      "Epoch 6/10\n"
     ]
    },
    {
     "name": "stderr",
     "output_type": "stream",
     "text": [
      "Training: 100%|██████████| 702/702 [11:00<00:00,  1.06it/s]\n"
     ]
    },
    {
     "name": "stdout",
     "output_type": "stream",
     "text": [
      "Train Loss: 0.1153, Train Accuracy: 0.9620\n"
     ]
    },
    {
     "name": "stderr",
     "output_type": "stream",
     "text": [
      "Validation: 100%|██████████| 176/176 [01:46<00:00,  1.66it/s]\n"
     ]
    },
    {
     "name": "stdout",
     "output_type": "stream",
     "text": [
      "Validation Accuracy: 0.7903\n",
      "Epoch 7/10\n"
     ]
    },
    {
     "name": "stderr",
     "output_type": "stream",
     "text": [
      "Training: 100%|██████████| 702/702 [11:00<00:00,  1.06it/s]\n"
     ]
    },
    {
     "name": "stdout",
     "output_type": "stream",
     "text": [
      "Train Loss: 0.0745, Train Accuracy: 0.9753\n"
     ]
    },
    {
     "name": "stderr",
     "output_type": "stream",
     "text": [
      "Validation: 100%|██████████| 176/176 [01:49<00:00,  1.61it/s]\n"
     ]
    },
    {
     "name": "stdout",
     "output_type": "stream",
     "text": [
      "Validation Accuracy: 0.8124\n",
      "Epoch 8/10\n"
     ]
    },
    {
     "name": "stderr",
     "output_type": "stream",
     "text": [
      "Training: 100%|██████████| 702/702 [11:12<00:00,  1.04it/s]\n"
     ]
    },
    {
     "name": "stdout",
     "output_type": "stream",
     "text": [
      "Train Loss: 0.0834, Train Accuracy: 0.9724\n"
     ]
    },
    {
     "name": "stderr",
     "output_type": "stream",
     "text": [
      "Validation: 100%|██████████| 176/176 [01:49<00:00,  1.61it/s]\n"
     ]
    },
    {
     "name": "stdout",
     "output_type": "stream",
     "text": [
      "Validation Accuracy: 0.7806\n",
      "Epoch 9/10\n"
     ]
    },
    {
     "name": "stderr",
     "output_type": "stream",
     "text": [
      "Training: 100%|██████████| 702/702 [11:05<00:00,  1.05it/s]\n"
     ]
    },
    {
     "name": "stdout",
     "output_type": "stream",
     "text": [
      "Train Loss: 0.0760, Train Accuracy: 0.9754\n"
     ]
    },
    {
     "name": "stderr",
     "output_type": "stream",
     "text": [
      "Validation: 100%|██████████| 176/176 [01:47<00:00,  1.64it/s]\n"
     ]
    },
    {
     "name": "stdout",
     "output_type": "stream",
     "text": [
      "Validation Accuracy: 0.8104\n",
      "Epoch 10/10\n"
     ]
    },
    {
     "name": "stderr",
     "output_type": "stream",
     "text": [
      "Training: 100%|██████████| 702/702 [11:03<00:00,  1.06it/s]\n"
     ]
    },
    {
     "name": "stdout",
     "output_type": "stream",
     "text": [
      "Train Loss: 0.0600, Train Accuracy: 0.9802\n"
     ]
    },
    {
     "name": "stderr",
     "output_type": "stream",
     "text": [
      "Validation: 100%|██████████| 176/176 [01:45<00:00,  1.66it/s]\n"
     ]
    },
    {
     "name": "stdout",
     "output_type": "stream",
     "text": [
      "Validation Accuracy: 0.7924\n"
     ]
    },
    {
     "name": "stderr",
     "output_type": "stream",
     "text": [
      "Evaluating: 100%|██████████| 230/230 [02:42<00:00,  1.41it/s]\n"
     ]
    },
    {
     "name": "stdout",
     "output_type": "stream",
     "text": [
      "Test Accuracy: 0.8052\n",
      "Accuracy for fold 3: 0.8052\n",
      "Processing fold 4\n",
      "Fold 4:\n",
      "Train label count: Counter({6: 4229, 7: 3728, 0: 2695, 3: 2116, 2: 2109, 4: 2075, 1: 2013, 5: 1849, 8: 1665})\n",
      "Validation label count: Counter({6: 1028, 7: 872, 0: 687, 1: 547, 2: 542, 3: 530, 4: 511, 5: 476, 8: 427})\n"
     ]
    },
    {
     "name": "stderr",
     "output_type": "stream",
     "text": [
      "/usr/local/lib/python3.10/dist-packages/torchvision/models/_utils.py:208: UserWarning: The parameter 'pretrained' is deprecated since 0.13 and may be removed in the future, please use 'weights' instead.\n",
      "  warnings.warn(\n",
      "/usr/local/lib/python3.10/dist-packages/torchvision/models/_utils.py:223: UserWarning: Arguments other than a weight enum or `None` for 'weights' are deprecated since 0.13 and may be removed in the future. The current behavior is equivalent to passing `weights=ResNet152_Weights.IMAGENET1K_V1`. You can also use `weights=ResNet152_Weights.DEFAULT` to get the most up-to-date weights.\n",
      "  warnings.warn(msg)\n"
     ]
    },
    {
     "name": "stdout",
     "output_type": "stream",
     "text": [
      "Epoch 1/10\n"
     ]
    },
    {
     "name": "stderr",
     "output_type": "stream",
     "text": [
      "Training:   1%|          | 8/703 [00:08<12:06,  1.05s/it]/usr/local/lib/python3.10/dist-packages/PIL/Image.py:1056: UserWarning: Palette images with Transparency expressed in bytes should be converted to RGBA images\n",
      "  warnings.warn(\n",
      "Training: 100%|██████████| 703/703 [11:16<00:00,  1.04it/s]\n"
     ]
    },
    {
     "name": "stdout",
     "output_type": "stream",
     "text": [
      "Train Loss: 1.0438, Train Accuracy: 0.6473\n"
     ]
    },
    {
     "name": "stderr",
     "output_type": "stream",
     "text": [
      "Validation: 100%|██████████| 176/176 [01:41<00:00,  1.73it/s]\n"
     ]
    },
    {
     "name": "stdout",
     "output_type": "stream",
     "text": [
      "Validation Accuracy: 0.7297\n",
      "Epoch 2/10\n"
     ]
    },
    {
     "name": "stderr",
     "output_type": "stream",
     "text": [
      "Training: 100%|██████████| 703/703 [11:09<00:00,  1.05it/s]\n"
     ]
    },
    {
     "name": "stdout",
     "output_type": "stream",
     "text": [
      "Train Loss: 0.4836, Train Accuracy: 0.8410\n"
     ]
    },
    {
     "name": "stderr",
     "output_type": "stream",
     "text": [
      "Validation: 100%|██████████| 176/176 [01:44<00:00,  1.69it/s]\n"
     ]
    },
    {
     "name": "stdout",
     "output_type": "stream",
     "text": [
      "Validation Accuracy: 0.7865\n",
      "Epoch 3/10\n"
     ]
    },
    {
     "name": "stderr",
     "output_type": "stream",
     "text": [
      "Training: 100%|██████████| 703/703 [11:13<00:00,  1.04it/s]\n"
     ]
    },
    {
     "name": "stdout",
     "output_type": "stream",
     "text": [
      "Train Loss: 0.2554, Train Accuracy: 0.9190\n"
     ]
    },
    {
     "name": "stderr",
     "output_type": "stream",
     "text": [
      "Validation: 100%|██████████| 176/176 [01:42<00:00,  1.72it/s]\n"
     ]
    },
    {
     "name": "stdout",
     "output_type": "stream",
     "text": [
      "Validation Accuracy: 0.8011\n",
      "Epoch 4/10\n"
     ]
    },
    {
     "name": "stderr",
     "output_type": "stream",
     "text": [
      "Training: 100%|██████████| 703/703 [11:12<00:00,  1.04it/s]\n"
     ]
    },
    {
     "name": "stdout",
     "output_type": "stream",
     "text": [
      "Train Loss: 0.1631, Train Accuracy: 0.9480\n"
     ]
    },
    {
     "name": "stderr",
     "output_type": "stream",
     "text": [
      "Validation: 100%|██████████| 176/176 [01:46<00:00,  1.66it/s]\n"
     ]
    },
    {
     "name": "stdout",
     "output_type": "stream",
     "text": [
      "Validation Accuracy: 0.7838\n",
      "Epoch 5/10\n"
     ]
    },
    {
     "name": "stderr",
     "output_type": "stream",
     "text": [
      "Training: 100%|██████████| 703/703 [11:18<00:00,  1.04it/s]\n"
     ]
    },
    {
     "name": "stdout",
     "output_type": "stream",
     "text": [
      "Train Loss: 0.1220, Train Accuracy: 0.9612\n"
     ]
    },
    {
     "name": "stderr",
     "output_type": "stream",
     "text": [
      "Validation: 100%|██████████| 176/176 [01:41<00:00,  1.73it/s]\n"
     ]
    },
    {
     "name": "stdout",
     "output_type": "stream",
     "text": [
      "Validation Accuracy: 0.8023\n",
      "Epoch 6/10\n"
     ]
    },
    {
     "name": "stderr",
     "output_type": "stream",
     "text": [
      "Training: 100%|██████████| 703/703 [11:13<00:00,  1.04it/s]\n"
     ]
    },
    {
     "name": "stdout",
     "output_type": "stream",
     "text": [
      "Train Loss: 0.0978, Train Accuracy: 0.9685\n"
     ]
    },
    {
     "name": "stderr",
     "output_type": "stream",
     "text": [
      "Validation: 100%|██████████| 176/176 [01:44<00:00,  1.68it/s]\n"
     ]
    },
    {
     "name": "stdout",
     "output_type": "stream",
     "text": [
      "Validation Accuracy: 0.7731\n",
      "Epoch 7/10\n"
     ]
    },
    {
     "name": "stderr",
     "output_type": "stream",
     "text": [
      "Training: 100%|██████████| 703/703 [11:24<00:00,  1.03it/s]\n"
     ]
    },
    {
     "name": "stdout",
     "output_type": "stream",
     "text": [
      "Train Loss: 0.0904, Train Accuracy: 0.9703\n"
     ]
    },
    {
     "name": "stderr",
     "output_type": "stream",
     "text": [
      "Validation: 100%|██████████| 176/176 [01:47<00:00,  1.64it/s]\n"
     ]
    },
    {
     "name": "stdout",
     "output_type": "stream",
     "text": [
      "Validation Accuracy: 0.7859\n",
      "Epoch 8/10\n"
     ]
    },
    {
     "name": "stderr",
     "output_type": "stream",
     "text": [
      "Training: 100%|██████████| 703/703 [11:25<00:00,  1.03it/s]\n"
     ]
    },
    {
     "name": "stdout",
     "output_type": "stream",
     "text": [
      "Train Loss: 0.0833, Train Accuracy: 0.9737\n"
     ]
    },
    {
     "name": "stderr",
     "output_type": "stream",
     "text": [
      "Validation: 100%|██████████| 176/176 [01:50<00:00,  1.59it/s]\n"
     ]
    },
    {
     "name": "stdout",
     "output_type": "stream",
     "text": [
      "Validation Accuracy: 0.8117\n",
      "Epoch 9/10\n"
     ]
    },
    {
     "name": "stderr",
     "output_type": "stream",
     "text": [
      "Training: 100%|██████████| 703/703 [11:21<00:00,  1.03it/s]\n"
     ]
    },
    {
     "name": "stdout",
     "output_type": "stream",
     "text": [
      "Train Loss: 0.0669, Train Accuracy: 0.9788\n"
     ]
    },
    {
     "name": "stderr",
     "output_type": "stream",
     "text": [
      "Validation: 100%|██████████| 176/176 [01:42<00:00,  1.72it/s]\n"
     ]
    },
    {
     "name": "stdout",
     "output_type": "stream",
     "text": [
      "Validation Accuracy: 0.7893\n",
      "Epoch 10/10\n"
     ]
    },
    {
     "name": "stderr",
     "output_type": "stream",
     "text": [
      "Training: 100%|██████████| 703/703 [11:14<00:00,  1.04it/s]\n"
     ]
    },
    {
     "name": "stdout",
     "output_type": "stream",
     "text": [
      "Train Loss: 0.0660, Train Accuracy: 0.9786\n"
     ]
    },
    {
     "name": "stderr",
     "output_type": "stream",
     "text": [
      "Validation: 100%|██████████| 176/176 [01:47<00:00,  1.64it/s]\n"
     ]
    },
    {
     "name": "stdout",
     "output_type": "stream",
     "text": [
      "Validation Accuracy: 0.7813\n"
     ]
    },
    {
     "name": "stderr",
     "output_type": "stream",
     "text": [
      "Evaluating: 100%|██████████| 230/230 [02:44<00:00,  1.40it/s]\n"
     ]
    },
    {
     "name": "stdout",
     "output_type": "stream",
     "text": [
      "Test Accuracy: 0.7988\n",
      "Accuracy for fold 4: 0.7988\n",
      "Processing fold 5\n",
      "Fold 5:\n",
      "Train label count: Counter({6: 4227, 7: 3658, 0: 2688, 3: 2163, 2: 2127, 4: 2056, 1: 2015, 5: 1859, 8: 1699})\n",
      "Validation label count: Counter({6: 1027, 7: 921, 0: 687, 2: 554, 1: 545, 4: 521, 3: 477, 5: 460, 8: 432})\n"
     ]
    },
    {
     "name": "stderr",
     "output_type": "stream",
     "text": [
      "/usr/local/lib/python3.10/dist-packages/torchvision/models/_utils.py:208: UserWarning: The parameter 'pretrained' is deprecated since 0.13 and may be removed in the future, please use 'weights' instead.\n",
      "  warnings.warn(\n",
      "/usr/local/lib/python3.10/dist-packages/torchvision/models/_utils.py:223: UserWarning: Arguments other than a weight enum or `None` for 'weights' are deprecated since 0.13 and may be removed in the future. The current behavior is equivalent to passing `weights=ResNet152_Weights.IMAGENET1K_V1`. You can also use `weights=ResNet152_Weights.DEFAULT` to get the most up-to-date weights.\n",
      "  warnings.warn(msg)\n"
     ]
    },
    {
     "name": "stdout",
     "output_type": "stream",
     "text": [
      "Epoch 1/10\n"
     ]
    },
    {
     "name": "stderr",
     "output_type": "stream",
     "text": [
      "Training:   0%|          | 3/703 [00:02<10:28,  1.11it/s]/usr/local/lib/python3.10/dist-packages/PIL/Image.py:1056: UserWarning: Palette images with Transparency expressed in bytes should be converted to RGBA images\n",
      "  warnings.warn(\n",
      "Training: 100%|██████████| 703/703 [11:09<00:00,  1.05it/s]\n"
     ]
    },
    {
     "name": "stdout",
     "output_type": "stream",
     "text": [
      "Train Loss: 1.0237, Train Accuracy: 0.6503\n"
     ]
    },
    {
     "name": "stderr",
     "output_type": "stream",
     "text": [
      "Validation: 100%|██████████| 176/176 [01:51<00:00,  1.58it/s]\n"
     ]
    },
    {
     "name": "stdout",
     "output_type": "stream",
     "text": [
      "Validation Accuracy: 0.7664\n",
      "Epoch 2/10\n"
     ]
    },
    {
     "name": "stderr",
     "output_type": "stream",
     "text": [
      "Training: 100%|██████████| 703/703 [11:11<00:00,  1.05it/s]\n"
     ]
    },
    {
     "name": "stdout",
     "output_type": "stream",
     "text": [
      "Train Loss: 0.4719, Train Accuracy: 0.8450\n"
     ]
    },
    {
     "name": "stderr",
     "output_type": "stream",
     "text": [
      "Validation: 100%|██████████| 176/176 [01:50<00:00,  1.59it/s]\n"
     ]
    },
    {
     "name": "stdout",
     "output_type": "stream",
     "text": [
      "Validation Accuracy: 0.7948\n",
      "Epoch 3/10\n"
     ]
    },
    {
     "name": "stderr",
     "output_type": "stream",
     "text": [
      "Training: 100%|██████████| 703/703 [11:13<00:00,  1.04it/s]\n"
     ]
    },
    {
     "name": "stdout",
     "output_type": "stream",
     "text": [
      "Train Loss: 0.2433, Train Accuracy: 0.9216\n"
     ]
    },
    {
     "name": "stderr",
     "output_type": "stream",
     "text": [
      "Validation: 100%|██████████| 176/176 [01:51<00:00,  1.58it/s]\n"
     ]
    },
    {
     "name": "stdout",
     "output_type": "stream",
     "text": [
      "Validation Accuracy: 0.7900\n",
      "Epoch 4/10\n"
     ]
    },
    {
     "name": "stderr",
     "output_type": "stream",
     "text": [
      "Training: 100%|██████████| 703/703 [11:13<00:00,  1.04it/s]\n"
     ]
    },
    {
     "name": "stdout",
     "output_type": "stream",
     "text": [
      "Train Loss: 0.1611, Train Accuracy: 0.9467\n"
     ]
    },
    {
     "name": "stderr",
     "output_type": "stream",
     "text": [
      "Validation: 100%|██████████| 176/176 [01:46<00:00,  1.65it/s]\n"
     ]
    },
    {
     "name": "stdout",
     "output_type": "stream",
     "text": [
      "Validation Accuracy: 0.8067\n",
      "Epoch 5/10\n"
     ]
    },
    {
     "name": "stderr",
     "output_type": "stream",
     "text": [
      "Training: 100%|██████████| 703/703 [11:09<00:00,  1.05it/s]\n"
     ]
    },
    {
     "name": "stdout",
     "output_type": "stream",
     "text": [
      "Train Loss: 0.1172, Train Accuracy: 0.9638\n"
     ]
    },
    {
     "name": "stderr",
     "output_type": "stream",
     "text": [
      "Validation: 100%|██████████| 176/176 [01:51<00:00,  1.58it/s]\n"
     ]
    },
    {
     "name": "stdout",
     "output_type": "stream",
     "text": [
      "Validation Accuracy: 0.8092\n",
      "Epoch 6/10\n"
     ]
    },
    {
     "name": "stderr",
     "output_type": "stream",
     "text": [
      "Training: 100%|██████████| 703/703 [11:08<00:00,  1.05it/s]\n"
     ]
    },
    {
     "name": "stdout",
     "output_type": "stream",
     "text": [
      "Train Loss: 0.0999, Train Accuracy: 0.9675\n"
     ]
    },
    {
     "name": "stderr",
     "output_type": "stream",
     "text": [
      "Validation: 100%|██████████| 176/176 [01:47<00:00,  1.64it/s]\n"
     ]
    },
    {
     "name": "stdout",
     "output_type": "stream",
     "text": [
      "Validation Accuracy: 0.8074\n",
      "Epoch 7/10\n"
     ]
    },
    {
     "name": "stderr",
     "output_type": "stream",
     "text": [
      "Training: 100%|██████████| 703/703 [11:00<00:00,  1.06it/s]\n"
     ]
    },
    {
     "name": "stdout",
     "output_type": "stream",
     "text": [
      "Train Loss: 0.0848, Train Accuracy: 0.9724\n"
     ]
    },
    {
     "name": "stderr",
     "output_type": "stream",
     "text": [
      "Validation: 100%|██████████| 176/176 [01:46<00:00,  1.65it/s]\n"
     ]
    },
    {
     "name": "stdout",
     "output_type": "stream",
     "text": [
      "Validation Accuracy: 0.8129\n",
      "Epoch 8/10\n"
     ]
    },
    {
     "name": "stderr",
     "output_type": "stream",
     "text": [
      "Training: 100%|██████████| 703/703 [11:00<00:00,  1.06it/s]\n"
     ]
    },
    {
     "name": "stdout",
     "output_type": "stream",
     "text": [
      "Train Loss: 0.0848, Train Accuracy: 0.9722\n"
     ]
    },
    {
     "name": "stderr",
     "output_type": "stream",
     "text": [
      "Validation: 100%|██████████| 176/176 [01:47<00:00,  1.64it/s]\n"
     ]
    },
    {
     "name": "stdout",
     "output_type": "stream",
     "text": [
      "Validation Accuracy: 0.7767\n",
      "Epoch 9/10\n"
     ]
    },
    {
     "name": "stderr",
     "output_type": "stream",
     "text": [
      "Training: 100%|██████████| 703/703 [11:04<00:00,  1.06it/s]\n"
     ]
    },
    {
     "name": "stdout",
     "output_type": "stream",
     "text": [
      "Train Loss: 0.0800, Train Accuracy: 0.9733\n"
     ]
    },
    {
     "name": "stderr",
     "output_type": "stream",
     "text": [
      "Validation: 100%|██████████| 176/176 [01:46<00:00,  1.65it/s]\n"
     ]
    },
    {
     "name": "stdout",
     "output_type": "stream",
     "text": [
      "Validation Accuracy: 0.7859\n",
      "Epoch 10/10\n"
     ]
    },
    {
     "name": "stderr",
     "output_type": "stream",
     "text": [
      "Training: 100%|██████████| 703/703 [11:03<00:00,  1.06it/s]\n"
     ]
    },
    {
     "name": "stdout",
     "output_type": "stream",
     "text": [
      "Train Loss: 0.0657, Train Accuracy: 0.9788\n"
     ]
    },
    {
     "name": "stderr",
     "output_type": "stream",
     "text": [
      "Validation: 100%|██████████| 176/176 [01:45<00:00,  1.66it/s]\n"
     ]
    },
    {
     "name": "stdout",
     "output_type": "stream",
     "text": [
      "Validation Accuracy: 0.8009\n"
     ]
    },
    {
     "name": "stderr",
     "output_type": "stream",
     "text": [
      "Evaluating: 100%|██████████| 230/230 [02:43<00:00,  1.40it/s]\n"
     ]
    },
    {
     "name": "stdout",
     "output_type": "stream",
     "text": [
      "Test Accuracy: 0.8140\n",
      "Accuracy for fold 5: 0.8140\n",
      "Average Accuracy: 0.8099\n"
     ]
    },
    {
     "data": {
      "image/png": "[encoded data removed]",
      "text/plain": [
       "<Figure size 1200x500 with 2 Axes>"
      ]
     },
     "metadata": {},
     "output_type": "display_data"
    },
    {
     "data": {
      "image/png": "[encoded data removed]",
      "text/plain": [
       "<Figure size 1200x500 with 2 Axes>"
      ]
     },
     "metadata": {},
     "output_type": "display_data"
    },
    {
     "data": {
      "image/png": "[encoded data removed]",
      "text/plain": [
       "<Figure size 1200x500 with 2 Axes>"
      ]
     },
     "metadata": {},
     "output_type": "display_data"
    },
    {
     "data": {
      "image/png": "[encoded data removed]",
      "text/plain": [
       "<Figure size 1200x500 with 2 Axes>"
      ]
     },
     "metadata": {},
     "output_type": "display_data"
    },
    {
     "data": {
      "image/png": "[encoded data removed]",
      "text/plain": [
       "<Figure size 1200x500 with 2 Axes>"
      ]
     },
     "metadata": {},
     "output_type": "display_data"
    },
    {
     "ename": "TypeError",
     "evalue": "cannot unpack non-iterable NoneType object",
     "output_type": "error",
     "traceback": [
      "\u001b[0;31m---------------------------------------------------------------------------\u001b[0m",
      "\u001b[0;31mTypeError\u001b[0m                                 Traceback (most recent call last)",
      "\u001b[0;32m<ipython-input-21-519eab5fd4a2>\u001b[0m in \u001b[0;36m<cell line: 1>\u001b[0;34m()\u001b[0m\n\u001b[1;32m     11\u001b[0m     \u001b[0;31m# }\u001b[0m\u001b[0;34m\u001b[0m\u001b[0;34m\u001b[0m\u001b[0m\n\u001b[1;32m     12\u001b[0m \u001b[0;34m\u001b[0m\u001b[0m\n\u001b[0;32m---> 13\u001b[0;31m     \u001b[0maccuracies\u001b[0m\u001b[0;34m,\u001b[0m \u001b[0maverage_accuracy\u001b[0m \u001b[0;34m=\u001b[0m \u001b[0mrun_cross_validation\u001b[0m\u001b[0;34m(\u001b[0m\u001b[0merror_paths\u001b[0m\u001b[0;34m,\u001b[0m \u001b[0mdata_transforms\u001b[0m\u001b[0;34m,\u001b[0m \u001b[0mdevice\u001b[0m\u001b[0;34m)\u001b[0m\u001b[0;34m\u001b[0m\u001b[0;34m\u001b[0m\u001b[0m\n\u001b[0m",
      "\u001b[0;31mTypeError\u001b[0m: cannot unpack non-iterable NoneType object"
     ]
    }
   ],
   "source": [
    "if __name__ == \"__main__\":\n",
    "    device = torch.device(\"cuda\" if torch.cuda.is_available() else \"cpu\")\n",
    "\n",
    "    # Đảm bảo có danh sách error_paths và data_transforms\n",
    "    # Ví dụ:\n",
    "    # error_paths = [\"path1\", \"path2\", ...]\n",
    "    # data_transforms = {\n",
    "    #     'train': transforms.Compose([...]),\n",
    "    #     'val': transforms.Compose([...]),\n",
    "    #     'test': transforms.Compose([...])\n",
    "    # }\n",
    "\n",
    "    accuracies, average_accuracy = run_cross_validation(error_paths, data_transforms, device)"
   ]
  }
 ],
 "metadata": {
  "kaggle": {
   "accelerator": "none",
   "dataSources": [
    {
     "datasetId": 6444721,
     "sourceId": 10401084,
     "sourceType": "datasetVersion"
    }
   ],
   "dockerImageVersionId": 30823,
   "isGpuEnabled": false,
   "isInternetEnabled": true,
   "language": "python",
   "sourceType": "notebook"
  },
  "kernelspec": {
   "display_name": "Python 3",
   "language": "python",
   "name": "python3"
  },
  "language_info": {
   "codemirror_mode": {
    "name": "ipython",
    "version": 3
   },
   "file_extension": ".py",
   "mimetype": "text/x-python",
   "name": "python",
   "nbconvert_exporter": "python",
   "pygments_lexer": "ipython3",
   "version": "3.10.12"
  },
  "papermill": {
   "default_parameters": {},
   "duration": 40681.157246,
   "end_time": "2025-01-09T12:10:21.470524",
   "environment_variables": {},
   "exception": true,
   "input_path": "__notebook__.ipynb",
   "output_path": "__notebook__.ipynb",
   "parameters": {},
   "start_time": "2025-01-09T00:52:20.313278",
   "version": "2.6.0"
  }
 },
 "nbformat": 4,
 "nbformat_minor": 5
}
